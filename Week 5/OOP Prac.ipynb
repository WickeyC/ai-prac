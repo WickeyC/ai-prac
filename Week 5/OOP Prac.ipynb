{
 "cells": [
  {
   "cell_type": "code",
   "execution_count": 1,
   "id": "926a68e7",
   "metadata": {},
   "outputs": [],
   "source": [
    "class Fish:\n",
    "    pass"
   ]
  },
  {
   "cell_type": "code",
   "execution_count": 2,
   "id": "8210b049",
   "metadata": {},
   "outputs": [],
   "source": [
    "class Fish(object):\n",
    "    pass"
   ]
  },
  {
   "cell_type": "code",
   "execution_count": 3,
   "id": "b1dff575",
   "metadata": {},
   "outputs": [],
   "source": [
    "fish_1 = Fish()\n",
    "fish_2 = Fish()"
   ]
  },
  {
   "cell_type": "code",
   "execution_count": 4,
   "id": "6c07f1a8",
   "metadata": {},
   "outputs": [],
   "source": [
    "fish_1.name = \"Sam\"\n",
    "fish_2.name = \"John\""
   ]
  },
  {
   "cell_type": "code",
   "execution_count": 6,
   "id": "9fb98223",
   "metadata": {},
   "outputs": [
    {
     "name": "stdout",
     "output_type": "stream",
     "text": [
      "Sam\n",
      "John\n"
     ]
    }
   ],
   "source": [
    "print(fish_1.name)\n",
    "print(fish_2.name)"
   ]
  },
  {
   "cell_type": "code",
   "execution_count": 7,
   "id": "1e3b24b6",
   "metadata": {},
   "outputs": [
    {
     "ename": "AttributeError",
     "evalue": "'Fish' object has no attribute 'name'",
     "output_type": "error",
     "traceback": [
      "\u001b[1;31m---------------------------------------------------------------------------\u001b[0m",
      "\u001b[1;31mAttributeError\u001b[0m                            Traceback (most recent call last)",
      "\u001b[1;32m~\\AppData\\Local\\Temp\\ipykernel_11948\\20438245.py\u001b[0m in \u001b[0;36m<module>\u001b[1;34m\u001b[0m\n\u001b[0;32m      1\u001b[0m \u001b[0mfish_3\u001b[0m \u001b[1;33m=\u001b[0m \u001b[0mFish\u001b[0m\u001b[1;33m(\u001b[0m\u001b[1;33m)\u001b[0m\u001b[1;33m\u001b[0m\u001b[1;33m\u001b[0m\u001b[0m\n\u001b[1;32m----> 2\u001b[1;33m \u001b[0mprint\u001b[0m\u001b[1;33m(\u001b[0m\u001b[0mfish_3\u001b[0m\u001b[1;33m.\u001b[0m\u001b[0mname\u001b[0m\u001b[1;33m)\u001b[0m\u001b[1;33m\u001b[0m\u001b[1;33m\u001b[0m\u001b[0m\n\u001b[0m",
      "\u001b[1;31mAttributeError\u001b[0m: 'Fish' object has no attribute 'name'"
     ]
    }
   ],
   "source": [
    "fish_3 = Fish()\n",
    "print(fish_3.name)"
   ]
  },
  {
   "cell_type": "code",
   "execution_count": 10,
   "id": "2cb840df",
   "metadata": {},
   "outputs": [
    {
     "name": "stdout",
     "output_type": "stream",
     "text": [
      "{'name': 'Sam'}\n",
      "{'name': 'John'}\n",
      "{}\n"
     ]
    }
   ],
   "source": [
    "print(fish_1.__dict__)\n",
    "print(fish_2.__dict__)\n",
    "print(fish_3.__dict__)"
   ]
  },
  {
   "cell_type": "code",
   "execution_count": 20,
   "id": "5e297cf4",
   "metadata": {},
   "outputs": [],
   "source": [
    "class Fish:\n",
    "    def __init__(self, first_name, last_name):\n",
    "        self.first_name = first_name\n",
    "        self.last_name = last_name"
   ]
  },
  {
   "cell_type": "code",
   "execution_count": 21,
   "id": "2db7e7e6",
   "metadata": {},
   "outputs": [
    {
     "name": "stdout",
     "output_type": "stream",
     "text": [
      "Sam Fish\n"
     ]
    }
   ],
   "source": [
    "fish_1 = Fish(\"Sam\", \"Fish\")\n",
    "print(fish_1.first_name, fish_1.last_name)"
   ]
  },
  {
   "cell_type": "code",
   "execution_count": 22,
   "id": "dc457118",
   "metadata": {},
   "outputs": [
    {
     "name": "stdout",
     "output_type": "stream",
     "text": [
      "{'first_name': 'Sam', 'last_name': 'Fish'}\n"
     ]
    }
   ],
   "source": [
    "print(fish_1.__dict__)"
   ]
  },
  {
   "cell_type": "code",
   "execution_count": 23,
   "id": "be1c2233",
   "metadata": {},
   "outputs": [
    {
     "name": "stdout",
     "output_type": "stream",
     "text": [
      "<__main__.Fish object at 0x000002C8BABF8DF0>\n"
     ]
    }
   ],
   "source": [
    "print(fish_1)"
   ]
  },
  {
   "cell_type": "code",
   "execution_count": 24,
   "id": "5c0705e0",
   "metadata": {},
   "outputs": [],
   "source": [
    "class Fish:\n",
    "    def __init__(self, first_name, last_name):\n",
    "        self.first_name = first_name\n",
    "        self.last_name = last_name\n",
    "        \n",
    "    def __repr__(self):\n",
    "        return \"{} is an instance of the Fish class\".format(self.first_name + \" \" + self.last_name)"
   ]
  },
  {
   "cell_type": "code",
   "execution_count": 25,
   "id": "cbde826e",
   "metadata": {},
   "outputs": [
    {
     "name": "stdout",
     "output_type": "stream",
     "text": [
      "John Fish is an instance of the Fish class\n"
     ]
    }
   ],
   "source": [
    "fish_2 = Fish(\"John\", \"Fish\")\n",
    "print(fish_2)"
   ]
  },
  {
   "cell_type": "code",
   "execution_count": 52,
   "id": "61a31d32",
   "metadata": {},
   "outputs": [],
   "source": [
    "class Fish:\n",
    "    def __init__(self, first_name, last_name):\n",
    "        self.first_name = first_name\n",
    "        self.last_name = last_name\n",
    "        \n",
    "    def __repr__(self):\n",
    "        return \"{} is an instance of the Fish class\".format(self.first_name + \" \" + self.last_name)\n",
    "    \n",
    "    def swim(self):\n",
    "        return \"The fish is swimming.\"\n",
    "\n",
    "    def swim_backwards(self):\n",
    "        return \"The fish can swim backwards.\""
   ]
  },
  {
   "cell_type": "code",
   "execution_count": 53,
   "id": "2b92b625",
   "metadata": {},
   "outputs": [
    {
     "name": "stdout",
     "output_type": "stream",
     "text": [
      "Jack Fish is an instance of the Fish class\n",
      "The fish is swimming.\n",
      "The fish can swim backwards.\n"
     ]
    }
   ],
   "source": [
    "fish_3 = Fish(\"Jack\", \"Fish\")\n",
    "print(fish_3)\n",
    "print(fish_3.swim())\n",
    "print(fish_3.swim_backwards())"
   ]
  },
  {
   "cell_type": "code",
   "execution_count": 54,
   "id": "5fd31cb3",
   "metadata": {},
   "outputs": [],
   "source": [
    "class Trout(Fish):\n",
    "    pass"
   ]
  },
  {
   "cell_type": "code",
   "execution_count": 56,
   "id": "68171df8",
   "metadata": {},
   "outputs": [
    {
     "ename": "TypeError",
     "evalue": "__init__() missing 1 required positional argument: 'last_name'",
     "output_type": "error",
     "traceback": [
      "\u001b[1;31m---------------------------------------------------------------------------\u001b[0m",
      "\u001b[1;31mTypeError\u001b[0m                                 Traceback (most recent call last)",
      "\u001b[1;32m~\\AppData\\Local\\Temp\\ipykernel_11948\\2986863552.py\u001b[0m in \u001b[0;36m<module>\u001b[1;34m\u001b[0m\n\u001b[1;32m----> 1\u001b[1;33m \u001b[0mterry\u001b[0m \u001b[1;33m=\u001b[0m \u001b[0mTrout\u001b[0m\u001b[1;33m(\u001b[0m\u001b[1;34m\"Terry\"\u001b[0m\u001b[1;33m)\u001b[0m\u001b[1;33m\u001b[0m\u001b[1;33m\u001b[0m\u001b[0m\n\u001b[0m",
      "\u001b[1;31mTypeError\u001b[0m: __init__() missing 1 required positional argument: 'last_name'"
     ]
    }
   ],
   "source": [
    "terry = Trout(\"Terry\")"
   ]
  },
  {
   "cell_type": "code",
   "execution_count": 57,
   "id": "a9f7709e",
   "metadata": {},
   "outputs": [],
   "source": [
    "class Fish:\n",
    "    def __init__(self, first_name = \"\", last_name = \"Fish\"):\n",
    "        self.first_name = first_name\n",
    "        self.last_name = last_name\n",
    "        \n",
    "    def __repr__(self):\n",
    "        return \"{} is an instance of the Fish class\".format(self.first_name + \" \" + self.last_name)\n",
    "    \n",
    "    def swim(self):\n",
    "        return \"The fish is swimming.\"\n",
    "\n",
    "    def swim_backwards(self):\n",
    "        return \"The fish can swim backwards.\"\n",
    "\n",
    "class Trout(Fish):\n",
    "    pass"
   ]
  },
  {
   "cell_type": "code",
   "execution_count": 60,
   "id": "65a9ef06",
   "metadata": {},
   "outputs": [
    {
     "name": "stdout",
     "output_type": "stream",
     "text": [
      "Terry Fish is an instance of the Fish class\n",
      "The fish is swimming.\n",
      "The fish can swim backwards.\n"
     ]
    }
   ],
   "source": [
    "terry = Trout(\"Terry\")\n",
    "print(terry)\n",
    "print(terry.swim())\n",
    "print(terry.swim_backwards())"
   ]
  },
  {
   "cell_type": "code",
   "execution_count": 66,
   "id": "21af2d68",
   "metadata": {},
   "outputs": [],
   "source": [
    "class Clownfish(Fish):\n",
    "#no need to use pass keyword anymore\n",
    "    def live_with_anemone(self):\n",
    "        return \"The clownfish is coexisting with sea anemone.\"\n",
    "        \n",
    "#excute this code segment"
   ]
  },
  {
   "cell_type": "code",
   "execution_count": 67,
   "id": "c0573600",
   "metadata": {},
   "outputs": [
    {
     "name": "stdout",
     "output_type": "stream",
     "text": [
      "Cassey Fish is an instance of the Fish class\n",
      "The fish is swimming.\n",
      "The fish can swim backwards.\n",
      "The clownfish is coexisting with sea anemone.\n"
     ]
    }
   ],
   "source": [
    "cassey = Clownfish(\"Cassey\")\n",
    "print(cassey)\n",
    "print(cassey.swim())\n",
    "print(cassey.swim_backwards())\n",
    "print(cassey.live_with_anemone())"
   ]
  },
  {
   "cell_type": "code",
   "execution_count": 68,
   "id": "cc5bf017",
   "metadata": {},
   "outputs": [
    {
     "ename": "AttributeError",
     "evalue": "'Trout' object has no attribute 'live_with_anemone'",
     "output_type": "error",
     "traceback": [
      "\u001b[1;31m---------------------------------------------------------------------------\u001b[0m",
      "\u001b[1;31mAttributeError\u001b[0m                            Traceback (most recent call last)",
      "\u001b[1;32m~\\AppData\\Local\\Temp\\ipykernel_11948\\204216837.py\u001b[0m in \u001b[0;36m<module>\u001b[1;34m\u001b[0m\n\u001b[1;32m----> 1\u001b[1;33m \u001b[0mprint\u001b[0m\u001b[1;33m(\u001b[0m\u001b[0mterry\u001b[0m\u001b[1;33m.\u001b[0m\u001b[0mlive_with_anemone\u001b[0m\u001b[1;33m(\u001b[0m\u001b[1;33m)\u001b[0m\u001b[1;33m)\u001b[0m\u001b[1;33m\u001b[0m\u001b[1;33m\u001b[0m\u001b[0m\n\u001b[0m",
      "\u001b[1;31mAttributeError\u001b[0m: 'Trout' object has no attribute 'live_with_anemone'"
     ]
    }
   ],
   "source": [
    "print(terry.live_with_anemone())"
   ]
  },
  {
   "cell_type": "code",
   "execution_count": 69,
   "id": "b9acc304",
   "metadata": {},
   "outputs": [
    {
     "name": "stdout",
     "output_type": "stream",
     "text": [
      "Help on class Trout in module __main__:\n",
      "\n",
      "class Trout(Fish)\n",
      " |  Trout(first_name='', last_name='Fish')\n",
      " |  \n",
      " |  Method resolution order:\n",
      " |      Trout\n",
      " |      Fish\n",
      " |      builtins.object\n",
      " |  \n",
      " |  Methods inherited from Fish:\n",
      " |  \n",
      " |  __init__(self, first_name='', last_name='Fish')\n",
      " |      Initialize self.  See help(type(self)) for accurate signature.\n",
      " |  \n",
      " |  __repr__(self)\n",
      " |      Return repr(self).\n",
      " |  \n",
      " |  swim(self)\n",
      " |  \n",
      " |  swim_backwards(self)\n",
      " |  \n",
      " |  ----------------------------------------------------------------------\n",
      " |  Data descriptors inherited from Fish:\n",
      " |  \n",
      " |  __dict__\n",
      " |      dictionary for instance variables (if defined)\n",
      " |  \n",
      " |  __weakref__\n",
      " |      list of weak references to the object (if defined)\n",
      "\n",
      "None\n",
      "Help on class Clownfish in module __main__:\n",
      "\n",
      "class Clownfish(Fish)\n",
      " |  Clownfish(first_name='', last_name='Fish')\n",
      " |  \n",
      " |  Method resolution order:\n",
      " |      Clownfish\n",
      " |      Fish\n",
      " |      builtins.object\n",
      " |  \n",
      " |  Methods defined here:\n",
      " |  \n",
      " |  live_with_anemone(self)\n",
      " |  \n",
      " |  ----------------------------------------------------------------------\n",
      " |  Methods inherited from Fish:\n",
      " |  \n",
      " |  __init__(self, first_name='', last_name='Fish')\n",
      " |      Initialize self.  See help(type(self)) for accurate signature.\n",
      " |  \n",
      " |  __repr__(self)\n",
      " |      Return repr(self).\n",
      " |  \n",
      " |  swim(self)\n",
      " |  \n",
      " |  swim_backwards(self)\n",
      " |  \n",
      " |  ----------------------------------------------------------------------\n",
      " |  Data descriptors inherited from Fish:\n",
      " |  \n",
      " |  __dict__\n",
      " |      dictionary for instance variables (if defined)\n",
      " |  \n",
      " |  __weakref__\n",
      " |      list of weak references to the object (if defined)\n",
      "\n",
      "None\n"
     ]
    }
   ],
   "source": [
    "print(help(Trout))\n",
    "print(help(Clownfish))"
   ]
  },
  {
   "cell_type": "code",
   "execution_count": 70,
   "id": "ad7252a6",
   "metadata": {},
   "outputs": [],
   "source": [
    "class Shark(Fish):\n",
    "    \n",
    "    def __init__(self, first_name, last_name=\"Shark\",  #overrride attribute totally\n",
    "                 skeleton=\"cartilage\", eyelids=True):\n",
    "        self.first_name = first_name\n",
    "        self.last_name = last_name\n",
    "        self.skeleton = skeleton\n",
    "        self.eyelids = eyelids  #still inherit the parent's method \"swim\"\n",
    "\n",
    "    def swim_backwards(self):\n",
    "        print(\"The shark cannot swim backwards, but can sink backwards.\")\n",
    "        \n",
    "#excute this code segment"
   ]
  },
  {
   "cell_type": "code",
   "execution_count": 74,
   "id": "217b6f52",
   "metadata": {},
   "outputs": [
    {
     "name": "stdout",
     "output_type": "stream",
     "text": [
      "Sammy Shark\n",
      "The shark cannot swim backwards, but can sink backwards.\n",
      "True\n",
      "cartilage\n"
     ]
    },
    {
     "data": {
      "text/plain": [
       "'Sammy Shark is an instance of the Fish class'"
      ]
     },
     "execution_count": 74,
     "metadata": {},
     "output_type": "execute_result"
    }
   ],
   "source": [
    "sammy = Shark(\"Sammy\")\n",
    "print(sammy.first_name + \" \" + sammy.last_name)\n",
    "sammy.swim()  #inherite parent's method\n",
    "sammy.swim_backwards()   #child's method\n",
    "print(sammy.eyelids) #inherite parent's properties\n",
    "print(sammy.skeleton)\n",
    "repr(sammy)\n",
    "\n",
    "#excute this code segment and see the output"
   ]
  },
  {
   "cell_type": "code",
   "execution_count": 75,
   "id": "b1b87b7e",
   "metadata": {},
   "outputs": [
    {
     "name": "stdout",
     "output_type": "stream",
     "text": [
      "Help on class Shark in module __main__:\n",
      "\n",
      "class Shark(Fish)\n",
      " |  Shark(first_name, last_name='Shark', skeleton='cartilage', eyelids=True)\n",
      " |  \n",
      " |  Method resolution order:\n",
      " |      Shark\n",
      " |      Fish\n",
      " |      builtins.object\n",
      " |  \n",
      " |  Methods defined here:\n",
      " |  \n",
      " |  __init__(self, first_name, last_name='Shark', skeleton='cartilage', eyelids=True)\n",
      " |      Initialize self.  See help(type(self)) for accurate signature.\n",
      " |  \n",
      " |  swim_backwards(self)\n",
      " |  \n",
      " |  ----------------------------------------------------------------------\n",
      " |  Methods inherited from Fish:\n",
      " |  \n",
      " |  __repr__(self)\n",
      " |      Return repr(self).\n",
      " |  \n",
      " |  swim(self)\n",
      " |  \n",
      " |  ----------------------------------------------------------------------\n",
      " |  Data descriptors inherited from Fish:\n",
      " |  \n",
      " |  __dict__\n",
      " |      dictionary for instance variables (if defined)\n",
      " |  \n",
      " |  __weakref__\n",
      " |      list of weak references to the object (if defined)\n",
      "\n"
     ]
    }
   ],
   "source": [
    "help((Shark))"
   ]
  },
  {
   "cell_type": "code",
   "execution_count": 102,
   "id": "cd9598bb",
   "metadata": {},
   "outputs": [],
   "source": [
    "class Trout(Fish):\n",
    "    \n",
    "    def __init__(self, fresh_water = True):\n",
    "        self.fresh_water = fresh_water\n",
    "        super().__init__(self) #inherit the properties/attribute from parent's class\n",
    "        \n",
    "#excute this code segment"
   ]
  },
  {
   "cell_type": "code",
   "execution_count": 81,
   "id": "d9260f99",
   "metadata": {},
   "outputs": [
    {
     "name": "stdout",
     "output_type": "stream",
     "text": [
      "Terry Fish\n",
      "True\n"
     ]
    },
    {
     "data": {
      "text/plain": [
       "'The fish is swimming.'"
      ]
     },
     "execution_count": 81,
     "metadata": {},
     "output_type": "execute_result"
    }
   ],
   "source": [
    "terry = Trout()\n",
    "\n",
    "# Initialize first name\n",
    "terry.first_name = \"Terry\"\n",
    "\n",
    "# Use parent __init__() through super()\n",
    "print(terry.first_name + \" \" + terry.last_name)\n",
    "\n",
    "# Use child __init__() override\n",
    "print(terry.fresh_water)\n",
    "\n",
    "# Use parent swim() method\n",
    "terry.swim()\n",
    "\n",
    "#excute this code segment and see the output"
   ]
  },
  {
   "cell_type": "code",
   "execution_count": 88,
   "id": "1020c581",
   "metadata": {},
   "outputs": [
    {
     "name": "stdout",
     "output_type": "stream",
     "text": [
      "Help on built-in function isinstance in module builtins:\n",
      "\n",
      "isinstance(obj, class_or_tuple, /)\n",
      "    Return whether an object is an instance of a class or of a subclass thereof.\n",
      "    \n",
      "    A tuple, as in ``isinstance(x, (A, B, ...))``, may be given as the target to\n",
      "    check against. This is equivalent to ``isinstance(x, A) or isinstance(x, B)\n",
      "    or ...`` etc.\n",
      "\n",
      "True\n"
     ]
    }
   ],
   "source": [
    "help(isinstance)\n",
    "print(isinstance(terry, Trout))"
   ]
  },
  {
   "cell_type": "code",
   "execution_count": 91,
   "id": "9c79eaff",
   "metadata": {},
   "outputs": [
    {
     "name": "stdout",
     "output_type": "stream",
     "text": [
      "Help on built-in function issubclass in module builtins:\n",
      "\n",
      "issubclass(cls, class_or_tuple, /)\n",
      "    Return whether 'cls' is a derived from another class or is the same class.\n",
      "    \n",
      "    A tuple, as in ``issubclass(x, (A, B, ...))``, may be given as the target to\n",
      "    check against. This is equivalent to ``issubclass(x, A) or issubclass(x, B)\n",
      "    or ...`` etc.\n",
      "\n",
      "True\n"
     ]
    }
   ],
   "source": [
    "help(issubclass)\n",
    "print(issubclass(Trout, Fish))"
   ]
  },
  {
   "cell_type": "code",
   "execution_count": 92,
   "id": "4520f4f2",
   "metadata": {},
   "outputs": [
    {
     "name": "stdout",
     "output_type": "stream",
     "text": [
      "True\n",
      "False\n",
      "True\n"
     ]
    }
   ],
   "source": [
    "print(issubclass(Fish, Fish))\n",
    "print(issubclass(Fish, Trout))\n",
    "print(issubclass(Trout, Fish))"
   ]
  },
  {
   "cell_type": "code",
   "execution_count": 101,
   "id": "91531ba4",
   "metadata": {},
   "outputs": [
    {
     "name": "stdout",
     "output_type": "stream",
     "text": [
      "Spiderman is a human\n",
      "Spiderman is a superhero\n"
     ]
    }
   ],
   "source": [
    "class Human:\n",
    "    def __init__(self, name):\n",
    "        self.name = name\n",
    "        print(\"{} is a human\".format(self.name))\n",
    "\n",
    "class Superhero:\n",
    "    def __init__(self, name):\n",
    "        self.name = name\n",
    "        print(\"{} is a superhero\".format(self.name))\n",
    "\n",
    "class Avenger(Human, Superhero):\n",
    "    def __init__(self, name):\n",
    "        #super().__init__(name)\n",
    "        Human.__init__(self, name)\n",
    "        Superhero.__init__(self, name)\n",
    "\n",
    "spiderman = Avenger(\"Spiderman\")"
   ]
  },
  {
   "cell_type": "code",
   "execution_count": null,
   "id": "238fd431",
   "metadata": {},
   "outputs": [],
   "source": []
  }
 ],
 "metadata": {
  "kernelspec": {
   "display_name": "Python 3 (ipykernel)",
   "language": "python",
   "name": "python3"
  },
  "language_info": {
   "codemirror_mode": {
    "name": "ipython",
    "version": 3
   },
   "file_extension": ".py",
   "mimetype": "text/x-python",
   "name": "python",
   "nbconvert_exporter": "python",
   "pygments_lexer": "ipython3",
   "version": "3.9.13"
  }
 },
 "nbformat": 4,
 "nbformat_minor": 5
}
