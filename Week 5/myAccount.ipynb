{
 "cells": [
  {
   "cell_type": "markdown",
   "metadata": {},
   "source": [
    "## Section A: Modules\n",
    "\n",
    "A module is a Python file with some functions or variables in it. Module is the file to be imported, so that you can access the functions or variables in that module, with the '.' (dot) operator.\n",
    "\n",
    "<font color='blue'>__Now create a module named \"account.py\" and define a function named \"setBalance\".</font> Make sure it is in the same directory with the current .ipynb file.__ \n",
    "\n",
    "The code in account.py intends to create a global variable called balance. The function setBalance() accepts a parameter called bal, and to update the balance based on the given parameter value.\n",
    "<br>\n",
    "<br>\n",
    "__Create another module called \"myAccount.py\" to import the account module.__ \n"
   ]
  },
  {
   "cell_type": "markdown",
   "metadata": {},
   "source": [
    "<div class=\"alert alert-block alert-warning\">\n",
    "    <h2>what to write in the account.py</h2>\n",
    "#account.py <br>\n",
    "balance = 10.0\n",
    "\n",
    "def setBalance(bal): <br>\n",
    "&nbsp;&nbsp;&nbsp;&nbsp; balance=bal<br>\n",
    "&nbsp;&nbsp;&nbsp;&nbsp; print (\"The balance in the function: \", balance)\n",
    "</div>"
   ]
  },
  {
   "cell_type": "code",
   "execution_count": null,
   "metadata": {},
   "outputs": [],
   "source": [
    "import account\n",
    "\n",
    "accountID = input(\"Enter the account no: \")\n",
    "balance = int(input(\"Enter the new balance: \"))\n",
    "\n",
    "account.setBalance(balance) # call the function setBalance in the account module\n",
    "\n",
    "print (\"The new balance in myAccount: \", account.balance)"
   ]
  },
  {
   "cell_type": "markdown",
   "metadata": {},
   "source": [
    "Although we intended to make the variable balance global in __account.py__, however the variable balance in the setBalance() function is still bound to the function-scope, rather than referred to the global variable. Hence the global value is not updated.\n",
    "\n",
    "To make the function-scope defined variable \"global\", we should use keyword \"global\" before updating the balance in the function.\n",
    "\n",
    "<font color='blue'>__Please update the codes in \"account.py\" accordingly__</font> . You might need to restart the kernel to update your code and get expected result.\n"
   ]
  },
  {
   "cell_type": "markdown",
   "metadata": {},
   "source": [
    "<div class=\"alert alert-block alert-warning\">\n",
    "    <h2>what to write in the account.py</h2>\n",
    "#account.py <br>\n",
    "balance = 10.0\n",
    "\n",
    "def setBalance(bal): <br>\n",
    "&nbsp;&nbsp;&nbsp;&nbsp; <b>global balance</b><br>\n",
    "&nbsp;&nbsp;&nbsp;&nbsp; balance=bal<br>\n",
    "&nbsp;&nbsp;&nbsp;&nbsp; print (\"The balance in the function: \", balance)\n",
    "<br>\n",
    "    #do not forget to restart kernel\n",
    "</div>"
   ]
  },
  {
   "cell_type": "code",
   "execution_count": null,
   "metadata": {},
   "outputs": [],
   "source": [
    "import account\n",
    "\n",
    "accountID = input(\"Enter the account no: \")\n",
    "balance = int(input(\"Enter the new balance: \"))\n",
    "\n",
    "account.setBalance(balance) # call the function setBalance in the account module\n",
    "\n",
    "print (\"The new balance in myAccount: \", account.balance)\n"
   ]
  },
  {
   "cell_type": "markdown",
   "metadata": {},
   "source": [
    "\n",
    "\n",
    "## Section B: Class and Sub-class\n",
    "\n",
    "Class are like modules. A class is a way to take a grouping of functions and data, and place them inside a container for data access. Instead of using the \"global\" keyword referring to the attributes to be accessed by multiple methods in the class (such as balance), we could use the self keyword, e.g. self.balance. self is a variable for the instance/object being accessed.\n",
    "\n",
    "An important feature of frame is to allow __inheritance__, i.e. to have a relationship between __X__ and __Y__, such that __\"X is a Y\"__, which could mean:\n",
    "\n",
    "a) __X__ is a subset of __Y__\n",
    "<br>\n",
    "b) __X__ is an instance of __Y__\n"
   ]
  },
  {
   "cell_type": "markdown",
   "metadata": {},
   "source": [
    "<font color='blue'>__Modify the code in the module \"account.py\" accordingly.__</font> The existing code is encapsulated into a class called _\"Account\"_. You might need to restart the kernel to update your code and get expected result.\n"
   ]
  },
  {
   "cell_type": "markdown",
   "metadata": {},
   "source": [
    "<div class=\"alert alert-block alert-warning\">\n",
    "    <h2>what to write in the account.py</h2>\n",
    "    <b>remember to comment or remove the following</b><br>\n",
    "\\#account.py <br>\n",
    "\\# =============================================================================<br>\n",
    "\\# #account.py<br>\n",
    "\\# balance = 10.0<br>\n",
    "\n",
    "\\# def setBalance(bal):<br>\n",
    "\\#     global balance<br>\n",
    "\\#     balance=bal<br>\n",
    "\\#     print (\"The balance in the function: \", balance)<br>\n",
    " <br>\n",
    "\n",
    "\\# =============================================================================<br>\n",
    "<b>remember to remove the comment of the following (press ctrl + /)</b><br>\n",
    "class Account(object): # “object” is a keyword in python. Account is a class<br>\n",
    "&nbsp;&nbsp;&nbsp;&nbsp; interest_rate = 0.03 # interest_rate is an attribute or slot<br>\n",
    "&nbsp;&nbsp;&nbsp;&nbsp; \\# a constructor with attributes that contain default values<br>\n",
    "&nbsp;&nbsp;&nbsp;&nbsp;    def __init__(self, account_no = \"none\", balance = 0.0):<br>\n",
    "&nbsp;&nbsp;&nbsp;&nbsp;&nbsp;&nbsp;&nbsp;&nbsp;        print (\"A new account is created\")<br>\n",
    "&nbsp;&nbsp;&nbsp;&nbsp;&nbsp;&nbsp;&nbsp;&nbsp;        self.account_no = account_no<br>\n",
    "&nbsp;&nbsp;&nbsp;&nbsp;&nbsp;&nbsp;&nbsp;&nbsp;        self.balance = balance + balance * self.interest_rate<br>\n",
    "        <br>\n",
    "&nbsp;&nbsp;&nbsp;&nbsp;    def setBalance(self,bal):<br>\n",
    "&nbsp;&nbsp;&nbsp;&nbsp;&nbsp;&nbsp;&nbsp;&nbsp;        self.balance = bal + bal*self.interest_rate<br>\n",
    "        <br>\n",
    "&nbsp;&nbsp;&nbsp;&nbsp;    def __str__(self): #to print the Account attributes in string<br>\n",
    "&nbsp;&nbsp;&nbsp;&nbsp;&nbsp;&nbsp;&nbsp;&nbsp;        return \"The new balance %s is: %.2f\" % (self.account_no, self.balance)<br>\n",
    "\n",
    "<b>remember to restart kernel</b>\n",
    "</div>"
   ]
  },
  {
   "cell_type": "code",
   "execution_count": null,
   "metadata": {},
   "outputs": [],
   "source": [
    "from account import Account\n",
    "\n",
    "account_no = input(\"Enter the bank account no: \")\n",
    "balance = float(input(\"Enter the balance of the bank account: \"))\n",
    "\n",
    "bankAcc = Account(account_no, balance)\n",
    "print (bankAcc)\n",
    "\n",
    "### Change to subclass of Account"
   ]
  },
  {
   "cell_type": "markdown",
   "metadata": {},
   "source": [
    "<div class=\"alert alert-block alert-warning\">\n",
    "    <h2>what to write in the account.py</h2>\n",
    "class Bank_Account(Account): #Bank_Account is-a Account class<br>\n",
    "    \n",
    "&nbsp;&nbsp;&nbsp;&nbsp; interest_rate = 0.028 #interest rate is different from the parent class<br>\n",
    "    <br>\n",
    "&nbsp;&nbsp;&nbsp;&nbsp; #constructor with local attribute customer_name, two inherited from the superclass<br>\n",
    "&nbsp;&nbsp;&nbsp;&nbsp; def __init__(self, account_no, balance, customer_name):<br>\n",
    "&nbsp;&nbsp;&nbsp;&nbsp;&nbsp;&nbsp;&nbsp;&nbsp; super(Bank_Account, self).__init__(account_no, balance) <br>\n",
    "&nbsp;&nbsp;&nbsp;&nbsp;&nbsp;&nbsp;&nbsp;&nbsp; self.account_no = account_no<br>\n",
    "&nbsp;&nbsp;&nbsp;&nbsp;&nbsp;&nbsp;&nbsp;&nbsp; self.balance = balance + balance * self.interest_rate<br>\n",
    "&nbsp;&nbsp;&nbsp;&nbsp;&nbsp;&nbsp;&nbsp;&nbsp; self.customer_name = customer_name<br>\n",
    "        <br>\n",
    "&nbsp;&nbsp;&nbsp;&nbsp; def __str__(self): #to print the Bank_Account attributes in string<br>\n",
    "&nbsp;&nbsp;&nbsp;&nbsp;&nbsp;&nbsp;&nbsp;&nbsp; return \"Account No: %s\\nCustomer Name: %s\\nThe new balance is: %.2f\" %(self.account_no, self.customer_name, self.balance)<br>\n",
    "</div>    \n",
    "    "
   ]
  },
  {
   "cell_type": "markdown",
   "metadata": {},
   "source": [
    "To define a subclass of *Account*, we simply pass in the parent class as a \"parameter\" to the class. E.g. creating *Bank_Account* based on *Account* class. \n",
    "\n",
    "Note that <font color='blue'>*Bank_Account*</font> is a subclass of <font color='blue'>*Account*</font>. It contains one local attribute, i.e. <font color='dark green'>customer_name</font>. The super function calls the superclass of *Bank_Account* to find the attributes to be inherited, i.e. account_no and balance."
   ]
  },
  {
   "cell_type": "code",
   "execution_count": null,
   "metadata": {},
   "outputs": [],
   "source": [
    "from account import Bank_Account\n",
    "\n",
    "account_no = input(\"Enter the bank account no: \")\n",
    "balance = float(input(\"Enter the balance of the bank account: \"))\n",
    "customer_name = input(\"Enter the customer's name: \")\n",
    "\n",
    "bankAcc = Bank_Account(account_no, balance, customer_name)\n",
    "print (bankAcc)\n",
    "\n",
    "### Change to subclass of Account"
   ]
  },
  {
   "cell_type": "markdown",
   "metadata": {},
   "source": [
    "\n",
    "\n",
    "## Section C: Objects\n",
    "\n",
    "Refer to the Account class (or frame) that we defined before. We can create an <font color=\"blue\"> instance </font> based on it.\n",
    "\n"
   ]
  },
  {
   "cell_type": "markdown",
   "metadata": {},
   "source": [
    "![](https://i.imgur.com/XUWCa6x.png)"
   ]
  },
  {
   "cell_type": "code",
   "execution_count": null,
   "metadata": {},
   "outputs": [],
   "source": [
    "from account import Account # import the Account class from the account module\n",
    "\n",
    "acc1 = Account() # acc1 is instantiated from the Account class\n",
    "acc1.setBalance(1000) # add new balance to the slot balance\n",
    "\n",
    "print (\"The interest rate: \", acc1.interest_rate) # get the acc1 inherited interested rate\n",
    "print (acc1) # this invokes the __str__ method"
   ]
  },
  {
   "cell_type": "markdown",
   "metadata": {},
   "source": [
    "From the constructor defined, it shall accepts __3__ parameters, i.e. account_no, balance, and interest_rate, which default values are given.\n",
    "\n",
    "![](https://i.imgur.com/ZoZlnG7.png)\n",
    "\n",
    "However, creating an instance using an empty constructor, i.e. __Account()__, does not provide the necessary values passed by the parameters, hence account_no is not updated.\n"
   ]
  },
  {
   "cell_type": "markdown",
   "metadata": {},
   "source": [
    "### <font color='blue'>Now let's try to create the second instance of Account class, i.e. acc2</font>\n",
    "\n",
    "\n",
    "Prompt inputs from user:\n",
    "- Account No\n",
    "- New balance\n"
   ]
  },
  {
   "cell_type": "markdown",
   "metadata": {},
   "source": [
    "![](https://i.imgur.com/Tyb9gwT.png)"
   ]
  },
  {
   "cell_type": "code",
   "execution_count": null,
   "metadata": {},
   "outputs": [],
   "source": [
    "\n"
   ]
  },
  {
   "cell_type": "markdown",
   "metadata": {},
   "source": [
    "### <font color='blue'>Now let's try to create the second instance of Bank_Account class, i.e. bankAcc</font>\n",
    "\n",
    "\n",
    "Prompt inputs from user:\n",
    "- Account No\n",
    "- New balance\n",
    "- Name"
   ]
  },
  {
   "cell_type": "markdown",
   "metadata": {},
   "source": [
    "![](https://i.imgur.com/kOINixD.png)"
   ]
  },
  {
   "cell_type": "code",
   "execution_count": null,
   "metadata": {},
   "outputs": [],
   "source": [
    "\n"
   ]
  },
  {
   "cell_type": "markdown",
   "metadata": {},
   "source": [
    "## Section D: Slots\n",
    "\n",
    "The attributes of objects are stored in a dictionary \"__dict__\".\n",
    "\n",
    "Try this:"
   ]
  },
  {
   "cell_type": "code",
   "execution_count": null,
   "metadata": {},
   "outputs": [],
   "source": [
    "acc1.__dict__"
   ]
  },
  {
   "cell_type": "code",
   "execution_count": null,
   "metadata": {},
   "outputs": [],
   "source": [
    "bankAcc.__dict__"
   ]
  },
  {
   "cell_type": "markdown",
   "metadata": {},
   "source": [
    "# Exercise"
   ]
  },
  {
   "cell_type": "markdown",
   "metadata": {},
   "source": [
    "1. Time is a class. Time has the attributes of hour, minute, and second. The constructor of the class allows the hour, minute, and second to be set by the user when an instance is created"
   ]
  },
  {
   "cell_type": "markdown",
   "metadata": {},
   "source": [
    "- create the \"Time\" class with constructor and print function that returns hh:mm:ss\n"
   ]
  },
  {
   "cell_type": "code",
   "execution_count": null,
   "metadata": {},
   "outputs": [],
   "source": []
  },
  {
   "cell_type": "markdown",
   "metadata": {},
   "source": [
    "- create an instance, T1 that has the info of hour, minute, and second."
   ]
  },
  {
   "cell_type": "code",
   "execution_count": null,
   "metadata": {},
   "outputs": [],
   "source": []
  }
 ],
 "metadata": {
  "kernelspec": {
   "display_name": "Python 3",
   "language": "python",
   "name": "python3"
  },
  "language_info": {
   "codemirror_mode": {
    "name": "ipython",
    "version": 3
   },
   "file_extension": ".py",
   "mimetype": "text/x-python",
   "name": "python",
   "nbconvert_exporter": "python",
   "pygments_lexer": "ipython3",
   "version": "3.7.4"
  }
 },
 "nbformat": 4,
 "nbformat_minor": 1
}
