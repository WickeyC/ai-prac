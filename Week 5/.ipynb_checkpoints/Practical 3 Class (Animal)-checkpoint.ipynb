{
 "cells": [
  {
   "cell_type": "markdown",
   "metadata": {},
   "source": [
    "# Introduction\n",
    "\n",
    "Object-oriented programming creates reusable patterns of code to curtail redundancy in development projects. One way that object-oriented programming achieves recyclable code is through **inheritance, when one subclass can leverage code from another base class**.\n",
    "\n",
    "This tutorial will go through some of the major aspects of inheritance in Python, including **how parent classes and child classes work, how to override methods and attributes and how to use the super() function.**"
   ]
  },
  {
   "cell_type": "markdown",
   "metadata": {},
   "source": [
    "## <font color=red>What Is Inheritance?</font>\n",
    "\n",
    "Inheritance is when a class uses code constructed within another class. If we think of inheritance in terms of biology, we can think of a child inheriting certain traits from their parent. That is, a child can inherit a parent’s height or eye color. Children also may share the same last name with their parents.\n",
    "\n",
    "**Classes called child classes or subclasses inherit methods and variables from parent classes or base classes.**\n",
    "\n",
    "We can think of a parent class called **_Parent_** that has class variables for last_name, height, and eye_color that the child class **_Child_** will inherit from the Parent.\n",
    "\n",
    "Because the **_Child_** subclass is inheriting from the **_Parent_** base class, the **_Child_** class can reuse the code of **_Parent_**, allowing the programmer to use fewer lines of code and decrease redundancy."
   ]
  },
  {
   "cell_type": "markdown",
   "metadata": {},
   "source": [
    "## <font color=blue>Parent Classes</font>\n",
    "\n",
    "**Parent or base classes** create a pattern out of which **child or subclasses** can be based on. \n",
    "\n",
    "Parent classes allow us to create child classes through inheritance **without having to write the same code over again each time**. Any class can be made into a parent class, so they are each fully functional classes in their own right, rather than just templates.\n",
    "\n",
    "An **_Animal_** class may have **_eating()_** and **_sleeping()_** methods, and a **_Snake_** subclass may include its own specific **_hissing()_** and **_slithering()_** methods.\n",
    "\n",
    "Let’s create a **_Fish_** parent class that we will later use to construct types of fish as its subclasses. Each of these fish will have first names and last names in addition to characteristics.\n",
    "\n",
    "We’ll create a new file called **fish.py** and start with the **__init__()** constructor method, which we’ll populate with first_name and last_name class variables for each **_Fish_** object or subclass."
   ]
  },
  {
   "cell_type": "code",
   "execution_count": 1,
   "metadata": {},
   "outputs": [],
   "source": [
    "class Fish (object):  #can remove (object) also, only for superclass\n",
    "      \n",
    "    def __init__(self, first_name, last_name=\"Fish\"):  #https://stackoverflow.com/questions/2709821/what-is-the-purpose-of-the-word-self-in-python\n",
    "        self.first_name = first_name   \n",
    "        self.last_name = last_name \n",
    "        \n",
    "        #self represents the instance of the class. \n",
    "        #By using the “self” keyword we can access the attributes \n",
    "        #and methods of the class in python. \n",
    "        #It binds the attributes with the given arguments, put self for class and subclass\n",
    "        \n",
    "#excute this code segment"
   ]
  },
  {
   "cell_type": "markdown",
   "metadata": {},
   "source": [
    "We have **initialized** our last_name variable with the string \"Fish\" because we know that most fish will have this as their last name.e.g Jelly Fish, Cat Fish etc.\n",
    "\n",
    "Let’s also add some other **methods**:"
   ]
  },
  {
   "cell_type": "code",
   "execution_count": 2,
   "metadata": {},
   "outputs": [],
   "source": [
    "class Fish:\n",
    "    def __init__(self, first_name, last_name=\"Fish\"):\n",
    "        self.first_name = first_name\n",
    "        self.last_name = last_name\n",
    "\n",
    "    def swim(self):\n",
    "        print(\"The fish is swimming.\")\n",
    "\n",
    "    def swim_backwards(self):\n",
    "        print(\"The fish can swim backwards.\")\n",
    "        \n",
    "#excute this code segment"
   ]
  },
  {
   "cell_type": "markdown",
   "metadata": {},
   "source": [
    "We have added the methods **_swim()_** and **_swim_backwards()_** to the **_Fish_** class, so that every subclass will also be able to make use of these methods.\n",
    "\n",
    "Since most of the fish we’ll be creating are considered to be bony fish (as in they have a skeleton made out of bone) rather than cartilaginous fish (as in they have a skeleton made out of cartilage), we can add a few more attributes to the __init__() method:"
   ]
  },
  {
   "cell_type": "code",
   "execution_count": 3,
   "metadata": {},
   "outputs": [],
   "source": [
    "class Fish:\n",
    "    \n",
    "    def __init__(self, first_name, last_name=\"Fish\",\n",
    "                 skeleton=\"bone\", eyelids=False):\n",
    "        self.first_name = first_name\n",
    "        self.last_name = last_name\n",
    "        self.skeleton = skeleton\n",
    "        self.eyelids = eyelids\n",
    "\n",
    "    def swim(self):\n",
    "        print(\"The fish is swimming.\")\n",
    "\n",
    "    def swim_backwards(self):\n",
    "        print(\"The fish can swim backwards.\")\n",
    "        \n",
    "#excute this code segment"
   ]
  },
  {
   "cell_type": "markdown",
   "metadata": {},
   "source": [
    "**_Building a parent class follows the same methodology as building any other class, except we are thinking about what methods the child classes will be able to make use of once we create those._**"
   ]
  },
  {
   "cell_type": "markdown",
   "metadata": {},
   "source": [
    "## <font color=blue>Child Classes</font>\n",
    "\n",
    "**_Child_** or **_subclasses_** are classes that will **inherit** from the **_parent_** class. That means that each **_child_** class will be able to make use of the **methods** and **variables** of the  **_parent_** class.\n",
    "\n",
    "For example, a **_Goldfish child class_** that subclasses the **_Fish_** class will be able to make use of the **_swim()_** method declared in **_Fish_** without needing to declare it.\n",
    "\n",
    "We can think of each **_child_**  class as being a class of the **_parent_** class. That is, if we have a **_child_** class called **Rhombus** and a **_parent_**  class called **Parallelogram**, we can say that a **Rhombus** is a **Parallelogram**, just as a **Goldfish** is a **Fish**.\n",
    "\n",
    "The first line of a **_child_** class looks a little different than **_non-child_** classes as you must pass the **_parent_** class into the **_child_** class as a parameter:"
   ]
  },
  {
   "cell_type": "code",
   "execution_count": 4,
   "metadata": {},
   "outputs": [
    {
     "ename": "SyntaxError",
     "evalue": "unexpected EOF while parsing (<ipython-input-4-f295e27e069c>, line 3)",
     "output_type": "error",
     "traceback": [
      "\u001b[1;36m  File \u001b[1;32m\"<ipython-input-4-f295e27e069c>\"\u001b[1;36m, line \u001b[1;32m3\u001b[0m\n\u001b[1;33m    #excute this code segment\u001b[0m\n\u001b[1;37m                             ^\u001b[0m\n\u001b[1;31mSyntaxError\u001b[0m\u001b[1;31m:\u001b[0m unexpected EOF while parsing\n"
     ]
    }
   ],
   "source": [
    "class Trout(Fish):\n",
    "    \n",
    "#excute this code segment"
   ]
  },
  {
   "cell_type": "markdown",
   "metadata": {},
   "source": [
    "The **_Trout class_** is a child of the **Fish** class. We know this because of the inclusion of the word **Fish** in parentheses.\n",
    "\n",
    "With **_child_** classes, we can choose to add more **methods**, **override** existing parent methods, or simply **accept** the default parent methods with the pass keyword, which we’ll do in this case:"
   ]
  },
  {
   "cell_type": "code",
   "execution_count": 5,
   "metadata": {},
   "outputs": [],
   "source": [
    "class Trout(Fish): #create subclass \"Trout\" \n",
    "    pass          #inherit all the attributes, methods from parent class, Fish\n",
    "\n",
    "#similar\n",
    "\n",
    "# class Trout:\n",
    "    \n",
    "#     def __init__(self, first_name, last_name=\"Fish\"):\n",
    "#         self.first_name = first_name\n",
    "#         self.last_name = last_name\n",
    "\n",
    "#     def swim(self):\n",
    "#         print(\"The fish is swimming.\")\n",
    "\n",
    "#     def swim_backwards(self):\n",
    "#         print(\"The fish can swim backwards.\")\n",
    "\n",
    "#excute this code segment"
   ]
  },
  {
   "cell_type": "markdown",
   "metadata": {},
   "source": [
    "We can now create a **_Trout object_** without having to define any additional **methods.**"
   ]
  },
  {
   "cell_type": "code",
   "execution_count": 6,
   "metadata": {
    "scrolled": false
   },
   "outputs": [
    {
     "name": "stdout",
     "output_type": "stream",
     "text": [
      "Terry Fish\n",
      "bone\n",
      "False\n",
      "The fish is swimming.\n",
      "The fish can swim backwards.\n"
     ]
    }
   ],
   "source": [
    "class Trout(Fish):\n",
    "    pass\n",
    "\n",
    "Terry = Trout(\"Terry\")  #instance/object Terry is an object of Trout\n",
    "print(Terry.first_name + \" \" + Terry.last_name)\n",
    "print(Terry.skeleton)\n",
    "print(Terry.eyelids)\n",
    "Terry.swim()\n",
    "Terry.swim_backwards()\n",
    "\n",
    "#execute this code segment and see the output"
   ]
  },
  {
   "cell_type": "markdown",
   "metadata": {},
   "source": [
    "We have created a **_Trout instance_**: **<font color=blue>terry</font>** that makes use of each of the **methods** of the **_Fish_** class even though we did not define those **methods** in the Trout **_child_** class. We only needed to pass the value of **\"Terry\"** to the first_name variable because **all of the other variables were initialized.**\n",
    "\n",
    "Exucute the program and see the output."
   ]
  },
  {
   "cell_type": "markdown",
   "metadata": {},
   "source": [
    "Next, let’s create another **_child_** class that includes its own **method.** We’ll call this class **Clownfish**, and its special **method** will permit it to live with **sea anemone**:"
   ]
  },
  {
   "cell_type": "code",
   "execution_count": 7,
   "metadata": {},
   "outputs": [],
   "source": [
    "class Clownfish(Fish):\n",
    "#no need to use pass keyword anymore\n",
    "    def live_with_anemone(self):\n",
    "        print(\"The clownfish is coexisting with sea anemone.\")\n",
    "        \n",
    "#excute this code segment"
   ]
  },
  {
   "cell_type": "markdown",
   "metadata": {},
   "source": [
    "Next, let’s create a **_Clownfish object_**: **<font color=blue>Casey</font>** to see how this works:"
   ]
  },
  {
   "cell_type": "code",
   "execution_count": 8,
   "metadata": {
    "scrolled": true
   },
   "outputs": [
    {
     "name": "stdout",
     "output_type": "stream",
     "text": [
      "Casey Fish\n",
      "False\n",
      "The fish is swimming.\n",
      "The fish can swim backwards.\n",
      "The clownfish is coexisting with sea anemone.\n"
     ]
    }
   ],
   "source": [
    "casey = Clownfish(\"Casey\")\n",
    "print(casey.first_name + \" \" + casey.last_name)\n",
    "print(casey.eyelids)\n",
    "casey.swim()\n",
    "casey.swim_backwards()\n",
    "casey.live_with_anemone() #special method that defined in the clownfish subclass just now\n",
    "\n",
    "#execute this code segment and see the output"
   ]
  },
  {
   "cell_type": "markdown",
   "metadata": {},
   "source": [
    "The output shows that the **_Clownfish object_**: **<font color=blue>Casey</font>** is able to use the **_Fish_** **methods** **__init__()** and **_swim()_** as well as its **_child class_** **method** of **_live_with_anemone()_**.\n",
    "\n",
    "If we try to use the **_live_with_anemone()_** **method** in a **Trout** **_object_**, we’ll receive an error:"
   ]
  },
  {
   "cell_type": "code",
   "execution_count": 9,
   "metadata": {},
   "outputs": [
    {
     "ename": "AttributeError",
     "evalue": "'Trout' object has no attribute 'live_with_anemone'",
     "output_type": "error",
     "traceback": [
      "\u001b[1;31m---------------------------------------------------------------------------\u001b[0m",
      "\u001b[1;31mAttributeError\u001b[0m                            Traceback (most recent call last)",
      "\u001b[1;32m<ipython-input-9-9f9ad203dfca>\u001b[0m in \u001b[0;36m<module>\u001b[1;34m()\u001b[0m\n\u001b[1;32m----> 1\u001b[1;33m \u001b[0mTerry\u001b[0m\u001b[1;33m.\u001b[0m\u001b[0mlive_with_anemone\u001b[0m\u001b[1;33m(\u001b[0m\u001b[1;33m)\u001b[0m\u001b[1;33m\u001b[0m\u001b[0m\n\u001b[0m\u001b[0;32m      2\u001b[0m \u001b[1;33m\u001b[0m\u001b[0m\n\u001b[0;32m      3\u001b[0m \u001b[1;31m#excute this code segment and see the output\u001b[0m\u001b[1;33m\u001b[0m\u001b[1;33m\u001b[0m\u001b[0m\n",
      "\u001b[1;31mAttributeError\u001b[0m: 'Trout' object has no attribute 'live_with_anemone'"
     ]
    }
   ],
   "source": [
    "Terry.live_with_anemone()\n",
    "\n",
    "#excute this code segment and see the output"
   ]
  },
  {
   "cell_type": "markdown",
   "metadata": {},
   "source": [
    "This is because the **method** **_live_with_anemone()_** belongs only to the  **_Clownfish child class_**, and not the  **_Fish parent_** class.\n",
    "\n",
    " **_Child_** classes inherit the **methods** of the **_parent_** class it belongs to, so each **_child_** class can make use of those **methods** within programs."
   ]
  },
  {
   "cell_type": "markdown",
   "metadata": {},
   "source": [
    "## <font color=blue>Overriding Parent Properties and Methods</font>\n",
    "\n",
    "So far, we have looked at the **_child_** class **Trout** that made use of the **<font color=blue>pass</font>** keyword to inherit all of the **_parent_** class **_Fish_** behaviors, and another **_child_** class **Clownfish** that inherited all of the **_parent_** class behaviors and also created its own unique **method** that is specific to the **_child_** class. Sometimes, however, we will want to make use of some of the **_parent_** class behaviors but not all of them. When we change **_parent_** class **methods** we override them.\n",
    "\n",
    "When constructing  **_parent_** and **_child_** classes, it is important to keep program design in mind so that **overriding** does not produce unnecessary or redundant code.\n",
    "\n",
    "We’ll create a **_Shark child class_** of the **_Fish parent class_**. Because we created the **_Fish_** class with the idea that we would be creating primarily **bony fish**, we’ll have to make adjustments for the **_Shark class_** that is instead a **cartilaginous fish**. In terms of program design, if we had more than one **non-bony fish**, we would most likely want to make separate classes for each of these two types of fish.\n",
    "\n",
    "**Sharks**: <font color=blue>unlike bony fish, have skeletons made of cartilage instead of bone. They also have eyelids and are unable to swim backwards. Sharks can, however, maneuver themselves backwards by sinking</font>.\n",
    "\n",
    "In light of this, we’ll be **<font color=red>overriding</font>** the **__init__() constructor method** and the **swim_backwards() method**. We don’t need to modify the **_swim()_** method since sharks are fish that can swim. Let’s take a look at this **_child_** class:"
   ]
  },
  {
   "cell_type": "code",
   "execution_count": 10,
   "metadata": {},
   "outputs": [],
   "source": [
    "class Shark(Fish):\n",
    "    \n",
    "    def __init__(self, first_name, last_name=\"Shark\",  #overrride attribute totally\n",
    "                 skeleton=\"cartilage\", eyelids=True):\n",
    "        self.first_name = first_name\n",
    "        self.last_name = last_name\n",
    "        self.skeleton = skeleton\n",
    "        self.eyelids = eyelids  #still inherit the parent's method \"swim\"\n",
    "\n",
    "    def swim_backwards(self):\n",
    "        print(\"The shark cannot swim backwards, but can sink backwards.\")\n",
    "        \n",
    "#excute this code segment"
   ]
  },
  {
   "cell_type": "markdown",
   "metadata": {},
   "source": [
    "We have **<font color=red>overridden</font>** the **initialized parameters** in the **__init__() method**, so that the **last_name variable** is now set equal to the string **\"Shark\"**, the **skeleton variable** is now set equal to the string **\"cartilage\"**, and the **eyelids variable** is now set to the **Boolean value True**. Each instance of the class can also **<font color=red>override</font>** these parameters.\n",
    "\n",
    "The **_method swim_backwards()_** now prints a different string than the one in the **_Fish parent class_** because sharks are not able to swim backwards in the way that bony fish can.\n",
    "\n",
    "We can now create an **instance**/**object** of the **_Shark child class_**, which will still make use of the **_swim() method_** of the **_Fish parent class_**:"
   ]
  },
  {
   "cell_type": "code",
   "execution_count": 11,
   "metadata": {},
   "outputs": [
    {
     "name": "stdout",
     "output_type": "stream",
     "text": [
      "Sammy Shark\n",
      "The fish is swimming.\n",
      "The shark cannot swim backwards, but can sink backwards.\n",
      "True\n",
      "cartilage\n"
     ]
    }
   ],
   "source": [
    "sammy = Shark(\"Sammy\")\n",
    "print(sammy.first_name + \" \" + sammy.last_name)\n",
    "sammy.swim()  #inherite parent's method\n",
    "sammy.swim_backwards()   #child's method\n",
    "print(sammy.eyelids) #inherite parent's properties\n",
    "print(sammy.skeleton)\n",
    "\n",
    "#excute this code segment and see the output"
   ]
  },
  {
   "cell_type": "markdown",
   "metadata": {},
   "source": [
    "The **_Shark child class_** successfully <font color=red>overrode</font> the __init__() and **_swim_backwards() methods_** of the **_Fish parent class_**, while also inheriting the **_swim() method_** of the **_parent class_**.\n",
    "\n",
    "When there will be a limited number of **_child_** classes that are more unique than others, <font color=red>overriding</font> **_parent class methods_** can prove to be useful."
   ]
  },
  {
   "cell_type": "markdown",
   "metadata": {},
   "source": [
    "## <font color=blue>The super() Function</font>\n",
    "\n",
    "With the **super()** function, you can gain access to **_inherited methods_** that have been <font color=red>overwritten</font> in a **_class object_**.\n",
    "\n",
    "When we use the **super()** function, we are calling a **_parent method_** into a **_child method_** to make use of it. For example, we may want to <font color=red>override</font> one aspect of the **_parent method_** with certain functionality, but then call the rest of the original **_parent method_** to finish the **method**.\n",
    "\n",
    "The **super()** function is most commonly used within the __init__() method because that is where you will most likely need to add some **<font color=green>uniqueness</font>** to the **_child class_** and then complete **initialization** from the **_parent_**.\n",
    "\n",
    "To see how this works, let’s modify our **_Trout child class_**. Since **trout** are typically **freshwater fish**, let’s add a **water variable** to the **__init__() method** and set it equal to the string **\"freshwater\"**, but then maintain the rest of the **_parent_** class’s variables and parameters:"
   ]
  },
  {
   "cell_type": "code",
   "execution_count": 15,
   "metadata": {},
   "outputs": [],
   "source": [
    "class Trout(Fish):\n",
    "    \n",
    "    def __init__(self, water = \"freshwater\"):\n",
    "        self.water = water\n",
    "        super().__init__(self) #inherit the properties/attribute from parent's class\n",
    "        \n",
    "#excute this code segment"
   ]
  },
  {
   "cell_type": "markdown",
   "metadata": {},
   "source": [
    "We have <font color=red>overwritten</font> the **__init__() method** in the **_Trout child class_**, providing a different implementation of the __init__() that is already defined by its **_parent class Fish_**. Within the **__init__() method** of our **_Trout class_** we have explicitly invoked the **__init__() method** of the **_Fish class_**.\n",
    "\n",
    "Because we have <font color=red>overwritten</font> the **method**, we no longer need to pass first_name in as a parameter to **Trout**, and if we did pass in a parameter, we would reset **freshwater** instead. We will therefore **initialize** the **first_name** by calling the variable in our **object instance**.\n",
    "\n",
    "Now we can invoke the **_initialized variables_** of the **_parent class_** and also make use of the unique **_child variable_**. Let’s use this in an **_instance of Trout_**:"
   ]
  },
  {
   "cell_type": "code",
   "execution_count": 16,
   "metadata": {},
   "outputs": [
    {
     "name": "stdout",
     "output_type": "stream",
     "text": [
      "Terry Fish\n",
      "False\n",
      "freshwater\n",
      "The fish is swimming.\n"
     ]
    }
   ],
   "source": [
    "terry = Trout()\n",
    "\n",
    "# Initialize first name\n",
    "terry.first_name = \"Terry\"\n",
    "\n",
    "# Use parent __init__() through super()\n",
    "print(terry.first_name + \" \" + terry.last_name)\n",
    "print(terry.eyelids)\n",
    "\n",
    "# Use child __init__() override\n",
    "print(terry.water)\n",
    "\n",
    "# Use parent swim() method\n",
    "terry.swim()\n",
    "\n",
    "#excute this code segment and see the output"
   ]
  },
  {
   "cell_type": "markdown",
   "metadata": {},
   "source": [
    "The **output** shows that the **_object terry_** of the **_Trout child class_** is able to make use of both the **child-specific __init__() variable water** while also being able to call the **_Fish parent_** __init__() variables of **first_name, last_name, and eyelids**.\n",
    "\n",
    "The built-in Python function **super()** allows us to utilize **_parent class methods_** even when <font color=red>overriding</font> certain aspects of those methods in our **_child classes_**."
   ]
  },
  {
   "cell_type": "markdown",
   "metadata": {},
   "source": [
    "# <font color=blue>Exercises </font>"
   ]
  },
  {
   "cell_type": "markdown",
   "metadata": {},
   "source": [
    "**Question 1:**\n",
    "\n",
    "Translate the following statements into frames. Then code the frames (class and instance) using Python. \n",
    "\n",
    "Animal is-a class.<br>\n",
    "Pet is-a animal.<br>\n",
    "Pet has-a name.<br> \n",
    "Dog is-a pet.<br> \n",
    "Cat is-a pet.<br> \n",
    "Garfield is-a cat.<br> \n",
    "Pluto is-a dog.<br> \n",
    "Person is-a animal.<br> \n",
    "Person has-a name.<br> \n",
    "Student is-a Person.<br> \n",
    "Student has-a student id.<br> \n",
    "John is-a student.<br> \n",
    "His id is “TARUC1”.<br> "
   ]
  },
  {
   "cell_type": "code",
   "execution_count": 105,
   "metadata": {},
   "outputs": [
    {
     "name": "stdout",
     "output_type": "stream",
     "text": [
      "Grafield\n",
      "Pluto\n",
      "John TARUC1\n"
     ]
    }
   ],
   "source": [
    "class Animal:\n",
    "    pass\n",
    "        \n",
    "class Pet(Animal):\n",
    "    def __init__(self, name):\n",
    "        self.name=name\n",
    "\n",
    "class Dog(Pet):\n",
    "    pass\n",
    "\n",
    "class Cat(Pet):\n",
    "    pass\n",
    "\n",
    "garfield = Cat(\"Grafield\")\n",
    "pluto = Dog(\"Pluto\")\n",
    "print(garfield.name)\n",
    "print(pluto.name)\n",
    "\n",
    "class Person(Animal):\n",
    "    def __init__(self, name):\n",
    "        self.name=name\n",
    "\n",
    "class student(Person):\n",
    "    def __init__(self, name, student_id=\"ABC1001\"):\n",
    "        self.student_id=student_id\n",
    "        super().__init__(name)\n",
    "\n",
    "John = student (\"John\", \"TARUC1\")\n",
    "print (John.name, John.student_id)\n"
   ]
  },
  {
   "cell_type": "code",
   "execution_count": 106,
   "metadata": {},
   "outputs": [
    {
     "name": "stdout",
     "output_type": "stream",
     "text": [
      "ABC1001\n",
      "Grafield\n"
     ]
    }
   ],
   "source": [
    "#teacher sample:\n",
    "class Animal: \n",
    "    def __init__(self, name):\n",
    "        self.name=name\n",
    "    def method1(self):\n",
    "        print(\"animal can run\")\n",
    "        \n",
    "class Pet(Animal):\n",
    "    pass\n",
    "\n",
    "class Dog(Pet):\n",
    "    pass\n",
    "\n",
    "class Cat(Pet):\n",
    "    pass\n",
    "\n",
    "class Person(Animal):\n",
    "    pass\n",
    "\n",
    "class student(Person):\n",
    "    def __init__(self, name, student_id=\"ABC1001\"):\n",
    "        self.student_id=student_id\n",
    "        super().__init__(name)\n",
    "\n",
    "\n",
    "John = student (\"John\")\n",
    "print (John.student_id)\n",
    "garfield = Cat(\"Grafield\")\n",
    "print (garfield.name)\n",
    "pluto = Dog(\"Pluto\")"
   ]
  },
  {
   "cell_type": "markdown",
   "metadata": {},
   "source": [
    "**Question 2:**\n",
    "\n",
    "Time is a class. Time has the attributes of hour, minute and second. The default values of the attributes are zero (0), but the constructor of the class allows the hour, minute and second to be set by the user when an instance is created. Time has a method called tick(), which will increase the second by 1 each time it is executed. Therefore after 10,000 iterations of tick(), the “hour” attribute will increase by 2, the “minute” will increase by 46, and the “second” will increase by 40. Hence, printing the Time instance after 10,000 iterations of tick() will display 2:46:40 on the screen if all the attributes of hour, minute and second are not set.  On the other side, if the attributes are set as 13 hours, 20 minutes and 5 seconds when the instance is created, then printing the Time instance after 10,000 iterations of tick() will result in 16:6:45 displayed on the screen. 3"
   ]
  },
  {
   "cell_type": "code",
   "execution_count": 120,
   "metadata": {},
   "outputs": [
    {
     "name": "stdout",
     "output_type": "stream",
     "text": [
      "2:46:40\n",
      "16:6:45\n"
     ]
    }
   ],
   "source": [
    "class Time (object):\n",
    "    def __init__(self, hour = 0, minute = 0, second = 0):\n",
    "        self.hour = hour\n",
    "        self.minute = minute\n",
    "        self.second = second\n",
    "    \n",
    "    def __repr__(self):\n",
    "        return \"{}:{}:{}\".format(self.hour, self.minute, self.second)\n",
    "        \n",
    "    def tick(self):\n",
    "        self.second += 1\n",
    "        if (self.second % 60) == 0:\n",
    "            self.second = 0\n",
    "            self.add_minute(1)\n",
    "                \n",
    "    def add_minute(self, num):\n",
    "        self.minute += num\n",
    "        if (self.minute > 59):\n",
    "            self.minute = 0\n",
    "            self.add_hour(1)\n",
    "    \n",
    "    def add_hour(self, num):\n",
    "        self.hour += num\n",
    "    \n",
    "    def tick_iterate(self, num):\n",
    "        i = num\n",
    "        while i > 0:\n",
    "            self.tick()\n",
    "            i -= 1\n",
    "        \n",
    "time_1 = Time()\n",
    "time_1.tick_iterate(10000)\n",
    "\n",
    "time_2 = Time(13 , 20 , 5)\n",
    "time_2.tick_iterate(10000)\n",
    "\n",
    "print(\"\"\"{}\n",
    "{}\"\"\".format(time_1, time_2))"
   ]
  },
  {
   "cell_type": "markdown",
   "metadata": {},
   "source": [
    "**Question 3:**\n",
    "\n",
    "Date is a class. Date has the attributes of day, month and year. Each month has either 30 or 31 days, except that February has 28 days in general. Date has a method called advance(), which will increase the day by 1 each time it is executed. Therefore after 1000 iterations of advance(), without considering the leap year, the year will increase by 2 (i.e. 730 days), and the month will increase by 8 (i.e. 243 days), and the day will increase by 27. Hence, printing the Date instance after 1000 iterations of advance() will display 27/8/2 (2 years 8 months 27 days) on the screen, if the attributes of day, month and year are not set. However, if the attributes are set as 1 day, 7 month and 2016 year when the instance is created, then printing the Date instance after 1000 iterations of advance() will display 28/3/2019 on the screen. "
   ]
  },
  {
   "cell_type": "code",
   "execution_count": 103,
   "metadata": {},
   "outputs": [
    {
     "name": "stdout",
     "output_type": "stream",
     "text": [
      "27/8/2\n",
      "28/3/2019\n"
     ]
    }
   ],
   "source": [
    "class Date:\n",
    "    def __init__ (self, day = 0, month = 0, year = 0):\n",
    "        self.day = day\n",
    "        self.month = month\n",
    "        self.year = year   \n",
    "    \n",
    "    def __repr__(self):\n",
    "        return \"{}/{}/{}\".format(self.day, self.month, self.year)\n",
    "        \n",
    "    def advance(self):\n",
    "        big_months = [0,1,3,5,7,8,10,12]\n",
    "        small_months = [4,6,9,11]\n",
    "        self.day += 1\n",
    "        if ((self.month == 2 and self.day > 28) \n",
    "        or (self.month in big_months and self.day > 31)\n",
    "        or (self.month in small_months and self.day > 30)):\n",
    "            self.day = 1\n",
    "            self.add_month(1)\n",
    "    \n",
    "    def add_month(self, num):\n",
    "        self.month += num\n",
    "        if (self.month > 12):\n",
    "            self.month = 1\n",
    "            self.year += 1\n",
    "        \n",
    "    def advance_iterate(self, num):\n",
    "        i = num\n",
    "        while i > 0:\n",
    "            self.advance()\n",
    "            i -= 1\n",
    "\n",
    "date_1 = Date()\n",
    "date_1.advance_iterate(1000)\n",
    "\n",
    "date_2 = Date(1,7,2016)\n",
    "date_2.advance_iterate(1000)\n",
    "\n",
    "print(\"\"\"{}\n",
    "{}\"\"\".format(date_1, date_2))"
   ]
  },
  {
   "cell_type": "markdown",
   "metadata": {},
   "source": [
    "**Question 4:**\n",
    "\n",
    "Referring to Question 2 and Question 3, DateTime is a subclass that is derived from Date and Time classes. DateTime allows the user to set the day, month, year, hours, minutes and seconds. DateTime inherits both tick() and advance() methods from the parent classes.  Assume that you would like to create a DateTime object called startDate. Set the StartDate as 1st July of the current year. The duration of the assignment is 2 weeks (14 days) and 17.5 hours (63,000 seconds).  Perform the advance() and tick() methods with necessary number of iterations. Then display the final results on the screen. "
   ]
  },
  {
   "cell_type": "code",
   "execution_count": 143,
   "metadata": {},
   "outputs": [
    {
     "name": "stdout",
     "output_type": "stream",
     "text": [
      "15/7/2023 17:30:0\n",
      "21/7/2023 12:23:20\n"
     ]
    }
   ],
   "source": [
    "class DateTime(Date, Time):\n",
    "    def __init__(self, day = 0, month = 0, year = 0, \n",
    "                 hour = 0, minute = 0, second = 0):\n",
    "        Date.__init__(self, day, month, year)\n",
    "        Time.__init__(self, hour, minute, second)\n",
    "    \n",
    "    def __repr__(self):\n",
    "        return \"{}\".format(Date.__repr__(self) + \" \" + Time.__repr__(self))\n",
    "    \n",
    "    def tick(self):\n",
    "        super().tick()\n",
    "    \n",
    "    def add_hour(self, num):\n",
    "        self.hour += num\n",
    "        if self.hour > 23:\n",
    "            self.hour = 0\n",
    "            self.advance()\n",
    "    \n",
    "    def add_duration(self, year, month, day, hour, minute, second):\n",
    "        year += year\n",
    "        self.add_month(month)\n",
    "        self.advance_iterate(day)\n",
    "        self.add_hour(hour)\n",
    "        self.add_minute(minute)\n",
    "        self.tick_iterate(second)\n",
    "        \n",
    "startDate = DateTime(1, 7, 2023)\n",
    "startDate.add_duration(0,0,14,0,0,63000)\n",
    "print(startDate)\n",
    "startDate.add_duration(0,0,0,0,0,500000)\n",
    "print(startDate)"
   ]
  },
  {
   "cell_type": "markdown",
   "metadata": {},
   "source": [
    "## Reference: \n",
    "https://docs.python.org/2/tutorial/classes.html#inheritance "
   ]
  }
 ],
 "metadata": {
  "kernelspec": {
   "display_name": "Python 3 (ipykernel)",
   "language": "python",
   "name": "python3"
  },
  "language_info": {
   "codemirror_mode": {
    "name": "ipython",
    "version": 3
   },
   "file_extension": ".py",
   "mimetype": "text/x-python",
   "name": "python",
   "nbconvert_exporter": "python",
   "pygments_lexer": "ipython3",
   "version": "3.9.13"
  }
 },
 "nbformat": 4,
 "nbformat_minor": 2
}
