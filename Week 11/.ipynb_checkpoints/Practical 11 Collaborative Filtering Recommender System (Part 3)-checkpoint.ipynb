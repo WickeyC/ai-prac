{
 "cells": [
  {
   "cell_type": "markdown",
   "metadata": {},
   "source": [
    "# Part 3: Collaborative Filtering Recommender System\n",
    "\n",
    "## Section A: Introduction\n",
    "\n",
    "**(Dataset)**: https://www.kaggle.com/datasets/rounakbanik/the-movies-dataset"
   ]
  },
  {
   "cell_type": "markdown",
   "metadata": {},
   "source": [
    "### Collaborative Filtering Recommender Systems\n",
    "\n",
    "▪ Collaborative filtering recommender systems do not require metadata like its content-based counterparts.\n",
    "\n",
    "▪ These systems try to predict the rating or preference that a user would give an item based on past interactions (ratings and preferences) recorded between users and items in order to produce new recommendations. \n",
    "\n",
    "<img src=\"collaborative.png\" width=\"350\">\n",
    "\n",
    "▪ These interactions are stored in the so-called \"user-item interactions matrix\".\n",
    "\n",
    "▪ A user-to-item matrix comprises individual users in the rows and individual elements in the columns. \n",
    "\n",
    "<img src=\"matrix.png\" width=\"600\">\n",
    "\n",
    "▪ Therefore, recommendation systems based on collaborative filtering can be categorized into two ways: **Item-based** and **User-based**."
   ]
  },
  {
   "cell_type": "markdown",
   "metadata": {},
   "source": [
    "## Section B: Walkthrough Examples\n",
    "\n",
    "### groupby()\n",
    "\n",
    "▪ DataFrame.groupby() function is used to collect the identical data into groups and perform **aggregate** functions on the grouped data. \n",
    "\n",
    "▪ Group by operation involves splitting the data, applying some functions, and finally aggregating the results.\n",
    "\n",
    "<img src=\"groupby.png\" width=\"800\">\n",
    "\n",
    "https://www.analyticsvidhya.com/blog/2020/03/groupby-pandas-aggregating-data-python/"
   ]
  },
  {
   "cell_type": "markdown",
   "metadata": {},
   "source": [
    "### Aggregation Functions\n",
    "\n",
    "▪ count() – Number of non-null observations\n",
    "\n",
    "▪ sum() – Sum of values\n",
    "\n",
    "▪ mean() – Mean of values\n",
    "\n",
    "▪ median() – Arithmetic median of values\n",
    "\n",
    "▪ min() – Minimum\n",
    "\n",
    "▪ max() – Maximum\n",
    "\n",
    "https://www.analyticsvidhya.com/blog/2020/03/groupby-pandas-aggregating-data-python/"
   ]
  },
  {
   "cell_type": "markdown",
   "metadata": {},
   "source": [
    "### Example 1\n",
    "\n",
    "https://pandas.pydata.org/docs/reference/api/pandas.DataFrame.groupby.html"
   ]
  },
  {
   "cell_type": "code",
   "execution_count": null,
   "metadata": {},
   "outputs": [],
   "source": [
    "import pandas as pd\n",
    "\n",
    "df_test = pd.DataFrame({'Animal': ['Falcon', 'Falcon', 'Parrot', 'Parrot'], \n",
    "                        'Max Speed': [380., 370., 24., 26.]})\n",
    "df_test"
   ]
  },
  {
   "cell_type": "markdown",
   "metadata": {},
   "source": [
    "### Calculating the occurrences of values"
   ]
  },
  {
   "cell_type": "code",
   "execution_count": null,
   "metadata": {},
   "outputs": [],
   "source": [
    "df_test.groupby(['Animal']).count()"
   ]
  },
  {
   "cell_type": "code",
   "execution_count": null,
   "metadata": {},
   "outputs": [],
   "source": [
    "df_test.groupby(['Animal']).agg({\"Max Speed\": \"count\"})"
   ]
  },
  {
   "cell_type": "markdown",
   "metadata": {},
   "source": [
    "### Calculating the mean of values"
   ]
  },
  {
   "cell_type": "code",
   "execution_count": null,
   "metadata": {},
   "outputs": [],
   "source": [
    "df_test.groupby(['Animal']).mean()"
   ]
  },
  {
   "cell_type": "markdown",
   "metadata": {},
   "source": [
    "### Calculating the median of values"
   ]
  },
  {
   "cell_type": "code",
   "execution_count": null,
   "metadata": {},
   "outputs": [],
   "source": [
    "df_test.groupby(['Animal']).median()"
   ]
  },
  {
   "cell_type": "markdown",
   "metadata": {},
   "source": [
    "### Calculating the sum of values"
   ]
  },
  {
   "cell_type": "code",
   "execution_count": null,
   "metadata": {},
   "outputs": [],
   "source": [
    "df_test.groupby(['Animal']).sum()"
   ]
  },
  {
   "cell_type": "markdown",
   "metadata": {},
   "source": [
    "### Calculating the min of values"
   ]
  },
  {
   "cell_type": "code",
   "execution_count": null,
   "metadata": {},
   "outputs": [],
   "source": [
    "df_test.groupby(['Animal']).min()"
   ]
  },
  {
   "cell_type": "markdown",
   "metadata": {},
   "source": [
    "### Calculating the max of values"
   ]
  },
  {
   "cell_type": "code",
   "execution_count": null,
   "metadata": {},
   "outputs": [],
   "source": [
    "df_test.groupby(['Animal']).max()"
   ]
  },
  {
   "cell_type": "markdown",
   "metadata": {},
   "source": [
    "### Example 2\n",
    "\n",
    "https://sparkbyexamples.com/pyspark/pandas-api-on-apache-spark-pyspark/"
   ]
  },
  {
   "cell_type": "code",
   "execution_count": null,
   "metadata": {},
   "outputs": [],
   "source": [
    "technologies = ({'Courses':[\"Spark\", \"PySpark\", \"Hadoop\", \"Python\", \"Pandas\", \"Hadoop\", \"Spark\", \"Python\", \"NA\"],\n",
    "                 'Fee':[22000, 25000, 23000, 24000, 26000, 25000, 25000, 22000, 1500],\n",
    "                 'Days':[30, 50, 55, 40, 60, 35, 30, 50, 40],\n",
    "                 'Discount':[1000, 2300, 1000, 1200, 2500, None, 1400, 1600, 0]})\n",
    "\n",
    "df_test = pd.DataFrame(technologies)\n",
    "df_test"
   ]
  },
  {
   "cell_type": "markdown",
   "metadata": {},
   "source": [
    "### Calculating the sum of values"
   ]
  },
  {
   "cell_type": "code",
   "execution_count": null,
   "metadata": {},
   "outputs": [],
   "source": [
    "df_test.groupby(['Courses']).sum()"
   ]
  },
  {
   "cell_type": "markdown",
   "metadata": {},
   "source": [
    "### Removing Sorting"
   ]
  },
  {
   "cell_type": "code",
   "execution_count": null,
   "metadata": {},
   "outputs": [],
   "source": [
    "df_test.groupby(by = ['Courses'], sort = False).sum()"
   ]
  },
  {
   "cell_type": "markdown",
   "metadata": {},
   "source": [
    "### Sorting Grouped Keys by Specific Column"
   ]
  },
  {
   "cell_type": "code",
   "execution_count": null,
   "metadata": {},
   "outputs": [],
   "source": [
    "# Sorting group keys on descending order by Fee\n",
    "df_test.groupby('Courses').sum().sort_values('Fee', ascending = False)"
   ]
  },
  {
   "cell_type": "code",
   "execution_count": null,
   "metadata": {},
   "outputs": [],
   "source": [
    "df_test.groupby('Courses').sum().sort_values('Days', ascending = False)"
   ]
  },
  {
   "cell_type": "markdown",
   "metadata": {},
   "source": [
    "### Using groupby() onto Two or More Columns"
   ]
  },
  {
   "cell_type": "code",
   "execution_count": null,
   "metadata": {},
   "outputs": [],
   "source": [
    "df_test.groupby(['Courses', 'Days']).sum()"
   ]
  },
  {
   "cell_type": "markdown",
   "metadata": {},
   "source": [
    "### Making the Courses as Indexes"
   ]
  },
  {
   "cell_type": "code",
   "execution_count": null,
   "metadata": {},
   "outputs": [],
   "source": [
    "df_test_2 = df_test.groupby(['Courses'])['Fee'].min()\n",
    "df_test_2"
   ]
  },
  {
   "cell_type": "code",
   "execution_count": null,
   "metadata": {},
   "outputs": [],
   "source": [
    "df_test_2.index"
   ]
  },
  {
   "cell_type": "markdown",
   "metadata": {},
   "source": [
    "### Resetting the Index Values as Indexes"
   ]
  },
  {
   "cell_type": "code",
   "execution_count": null,
   "metadata": {},
   "outputs": [],
   "source": [
    "df_test_2 = df_test.groupby(['Courses'])['Fee'].min().reset_index()\n",
    "df_test_2"
   ]
  },
  {
   "cell_type": "code",
   "execution_count": null,
   "metadata": {},
   "outputs": [],
   "source": [
    "df_test_2.index"
   ]
  },
  {
   "cell_type": "markdown",
   "metadata": {},
   "source": [
    "### Applying Multiple Functions onto a Column"
   ]
  },
  {
   "cell_type": "code",
   "execution_count": null,
   "metadata": {},
   "outputs": [],
   "source": [
    "df_test.groupby(['Courses'])['Fee'].aggregate(['min', 'max'])"
   ]
  },
  {
   "cell_type": "code",
   "execution_count": null,
   "metadata": {},
   "outputs": [],
   "source": [
    "df_test.groupby(['Courses'])['Fee'].agg(['min', 'max'])"
   ]
  },
  {
   "cell_type": "code",
   "execution_count": null,
   "metadata": {},
   "outputs": [],
   "source": [
    "df_test.groupby('Courses').aggregate({'Days':'count', 'Fee':['min','max']})"
   ]
  },
  {
   "cell_type": "markdown",
   "metadata": {},
   "source": [
    "### Applying Multiple Functions and Naming the Output Columns"
   ]
  },
  {
   "cell_type": "code",
   "execution_count": null,
   "metadata": {},
   "outputs": [],
   "source": [
    "df_test.groupby('Courses').agg(Days_Count = ('Days', 'count'), Min_Fee = ('Fee', 'min'), Max_Fee = ('Fee', 'max'))"
   ]
  },
  {
   "cell_type": "markdown",
   "metadata": {},
   "source": [
    "## Section C: Datasets Loading\n",
    "\n",
    "▪ This exercise involves the use of \"file.tsv\" and \"Movie_Id_Titles.csv\" datasets.\n",
    "\n",
    "▪ \"file.tsv\" contains 100,003 rows of records that store the user ratings."
   ]
  },
  {
   "cell_type": "markdown",
   "metadata": {},
   "source": [
    "### Loading Data into DataFrame"
   ]
  },
  {
   "cell_type": "code",
   "execution_count": null,
   "metadata": {},
   "outputs": [],
   "source": [
    "import pandas as pd \n",
    "\n",
    "df = pd.read_csv('file.tsv', sep = '\\t') \n",
    "df"
   ]
  },
  {
   "cell_type": "markdown",
   "metadata": {},
   "source": [
    "### Loading Data into DataFrame without Header"
   ]
  },
  {
   "cell_type": "code",
   "execution_count": null,
   "metadata": {},
   "outputs": [],
   "source": [
    "# file.tsv is tab-separated values file\n",
    "df = pd.read_csv('file.tsv', sep = '\\t', header = None) \n",
    "df"
   ]
  },
  {
   "cell_type": "markdown",
   "metadata": {},
   "source": [
    "### Creating Labels for Columns in DataFrame"
   ]
  },
  {
   "cell_type": "code",
   "execution_count": null,
   "metadata": {},
   "outputs": [],
   "source": [
    "df.columns = ['user_id', 'item_id', 'rating', 'timestamp'] \n",
    "df"
   ]
  },
  {
   "cell_type": "markdown",
   "metadata": {},
   "source": [
    "### Loading Movie_Id_Titles.csv into DataFrame\n",
    "\n",
    "▪ \"Movie_Id_Titles.csv\" contains 1682 movie titles associated with their item_id."
   ]
  },
  {
   "cell_type": "code",
   "execution_count": null,
   "metadata": {},
   "outputs": [],
   "source": [
    "movie_titles = pd.read_csv('Movie_Id_Titles.csv') \n",
    "movie_titles"
   ]
  },
  {
   "cell_type": "markdown",
   "metadata": {},
   "source": [
    "### Merging Two DataFrames Together based on item_id"
   ]
  },
  {
   "cell_type": "code",
   "execution_count": null,
   "metadata": {},
   "outputs": [],
   "source": [
    "data = pd.merge(df, movie_titles, on = 'item_id', sort = True) \n",
    "data"
   ]
  },
  {
   "cell_type": "code",
   "execution_count": null,
   "metadata": {},
   "outputs": [],
   "source": [
    "data = pd.merge(df, movie_titles, on = 'item_id', sort = False) \n",
    "data"
   ]
  },
  {
   "cell_type": "markdown",
   "metadata": {},
   "source": [
    "### iloc\n",
    "\n",
    "▪ The iloc() function enables us to select a value that belongs to a particular row or column from a set of values of a data frame or dataset."
   ]
  },
  {
   "cell_type": "code",
   "execution_count": null,
   "metadata": {},
   "outputs": [],
   "source": [
    "data.iloc[580:620]"
   ]
  },
  {
   "cell_type": "markdown",
   "metadata": {},
   "source": [
    "## Section D: Data Exploration\n",
    "\n",
    "### Grouping Movies by Titles + Applying the Count Function"
   ]
  },
  {
   "cell_type": "code",
   "execution_count": null,
   "metadata": {},
   "outputs": [],
   "source": [
    "df_rating = data.groupby('title').count()\n",
    "df_rating.head()"
   ]
  },
  {
   "cell_type": "code",
   "execution_count": null,
   "metadata": {},
   "outputs": [],
   "source": [
    "df_rating = data.groupby('title')['rating'].count()\n",
    "df_rating.head()"
   ]
  },
  {
   "cell_type": "markdown",
   "metadata": {},
   "source": [
    "### loc\n",
    "\n",
    "▪ Use loc to select rows from dataframe based on specified conditions: **df.loc[df[\"column name\"] condition]**"
   ]
  },
  {
   "cell_type": "code",
   "execution_count": null,
   "metadata": {},
   "outputs": [],
   "source": [
    "data.loc[data['item_id'] == 1300]"
   ]
  },
  {
   "cell_type": "code",
   "execution_count": null,
   "metadata": {},
   "outputs": [],
   "source": [
    "data.loc[data['title'].str.contains('Til There Was')]"
   ]
  },
  {
   "cell_type": "markdown",
   "metadata": {},
   "source": [
    "### Grouping Movies by Titles + Calculating Rating's Means + Viewing Ratings "
   ]
  },
  {
   "cell_type": "code",
   "execution_count": null,
   "metadata": {},
   "outputs": [],
   "source": [
    "# Version 1\n",
    "data.groupby('title')['rating'].mean()"
   ]
  },
  {
   "cell_type": "code",
   "execution_count": null,
   "metadata": {},
   "outputs": [],
   "source": [
    "# Version 2\n",
    "data.groupby('title')['rating'].agg('mean')"
   ]
  },
  {
   "cell_type": "code",
   "execution_count": null,
   "metadata": {},
   "outputs": [],
   "source": [
    "# Version 3\n",
    "data.groupby(by = ['title'])['rating'].agg('mean')"
   ]
  },
  {
   "cell_type": "code",
   "execution_count": null,
   "metadata": {},
   "outputs": [],
   "source": [
    "# Create a dataframe as the output instead of a series\n",
    "pd.DataFrame(data.groupby(by = ['title'])['rating'].agg('mean'))"
   ]
  },
  {
   "cell_type": "markdown",
   "metadata": {},
   "source": [
    "### Grouping Movies by Titles + Calculating Rating's Means + Viewing Ratings in Descending Order\n",
    "\n",
    "▪ Add sort_values() to groupby() to change the sort order descendingly by the mean value of rating column"
   ]
  },
  {
   "cell_type": "code",
   "execution_count": null,
   "metadata": {},
   "outputs": [],
   "source": [
    "data.groupby('title')['rating'].mean().sort_values(ascending = False)"
   ]
  },
  {
   "cell_type": "markdown",
   "metadata": {},
   "source": [
    "### Grouping Movies by Titles + Viewing Rating's Count in Descending Order"
   ]
  },
  {
   "cell_type": "code",
   "execution_count": null,
   "metadata": {},
   "outputs": [],
   "source": [
    "data.groupby('title')['rating'].count().sort_values(ascending = False)"
   ]
  },
  {
   "cell_type": "markdown",
   "metadata": {},
   "source": [
    "### Grouping Movies by Titles + Viewing Rating in Descending Order"
   ]
  },
  {
   "cell_type": "code",
   "execution_count": null,
   "metadata": {},
   "outputs": [],
   "source": [
    "data.groupby('title').agg(rating = ('rating', 'mean'), vote = ('rating', 'sum')).sort_values(by = 'vote', ascending = False)"
   ]
  },
  {
   "cell_type": "code",
   "execution_count": null,
   "metadata": {},
   "outputs": [],
   "source": [
    "data.groupby('title').agg(rating = ('rating', 'mean'), vote = ('rating', 'sum')).sort_values(by = ['rating', 'vote'], ascending = False)"
   ]
  },
  {
   "cell_type": "markdown",
   "metadata": {},
   "source": [
    "### Data Visualization with Histogram\n",
    "\n",
    "▪ Use a histogram to check out the number of ratings received against the count where bins = number of bins (how many bars to be displayed).\n",
    "\n",
    "<img src=\"bins.png\" width=\"500\">"
   ]
  },
  {
   "cell_type": "markdown",
   "metadata": {},
   "source": [
    "### Creating a Rating DataFrame"
   ]
  },
  {
   "cell_type": "code",
   "execution_count": null,
   "metadata": {},
   "outputs": [],
   "source": [
    "df_rating = data.groupby('title').agg(avg_rating = ('rating', 'mean'), no_ratings = ('rating', 'sum'))\n",
    "df_rating"
   ]
  },
  {
   "cell_type": "markdown",
   "metadata": {},
   "source": [
    "### Question: What can be observed from the histogram displayed below?"
   ]
  },
  {
   "cell_type": "code",
   "execution_count": null,
   "metadata": {
    "scrolled": true
   },
   "outputs": [],
   "source": [
    "import matplotlib.pyplot as plt \n",
    "import seaborn as sns \n",
    "  \n",
    "sns.set_style('white') \n",
    "%matplotlib inline \n",
    " \n",
    "# Plot graph of 'num of ratings column' \n",
    "plt.figure(figsize = (16, 24)) \n",
    "  \n",
    "df_rating['no_ratings'].hist(bins = 60) "
   ]
  },
  {
   "cell_type": "markdown",
   "metadata": {},
   "source": [
    "### Question: What can be observed from the histogram displayed below?"
   ]
  },
  {
   "cell_type": "code",
   "execution_count": null,
   "metadata": {},
   "outputs": [],
   "source": [
    "# Plot graph of 'ratings' column \n",
    "plt.figure(figsize = (16, 4)) \n",
    "  \n",
    "df_rating['avg_rating'].hist(bins = 60) "
   ]
  },
  {
   "cell_type": "markdown",
   "metadata": {},
   "source": [
    "## Section E: Building User-Item Interactions Matrix"
   ]
  },
  {
   "attachments": {
    "image.png": {
     "image/png": "[encoded data removed]"
    }
   },
   "cell_type": "markdown",
   "metadata": {},
   "source": [
    "▪ User-item matrix is a basic foundation of traditional collaborative filtering techniques. \n",
    "\n",
    "▪ The rating for a target movie item for an active user can be predicted by using a simple weighted average (mean). \n",
    "\n",
    "▪ We are going to transform the data into a user-to-item matrix, where each row represents one customer and the columns correspond to different products.\n",
    "\n",
    "![image.png](attachment:image.png)"
   ]
  },
  {
   "cell_type": "code",
   "execution_count": null,
   "metadata": {},
   "outputs": [],
   "source": [
    "user_movie_matrix = data.pivot_table(index = 'user_id', columns = ['title'], values = 'rating')\n",
    "user_movie_matrix.head()"
   ]
  },
  {
   "cell_type": "code",
   "execution_count": null,
   "metadata": {},
   "outputs": [],
   "source": [
    "user_movie_matrix = data.pivot_table(index = 'user_id', columns = ['title'], values = 'rating').fillna(0)\n",
    "user_movie_matrix.head()"
   ]
  },
  {
   "cell_type": "markdown",
   "metadata": {},
   "source": [
    "### Building Item-based Collaborative Filtering (Part 1)\n",
    "\n",
    "▪ Item-based collaborative filtering is the recommendation system to use the similarity between items based on the ratings given by users.\n",
    "\n",
    "### Identifying Users who Rated a Given Movie\n",
    "\n",
    "https://practicaldatascience.co.uk/data-science/how-to-create-a-collaborative-filtering-recommender-system"
   ]
  },
  {
   "cell_type": "code",
   "execution_count": null,
   "metadata": {},
   "outputs": [],
   "source": [
    "users_ratings = user_movie_matrix['101 Dalmatians (1996)']\n",
    "users_ratings.head(10)"
   ]
  },
  {
   "cell_type": "code",
   "execution_count": null,
   "metadata": {},
   "outputs": [],
   "source": [
    "users_ratings = user_movie_matrix['Young Guns (1988)']\n",
    "users_ratings.head(10)"
   ]
  },
  {
   "cell_type": "code",
   "execution_count": null,
   "metadata": {},
   "outputs": [],
   "source": [
    "users_ratings = user_movie_matrix['Star Wars (1977)']\n",
    "users_ratings.head(10)"
   ]
  },
  {
   "cell_type": "markdown",
   "metadata": {},
   "source": [
    "### Finding Correlations between A Selected Movie and All Other Movies\n",
    "\n",
    "▪ We can find the correlations of all movies against our target movie ('Star Wars (1977)') using the Pandas **corrwith()** function\n",
    "\n",
    "▪ If the item-based recommender system finds a high correlation, then it assumes similarity between movies.\n",
    "\n",
    "▪ **corrwith()** computes a pairwise correlation of the the rated movie series (or vector) with all of the other movies and returns the movies which have the most ratings in common. \n",
    "\n",
    "▪ The syntax of the corrwith() is: DataFrame.corrwith(other, axis=0, drop=False, method='pearson')\n",
    "\n",
    "▪ axis refers to the axis to be used, where 0 refers to **column-wise** computation, and 1 refers to **row-wise**. \n",
    "\n",
    "https://www.educative.io/answers/what-is-corrwith-function-in-pandas"
   ]
  },
  {
   "cell_type": "code",
   "execution_count": null,
   "metadata": {},
   "outputs": [],
   "source": [
    "similar_movies = user_movie_matrix.corrwith(users_ratings)\n",
    "similar_movies"
   ]
  },
  {
   "cell_type": "code",
   "execution_count": null,
   "metadata": {},
   "outputs": [],
   "source": [
    "# Create a dataframe with similar movies as the index column and name another column as correlation\n",
    "similar_movies = pd.DataFrame(similar_movies, columns = ['correlation'])\n",
    "similar_movies.head(10)"
   ]
  },
  {
   "cell_type": "markdown",
   "metadata": {},
   "source": [
    "### Recommending The Most Similar Movies\n",
    "\n",
    "▪ If we sort the movies in descending order of correlation with our target film, we get back a list of the ones which are highly correlated. \n",
    "\n",
    "▪ As the correlation will be higher we can use them as our recommendation."
   ]
  },
  {
   "cell_type": "code",
   "execution_count": null,
   "metadata": {},
   "outputs": [],
   "source": [
    "similar_movies.sort_values(by = 'correlation', ascending = False).head(10)"
   ]
  },
  {
   "cell_type": "markdown",
   "metadata": {},
   "source": [
    "### Recommending The Most Similar Popular Movies \n",
    "\n",
    "▪ Although they are highly correlated, it is unsure whether they are popular movies or not.\n",
    "\n",
    "▪ Assuming that the more votes a movie has, the more popular it is, therefore, to find out whether they are strong or weak recommendations, the number of ratings have to be taken into consideration"
   ]
  },
  {
   "cell_type": "code",
   "execution_count": null,
   "metadata": {},
   "outputs": [],
   "source": [
    "similar_movies.head(10)"
   ]
  },
  {
   "cell_type": "code",
   "execution_count": null,
   "metadata": {},
   "outputs": [],
   "source": [
    "df_rating = pd.DataFrame(data.groupby('title')['rating'].count())  \n",
    "df_rating.head(10)"
   ]
  },
  {
   "cell_type": "code",
   "execution_count": null,
   "metadata": {},
   "outputs": [],
   "source": [
    "similar_movies = similar_movies.join(df_rating['rating']).sort_values(by = 'correlation', ascending = False)\n",
    "similar_movies"
   ]
  },
  {
   "cell_type": "markdown",
   "metadata": {},
   "source": [
    "### Recommending 20 Most Similar Popular Movies "
   ]
  },
  {
   "cell_type": "code",
   "execution_count": null,
   "metadata": {},
   "outputs": [],
   "source": [
    "# Similar movies like starwars \n",
    "similar_movies_2 = similar_movies[similar_movies['rating'] > 100].sort_values(by = 'correlation', ascending = False)\n",
    "similar_movies_2.head(20)"
   ]
  },
  {
   "cell_type": "markdown",
   "metadata": {},
   "source": [
    "### Building User-based Collaborative Filtering (Part 2)\n",
    "\n",
    "▪ User-based collaborative filtering is a technique used to predict the items that a user might like on the basis of ratings given to that item by the other users who have similar taste with that of the target user. "
   ]
  },
  {
   "cell_type": "code",
   "execution_count": null,
   "metadata": {},
   "outputs": [],
   "source": [
    "user_movie_matrix = data.pivot_table(index = 'user_id', columns = ['title'], values = 'rating').fillna(0)\n",
    "user_movie_matrix.head()"
   ]
  },
  {
   "cell_type": "code",
   "execution_count": null,
   "metadata": {},
   "outputs": [],
   "source": [
    "movie_user_matrix = user_movie_matrix.transpose()\n",
    "movie_user_matrix.head(10)"
   ]
  },
  {
   "cell_type": "markdown",
   "metadata": {},
   "source": [
    "### Identify Ratings for Movies per User"
   ]
  },
  {
   "cell_type": "code",
   "execution_count": null,
   "metadata": {},
   "outputs": [],
   "source": [
    "# Retrieving column with the label 2 by indexing operator\n",
    "movie_ratings = movie_user_matrix[2]\n",
    "movie_ratings.head(10)"
   ]
  },
  {
   "cell_type": "code",
   "execution_count": null,
   "metadata": {},
   "outputs": [],
   "source": [
    "# Retrieving column with the label 7 by indexing operator\n",
    "movie_ratings = movie_user_matrix[7]\n",
    "movie_ratings.head(10)"
   ]
  },
  {
   "cell_type": "markdown",
   "metadata": {},
   "source": [
    "### Finding Correlations between A User and All Other Users\n",
    "\n",
    "▪ We can find the correlations of all users against our target user ('user_id' = 0) using the Pandas **corrwith()** function. \n",
    "\n",
    "▪ This is done by first generating data of the number of movies rated together.\n",
    "\n",
    "▪ If the user-based recommender system finds a high correlation, then it assumes similarity between users, and recommend movies based on similarity between users."
   ]
  },
  {
   "cell_type": "code",
   "execution_count": null,
   "metadata": {},
   "outputs": [],
   "source": [
    "# This is to find correlation between users based on the ratings of movies\n",
    "similar_users = movie_user_matrix.corrwith(movie_ratings)\n",
    "\n",
    "# Create a dataframe with similar movies as the index column and correlation as another column\n",
    "similar_users = pd.DataFrame(similar_users, columns = ['correlation'])\n",
    "similar_users.head(10)"
   ]
  },
  {
   "cell_type": "markdown",
   "metadata": {},
   "source": [
    "### Recommending Movies Based on The Most Similar User\n",
    "\n",
    "▪ If we sort the users in descending order of correlation with our target user, we get back a list of the ones which are highly correlated. \n",
    "\n",
    "▪ As the correlation will be higher we can use them as our recommendation.\n",
    "\n",
    "▪ The following code prints one user that is most similar to the selected user."
   ]
  },
  {
   "cell_type": "code",
   "execution_count": null,
   "metadata": {},
   "outputs": [],
   "source": [
    "most_similar_users = similar_users.sort_values(by = 'correlation', ascending = False).iloc[1:11]\n",
    "most_similar_users"
   ]
  },
  {
   "cell_type": "code",
   "execution_count": null,
   "metadata": {},
   "outputs": [],
   "source": [
    "# Extract user_id of the most similar users\n",
    "users = most_similar_users.index.values.tolist()\n",
    "users[0]"
   ]
  },
  {
   "cell_type": "code",
   "execution_count": null,
   "metadata": {},
   "outputs": [],
   "source": [
    "recommendation = data[data['user_id'] == users[0]]\n",
    "recommendation"
   ]
  },
  {
   "cell_type": "markdown",
   "metadata": {},
   "source": [
    "### DataFrame Slicing By Condition\n",
    "\n",
    "▪ **Condition 1**: the most similar user\n",
    "\n",
    "▪ **Condition 2**: rating > 0\n",
    "\n",
    "https://www.codegrepper.com/code-examples/python/how+to+extract+the+data+with+certain+condition+in+pandas"
   ]
  },
  {
   "cell_type": "code",
   "execution_count": null,
   "metadata": {},
   "outputs": [],
   "source": [
    "recommendation = data.loc[(data['user_id'] == users[0]) & (data['rating'] > 0), ['title', 'rating']]\n",
    "recommendation"
   ]
  },
  {
   "cell_type": "code",
   "execution_count": null,
   "metadata": {},
   "outputs": [],
   "source": [
    "recommendation = data.loc[(data['user_id'] == users[0]) & (data['rating'] > 3), ['title', 'rating']]\n",
    "recommendation"
   ]
  },
  {
   "cell_type": "markdown",
   "metadata": {},
   "source": [
    "## Exercise"
   ]
  },
  {
   "cell_type": "markdown",
   "metadata": {},
   "source": [
    "Perform steps in <b>Section 3</b> to recommend similar movies to the user if he likes \n",
    "\n",
    "1) Liar Liar (1997)\n",
    "\n",
    "2) Return of the Jedi (1983)"
   ]
  }
 ],
 "metadata": {
  "kernelspec": {
   "display_name": "Python 3 (ipykernel)",
   "language": "python",
   "name": "python3"
  },
  "language_info": {
   "codemirror_mode": {
    "name": "ipython",
    "version": 3
   },
   "file_extension": ".py",
   "mimetype": "text/x-python",
   "name": "python",
   "nbconvert_exporter": "python",
   "pygments_lexer": "ipython3",
   "version": "3.9.13"
  }
 },
 "nbformat": 4,
 "nbformat_minor": 2
}
