{
 "cells": [
  {
   "cell_type": "markdown",
   "metadata": {},
   "source": [
    "# Part 1: Simple Recommender System\n",
    "\n",
    "## Section A: Introduction\n",
    "\n",
    "▪ Recommender System refers to any system that recommends users objects (to purchase, to click on or to watch) which are attractive to them with a high probability.\n",
    "\n",
    "▪ The ability to recommend relevant products or services to users can be a huge boost for a company.\n",
    "\n",
    "▪ According to McKinsey, 75% of what people are watching on Netflix comes from recommendations.\n",
    "\n",
    "▪ **(The reference of this practical)** https://www.datacamp.com/community/tutorials/recommender-systems-python\n",
    "\n",
    "▪ **(Full dataset can be downloaded here)** https://www.kaggle.com/rounakbanik/the-movies-dataset?select=movies_metadata.csv\n",
    "\n",
    "### Simple Movies Recommender\n",
    "\n",
    "▪ They offer generalized recommendations to every user, based on any attribute that indicates popularity.\n",
    "\n",
    "▪ The basic idea behind this system is that movies that are more popular and critically acclaimed will have a higher probability of being liked by the average audience. "
   ]
  },
  {
   "cell_type": "markdown",
   "metadata": {},
   "source": [
    "## Section B: Data Exploration\n",
    "\n",
    "▪ The \"movies_metadata.csv\" file contains information about ~45,000 movies. \n",
    "\n",
    "▪ Features include posters, backdrops, budget, genre, revenue, release dates, languages, production countries, and companies.\n",
    "\n",
    "### Data vs. Metadata\n",
    "\n",
    "<img src=\"metadata.png\" width=\"400\">\n",
    "\n",
    "▪ Data is recorded facts. \n",
    "\n",
    "▪ Metadata is simply data about data, or a description and context of the data."
   ]
  },
  {
   "cell_type": "markdown",
   "metadata": {},
   "source": [
    "### Loading Dataset into Dataframe\n",
    "\n",
    "https://stackoverflow.com/questions/24251219/pandas-read-csv-low-memory-and-dtype-options"
   ]
  },
  {
   "cell_type": "code",
   "execution_count": 1,
   "metadata": {},
   "outputs": [
    {
     "name": "stderr",
     "output_type": "stream",
     "text": [
      "C:\\Users\\User\\AppData\\Local\\Temp\\ipykernel_11416\\2400473349.py:3: DtypeWarning: Columns (10) have mixed types. Specify dtype option on import or set low_memory=False.\n",
      "  movies_data = pd.read_csv('movies_metadata.csv')\n"
     ]
    }
   ],
   "source": [
    "import pandas as pd\n",
    "\n",
    "movies_data = pd.read_csv('movies_metadata.csv')"
   ]
  },
  {
   "cell_type": "code",
   "execution_count": 2,
   "metadata": {},
   "outputs": [],
   "source": [
    "movies_data = pd.read_csv('movies_metadata.csv', low_memory = False)"
   ]
  },
  {
   "cell_type": "code",
   "execution_count": 3,
   "metadata": {},
   "outputs": [
    {
     "data": {
      "text/plain": [
       "(45466, 24)"
      ]
     },
     "execution_count": 3,
     "metadata": {},
     "output_type": "execute_result"
    }
   ],
   "source": [
    "movies_data.shape"
   ]
  },
  {
   "cell_type": "code",
   "execution_count": 4,
   "metadata": {},
   "outputs": [
    {
     "data": {
      "text/html": [
       "<div>\n",
       "<style scoped>\n",
       "    .dataframe tbody tr th:only-of-type {\n",
       "        vertical-align: middle;\n",
       "    }\n",
       "\n",
       "    .dataframe tbody tr th {\n",
       "        vertical-align: top;\n",
       "    }\n",
       "\n",
       "    .dataframe thead th {\n",
       "        text-align: right;\n",
       "    }\n",
       "</style>\n",
       "<table border=\"1\" class=\"dataframe\">\n",
       "  <thead>\n",
       "    <tr style=\"text-align: right;\">\n",
       "      <th></th>\n",
       "      <th>adult</th>\n",
       "      <th>belongs_to_collection</th>\n",
       "      <th>budget</th>\n",
       "      <th>genres</th>\n",
       "      <th>homepage</th>\n",
       "      <th>id</th>\n",
       "      <th>imdb_id</th>\n",
       "      <th>original_language</th>\n",
       "      <th>original_title</th>\n",
       "      <th>overview</th>\n",
       "      <th>...</th>\n",
       "      <th>release_date</th>\n",
       "      <th>revenue</th>\n",
       "      <th>runtime</th>\n",
       "      <th>spoken_languages</th>\n",
       "      <th>status</th>\n",
       "      <th>tagline</th>\n",
       "      <th>title</th>\n",
       "      <th>video</th>\n",
       "      <th>vote_average</th>\n",
       "      <th>vote_count</th>\n",
       "    </tr>\n",
       "  </thead>\n",
       "  <tbody>\n",
       "    <tr>\n",
       "      <th>0</th>\n",
       "      <td>False</td>\n",
       "      <td>{'id': 10194, 'name': 'Toy Story Collection', ...</td>\n",
       "      <td>30000000</td>\n",
       "      <td>[{'id': 16, 'name': 'Animation'}, {'id': 35, '...</td>\n",
       "      <td>http://toystory.disney.com/toy-story</td>\n",
       "      <td>862</td>\n",
       "      <td>tt0114709</td>\n",
       "      <td>en</td>\n",
       "      <td>Toy Story</td>\n",
       "      <td>Led by Woody, Andy's toys live happily in his ...</td>\n",
       "      <td>...</td>\n",
       "      <td>1995-10-30</td>\n",
       "      <td>373554033.0</td>\n",
       "      <td>81.0</td>\n",
       "      <td>[{'iso_639_1': 'en', 'name': 'English'}]</td>\n",
       "      <td>Released</td>\n",
       "      <td>NaN</td>\n",
       "      <td>Toy Story</td>\n",
       "      <td>False</td>\n",
       "      <td>7.7</td>\n",
       "      <td>5415.0</td>\n",
       "    </tr>\n",
       "    <tr>\n",
       "      <th>1</th>\n",
       "      <td>False</td>\n",
       "      <td>NaN</td>\n",
       "      <td>65000000</td>\n",
       "      <td>[{'id': 12, 'name': 'Adventure'}, {'id': 14, '...</td>\n",
       "      <td>NaN</td>\n",
       "      <td>8844</td>\n",
       "      <td>tt0113497</td>\n",
       "      <td>en</td>\n",
       "      <td>Jumanji</td>\n",
       "      <td>When siblings Judy and Peter discover an encha...</td>\n",
       "      <td>...</td>\n",
       "      <td>1995-12-15</td>\n",
       "      <td>262797249.0</td>\n",
       "      <td>104.0</td>\n",
       "      <td>[{'iso_639_1': 'en', 'name': 'English'}, {'iso...</td>\n",
       "      <td>Released</td>\n",
       "      <td>Roll the dice and unleash the excitement!</td>\n",
       "      <td>Jumanji</td>\n",
       "      <td>False</td>\n",
       "      <td>6.9</td>\n",
       "      <td>2413.0</td>\n",
       "    </tr>\n",
       "    <tr>\n",
       "      <th>2</th>\n",
       "      <td>False</td>\n",
       "      <td>{'id': 119050, 'name': 'Grumpy Old Men Collect...</td>\n",
       "      <td>0</td>\n",
       "      <td>[{'id': 10749, 'name': 'Romance'}, {'id': 35, ...</td>\n",
       "      <td>NaN</td>\n",
       "      <td>15602</td>\n",
       "      <td>tt0113228</td>\n",
       "      <td>en</td>\n",
       "      <td>Grumpier Old Men</td>\n",
       "      <td>A family wedding reignites the ancient feud be...</td>\n",
       "      <td>...</td>\n",
       "      <td>1995-12-22</td>\n",
       "      <td>0.0</td>\n",
       "      <td>101.0</td>\n",
       "      <td>[{'iso_639_1': 'en', 'name': 'English'}]</td>\n",
       "      <td>Released</td>\n",
       "      <td>Still Yelling. Still Fighting. Still Ready for...</td>\n",
       "      <td>Grumpier Old Men</td>\n",
       "      <td>False</td>\n",
       "      <td>6.5</td>\n",
       "      <td>92.0</td>\n",
       "    </tr>\n",
       "  </tbody>\n",
       "</table>\n",
       "<p>3 rows × 24 columns</p>\n",
       "</div>"
      ],
      "text/plain": [
       "   adult                              belongs_to_collection    budget  \\\n",
       "0  False  {'id': 10194, 'name': 'Toy Story Collection', ...  30000000   \n",
       "1  False                                                NaN  65000000   \n",
       "2  False  {'id': 119050, 'name': 'Grumpy Old Men Collect...         0   \n",
       "\n",
       "                                              genres  \\\n",
       "0  [{'id': 16, 'name': 'Animation'}, {'id': 35, '...   \n",
       "1  [{'id': 12, 'name': 'Adventure'}, {'id': 14, '...   \n",
       "2  [{'id': 10749, 'name': 'Romance'}, {'id': 35, ...   \n",
       "\n",
       "                               homepage     id    imdb_id original_language  \\\n",
       "0  http://toystory.disney.com/toy-story    862  tt0114709                en   \n",
       "1                                   NaN   8844  tt0113497                en   \n",
       "2                                   NaN  15602  tt0113228                en   \n",
       "\n",
       "     original_title                                           overview  ...  \\\n",
       "0         Toy Story  Led by Woody, Andy's toys live happily in his ...  ...   \n",
       "1           Jumanji  When siblings Judy and Peter discover an encha...  ...   \n",
       "2  Grumpier Old Men  A family wedding reignites the ancient feud be...  ...   \n",
       "\n",
       "  release_date      revenue runtime  \\\n",
       "0   1995-10-30  373554033.0    81.0   \n",
       "1   1995-12-15  262797249.0   104.0   \n",
       "2   1995-12-22          0.0   101.0   \n",
       "\n",
       "                                    spoken_languages    status  \\\n",
       "0           [{'iso_639_1': 'en', 'name': 'English'}]  Released   \n",
       "1  [{'iso_639_1': 'en', 'name': 'English'}, {'iso...  Released   \n",
       "2           [{'iso_639_1': 'en', 'name': 'English'}]  Released   \n",
       "\n",
       "                                             tagline             title  video  \\\n",
       "0                                                NaN         Toy Story  False   \n",
       "1          Roll the dice and unleash the excitement!           Jumanji  False   \n",
       "2  Still Yelling. Still Fighting. Still Ready for...  Grumpier Old Men  False   \n",
       "\n",
       "  vote_average vote_count  \n",
       "0          7.7     5415.0  \n",
       "1          6.9     2413.0  \n",
       "2          6.5       92.0  \n",
       "\n",
       "[3 rows x 24 columns]"
      ]
     },
     "execution_count": 4,
     "metadata": {},
     "output_type": "execute_result"
    }
   ],
   "source": [
    "movies_data.head(3)"
   ]
  },
  {
   "cell_type": "markdown",
   "metadata": {},
   "source": [
    "### Retrieving All Columns' Names"
   ]
  },
  {
   "cell_type": "code",
   "execution_count": 5,
   "metadata": {},
   "outputs": [
    {
     "data": {
      "text/plain": [
       "Index(['adult', 'belongs_to_collection', 'budget', 'genres', 'homepage', 'id',\n",
       "       'imdb_id', 'original_language', 'original_title', 'overview',\n",
       "       'popularity', 'poster_path', 'production_companies',\n",
       "       'production_countries', 'release_date', 'revenue', 'runtime',\n",
       "       'spoken_languages', 'status', 'tagline', 'title', 'video',\n",
       "       'vote_average', 'vote_count'],\n",
       "      dtype='object')"
      ]
     },
     "execution_count": 5,
     "metadata": {},
     "output_type": "execute_result"
    }
   ],
   "source": [
    "movies_data.columns"
   ]
  },
  {
   "cell_type": "markdown",
   "metadata": {},
   "source": [
    "### Identifying the Best Indicator of Popularity\n",
    "\n",
    "▪ One possible option is the **movie ranking**, for instance, **top 250 movies based on their respective ratings such as vote_average**. \n",
    "\n",
    "▪ The **sort_values()** function sorts the DataFrame by the specified label.\n",
    "\n",
    "▪ Syntax: **sort_values(by, axis, ascending, inplace, kind, na_position, ignore_index, key)**"
   ]
  },
  {
   "cell_type": "code",
   "execution_count": 6,
   "metadata": {},
   "outputs": [
    {
     "data": {
      "text/html": [
       "<div>\n",
       "<style scoped>\n",
       "    .dataframe tbody tr th:only-of-type {\n",
       "        vertical-align: middle;\n",
       "    }\n",
       "\n",
       "    .dataframe tbody tr th {\n",
       "        vertical-align: top;\n",
       "    }\n",
       "\n",
       "    .dataframe thead th {\n",
       "        text-align: right;\n",
       "    }\n",
       "</style>\n",
       "<table border=\"1\" class=\"dataframe\">\n",
       "  <thead>\n",
       "    <tr style=\"text-align: right;\">\n",
       "      <th></th>\n",
       "      <th>adult</th>\n",
       "      <th>belongs_to_collection</th>\n",
       "      <th>budget</th>\n",
       "      <th>genres</th>\n",
       "      <th>homepage</th>\n",
       "      <th>id</th>\n",
       "      <th>imdb_id</th>\n",
       "      <th>original_language</th>\n",
       "      <th>original_title</th>\n",
       "      <th>overview</th>\n",
       "      <th>...</th>\n",
       "      <th>release_date</th>\n",
       "      <th>revenue</th>\n",
       "      <th>runtime</th>\n",
       "      <th>spoken_languages</th>\n",
       "      <th>status</th>\n",
       "      <th>tagline</th>\n",
       "      <th>title</th>\n",
       "      <th>video</th>\n",
       "      <th>vote_average</th>\n",
       "      <th>vote_count</th>\n",
       "    </tr>\n",
       "  </thead>\n",
       "  <tbody>\n",
       "    <tr>\n",
       "      <th>21642</th>\n",
       "      <td>False</td>\n",
       "      <td>NaN</td>\n",
       "      <td>0</td>\n",
       "      <td>[{'id': 99, 'name': 'Documentary'}]</td>\n",
       "      <td>NaN</td>\n",
       "      <td>320849</td>\n",
       "      <td>tt0886500</td>\n",
       "      <td>en</td>\n",
       "      <td>Ice Age Columbus: Who Were the First Americans?</td>\n",
       "      <td>Firmly rooted in the latest scientific discove...</td>\n",
       "      <td>...</td>\n",
       "      <td>2005-01-01</td>\n",
       "      <td>0.0</td>\n",
       "      <td>0.0</td>\n",
       "      <td>[]</td>\n",
       "      <td>Released</td>\n",
       "      <td>NaN</td>\n",
       "      <td>Ice Age Columbus: Who Were the First Americans?</td>\n",
       "      <td>False</td>\n",
       "      <td>10.0</td>\n",
       "      <td>1.0</td>\n",
       "    </tr>\n",
       "    <tr>\n",
       "      <th>15710</th>\n",
       "      <td>False</td>\n",
       "      <td>NaN</td>\n",
       "      <td>0</td>\n",
       "      <td>[{'id': 99, 'name': 'Documentary'}]</td>\n",
       "      <td>NaN</td>\n",
       "      <td>96451</td>\n",
       "      <td>tt1587373</td>\n",
       "      <td>en</td>\n",
       "      <td>If God Is Willing and da Creek Don't Rise</td>\n",
       "      <td>In 2006, director Spike Lee created an astonis...</td>\n",
       "      <td>...</td>\n",
       "      <td>2010-08-23</td>\n",
       "      <td>0.0</td>\n",
       "      <td>255.0</td>\n",
       "      <td>[]</td>\n",
       "      <td>Released</td>\n",
       "      <td>NaN</td>\n",
       "      <td>If God Is Willing and da Creek Don't Rise</td>\n",
       "      <td>False</td>\n",
       "      <td>10.0</td>\n",
       "      <td>1.0</td>\n",
       "    </tr>\n",
       "    <tr>\n",
       "      <th>22396</th>\n",
       "      <td>False</td>\n",
       "      <td>NaN</td>\n",
       "      <td>0</td>\n",
       "      <td>[{'id': 99, 'name': 'Documentary'}]</td>\n",
       "      <td>NaN</td>\n",
       "      <td>72123</td>\n",
       "      <td>tt1341746</td>\n",
       "      <td>en</td>\n",
       "      <td>Meat the Truth</td>\n",
       "      <td>Meat the Truth is a high-profile documentary w...</td>\n",
       "      <td>...</td>\n",
       "      <td>2008-10-03</td>\n",
       "      <td>0.0</td>\n",
       "      <td>74.0</td>\n",
       "      <td>[{'iso_639_1': 'en', 'name': 'English'}]</td>\n",
       "      <td>Released</td>\n",
       "      <td>NaN</td>\n",
       "      <td>Meat the Truth</td>\n",
       "      <td>False</td>\n",
       "      <td>10.0</td>\n",
       "      <td>1.0</td>\n",
       "    </tr>\n",
       "    <tr>\n",
       "      <th>22395</th>\n",
       "      <td>False</td>\n",
       "      <td>NaN</td>\n",
       "      <td>0</td>\n",
       "      <td>[{'id': 99, 'name': 'Documentary'}]</td>\n",
       "      <td>http://www.marvinhamlischmovie.com/</td>\n",
       "      <td>230864</td>\n",
       "      <td>tt3011874</td>\n",
       "      <td>en</td>\n",
       "      <td>Marvin Hamlisch: What He Did For Love</td>\n",
       "      <td>When Marvin Hamlisch passed away in August 201...</td>\n",
       "      <td>...</td>\n",
       "      <td>2013-10-12</td>\n",
       "      <td>0.0</td>\n",
       "      <td>82.0</td>\n",
       "      <td>[{'iso_639_1': 'en', 'name': 'English'}]</td>\n",
       "      <td>Released</td>\n",
       "      <td>NaN</td>\n",
       "      <td>Marvin Hamlisch: What He Did For Love</td>\n",
       "      <td>False</td>\n",
       "      <td>10.0</td>\n",
       "      <td>1.0</td>\n",
       "    </tr>\n",
       "    <tr>\n",
       "      <th>35343</th>\n",
       "      <td>False</td>\n",
       "      <td>NaN</td>\n",
       "      <td>300000</td>\n",
       "      <td>[{'id': 35, 'name': 'Comedy'}, {'id': 99, 'nam...</td>\n",
       "      <td>NaN</td>\n",
       "      <td>140595</td>\n",
       "      <td>tt0308213</td>\n",
       "      <td>en</td>\n",
       "      <td>Elaine Stritch: At Liberty</td>\n",
       "      <td>Judy at the Palace. Sinatra at Carnegie Hall. ...</td>\n",
       "      <td>...</td>\n",
       "      <td>2002-01-01</td>\n",
       "      <td>0.0</td>\n",
       "      <td>140.0</td>\n",
       "      <td>[{'iso_639_1': 'en', 'name': 'English'}]</td>\n",
       "      <td>Released</td>\n",
       "      <td>Legendary performances come along so rarely.</td>\n",
       "      <td>Elaine Stritch: At Liberty</td>\n",
       "      <td>False</td>\n",
       "      <td>10.0</td>\n",
       "      <td>1.0</td>\n",
       "    </tr>\n",
       "  </tbody>\n",
       "</table>\n",
       "<p>5 rows × 24 columns</p>\n",
       "</div>"
      ],
      "text/plain": [
       "       adult belongs_to_collection  budget  \\\n",
       "21642  False                   NaN       0   \n",
       "15710  False                   NaN       0   \n",
       "22396  False                   NaN       0   \n",
       "22395  False                   NaN       0   \n",
       "35343  False                   NaN  300000   \n",
       "\n",
       "                                                  genres  \\\n",
       "21642                [{'id': 99, 'name': 'Documentary'}]   \n",
       "15710                [{'id': 99, 'name': 'Documentary'}]   \n",
       "22396                [{'id': 99, 'name': 'Documentary'}]   \n",
       "22395                [{'id': 99, 'name': 'Documentary'}]   \n",
       "35343  [{'id': 35, 'name': 'Comedy'}, {'id': 99, 'nam...   \n",
       "\n",
       "                                  homepage      id    imdb_id  \\\n",
       "21642                                  NaN  320849  tt0886500   \n",
       "15710                                  NaN   96451  tt1587373   \n",
       "22396                                  NaN   72123  tt1341746   \n",
       "22395  http://www.marvinhamlischmovie.com/  230864  tt3011874   \n",
       "35343                                  NaN  140595  tt0308213   \n",
       "\n",
       "      original_language                                   original_title  \\\n",
       "21642                en  Ice Age Columbus: Who Were the First Americans?   \n",
       "15710                en        If God Is Willing and da Creek Don't Rise   \n",
       "22396                en                                   Meat the Truth   \n",
       "22395                en            Marvin Hamlisch: What He Did For Love   \n",
       "35343                en                       Elaine Stritch: At Liberty   \n",
       "\n",
       "                                                overview  ... release_date  \\\n",
       "21642  Firmly rooted in the latest scientific discove...  ...   2005-01-01   \n",
       "15710  In 2006, director Spike Lee created an astonis...  ...   2010-08-23   \n",
       "22396  Meat the Truth is a high-profile documentary w...  ...   2008-10-03   \n",
       "22395  When Marvin Hamlisch passed away in August 201...  ...   2013-10-12   \n",
       "35343  Judy at the Palace. Sinatra at Carnegie Hall. ...  ...   2002-01-01   \n",
       "\n",
       "      revenue runtime                          spoken_languages    status  \\\n",
       "21642     0.0     0.0                                        []  Released   \n",
       "15710     0.0   255.0                                        []  Released   \n",
       "22396     0.0    74.0  [{'iso_639_1': 'en', 'name': 'English'}]  Released   \n",
       "22395     0.0    82.0  [{'iso_639_1': 'en', 'name': 'English'}]  Released   \n",
       "35343     0.0   140.0  [{'iso_639_1': 'en', 'name': 'English'}]  Released   \n",
       "\n",
       "                                            tagline  \\\n",
       "21642                                           NaN   \n",
       "15710                                           NaN   \n",
       "22396                                           NaN   \n",
       "22395                                           NaN   \n",
       "35343  Legendary performances come along so rarely.   \n",
       "\n",
       "                                                 title  video vote_average  \\\n",
       "21642  Ice Age Columbus: Who Were the First Americans?  False         10.0   \n",
       "15710        If God Is Willing and da Creek Don't Rise  False         10.0   \n",
       "22396                                   Meat the Truth  False         10.0   \n",
       "22395            Marvin Hamlisch: What He Did For Love  False         10.0   \n",
       "35343                       Elaine Stritch: At Liberty  False         10.0   \n",
       "\n",
       "      vote_count  \n",
       "21642        1.0  \n",
       "15710        1.0  \n",
       "22396        1.0  \n",
       "22395        1.0  \n",
       "35343        1.0  \n",
       "\n",
       "[5 rows x 24 columns]"
      ]
     },
     "execution_count": 6,
     "metadata": {},
     "output_type": "execute_result"
    }
   ],
   "source": [
    "movies_data.sort_values(by = ['vote_average'], ascending = False).head()"
   ]
  },
  {
   "cell_type": "markdown",
   "metadata": {},
   "source": [
    "## Section C: Features Engineering\n",
    "\n",
    "### Sorting a DataFrame by Multiple Columns"
   ]
  },
  {
   "cell_type": "code",
   "execution_count": null,
   "metadata": {},
   "outputs": [],
   "source": [
    "movies_data.sort_values(by = ['vote_average', 'vote_count'], ascending = [False, False]).head()"
   ]
  },
  {
   "cell_type": "markdown",
   "metadata": {},
   "source": [
    "### Focusing only on the Relevant Data\n",
    "\n",
    "▪ Filter the dataframe down to the columns below:\n",
    "\n",
    "\\>>> original_title\n",
    "\n",
    "\\>>> vote_average\n",
    "\n",
    "\\>>> vote_count"
   ]
  },
  {
   "cell_type": "code",
   "execution_count": null,
   "metadata": {},
   "outputs": [],
   "source": [
    "df_movies = movies_data[['original_title', 'vote_average', 'vote_count']]\n",
    "df_movies"
   ]
  },
  {
   "attachments": {
    "image.png": {
     "image/png": "[encoded data removed]"
    }
   },
   "cell_type": "markdown",
   "metadata": {},
   "source": [
    "### Issue with Simple Rating?\n",
    "\n",
    "▪ Even the **vote_average** for a movie is very high, but it can be contributed by a single vote from one user only.\n",
    "\n",
    "### Weighted Rating\n",
    "\n",
    "▪ A weighted rating that takes into account the average rating and the number of votes it has accumulated.\n",
    "\n",
    "▪ We can use the following weighted rating formula as a metric:\n",
    "\n",
    "![image.png](attachment:image.png)\n",
    "\n",
    "In the above equation,\n",
    "\n",
    "\\>>> **v** is the number of votes for the movie (represented by **vote_count**)\n",
    "\n",
    "\\>>> **m** is the **minimum of votes** required to be listed in the chart (to be calculated)\n",
    "\n",
    "\\>>> **R** is the average rating of the movie (represented by **vote_average**)\n",
    "\n",
    "\\>>> **C** is the **mean of average votes** across the whole report (to be calculated)\n",
    "\n",
    "https://www.datacamp.com/tutorial/recommender-systems-python"
   ]
  },
  {
   "cell_type": "markdown",
   "metadata": {},
   "source": [
    "### What is the Minimum Vote to be Considered?\n",
    "\n",
    "▪ Suppose we want to use the 75th percentile as the number of minimum votes to be considered, then it means that for a movie to be featured in the charts, it must have more votes than at least 75% of the movies in the list (which is at least 34 votes).\n",
    "\n",
    "### describe()\n",
    "\n",
    "▪ Both the values of C and m can be viewed using describe().\n",
    "\n",
    "▪ From the output, we can observe that the **average rating** of a movie is around 5.6 on a scale of 10, and the **75th percentile** is at least 34 votes.\n",
    "\n",
    "https://www.datacamp.com/tutorial/recommender-systems-python"
   ]
  },
  {
   "cell_type": "code",
   "execution_count": null,
   "metadata": {},
   "outputs": [],
   "source": [
    "df_movies.describe()"
   ]
  },
  {
   "cell_type": "markdown",
   "metadata": {},
   "source": [
    "### mean()\n",
    "\n",
    "▪ To calculate the value of the **mean rating across all movies**, we use the pandas .mean() function."
   ]
  },
  {
   "cell_type": "code",
   "execution_count": null,
   "metadata": {},
   "outputs": [],
   "source": [
    "# Calculate mean of vote average column\n",
    "C = df_movies['vote_average'].mean()\n",
    "C"
   ]
  },
  {
   "cell_type": "markdown",
   "metadata": {},
   "source": [
    "### quantile()\n",
    "\n",
    "▪ Suppose we want to consider the 90th percentile. \n",
    "\n",
    "▪ In other words, for a movie to be featured in the charts, it must have more votes than at least 90% of the movies on the list.\n",
    "\n",
    "▪ To calculate the value of the 90th percentile, we use the pandas .quantile() function.\n",
    "\n",
    "https://www.datacamp.com/tutorial/recommender-systems-python"
   ]
  },
  {
   "cell_type": "code",
   "execution_count": null,
   "metadata": {},
   "outputs": [],
   "source": [
    "# Calculate the minimum number of votes required to be in the chart, m\n",
    "m = df_movies['vote_count'].quantile(0.90) \n",
    "m"
   ]
  },
  {
   "cell_type": "markdown",
   "metadata": {},
   "source": [
    "### List of Movies in the 90th Percentile"
   ]
  },
  {
   "cell_type": "code",
   "execution_count": null,
   "metadata": {},
   "outputs": [],
   "source": [
    "# Extract all qualified movies into a new DataFrame\n",
    "q_movies = df_movies.copy().loc[df_movies['vote_count'] >= m]\n",
    "q_movies"
   ]
  },
  {
   "cell_type": "code",
   "execution_count": null,
   "metadata": {},
   "outputs": [],
   "source": [
    "len(q_movies)"
   ]
  },
  {
   "attachments": {
    "image.png": {
     "image/png": "[encoded data removed]"
    }
   },
   "cell_type": "markdown",
   "metadata": {},
   "source": [
    "### Calculating the Weighted Rating Score (A New Feature)\n",
    "\n",
    "▪ The formula of weighted rating is as follows:\n",
    "\n",
    "![image.png](attachment:image.png)"
   ]
  },
  {
   "cell_type": "markdown",
   "metadata": {},
   "source": [
    "### apply()\n",
    "\n",
    "▪ The apply() function is used to apply a function along an axis of the DataFrame.\n",
    "\n",
    "▪ Objects passed to the function are Series objects whose index is either the DataFrame’s index (axis=0) or the DataFrame’s columns (axis=1).\n",
    "\n",
    "\\>>> 0 or 'index': apply function to each column.\n",
    "\n",
    "\\>>> 1 or 'columns': apply function to each row.\n",
    "\n",
    "▪ It returns either a dataframe or a series, but it does not make changes to the original DataFrame object.\n",
    "\n",
    "https://www.w3resource.com/pandas/dataframe/dataframe-apply.php"
   ]
  },
  {
   "cell_type": "markdown",
   "metadata": {},
   "source": [
    "### Example"
   ]
  },
  {
   "cell_type": "code",
   "execution_count": null,
   "metadata": {},
   "outputs": [],
   "source": [
    "df = pd.DataFrame([[9, 25]] * 3, columns=['P', 'Q'])\n",
    "df"
   ]
  },
  {
   "cell_type": "code",
   "execution_count": null,
   "metadata": {},
   "outputs": [],
   "source": [
    "import numpy as np\n",
    "\n",
    "# The following code is the same as np.sqrt(df))\n",
    "df.apply(np.sqrt)"
   ]
  },
  {
   "cell_type": "markdown",
   "metadata": {},
   "source": [
    "<img src=\"exp1.png\" width=\"400\">"
   ]
  },
  {
   "cell_type": "code",
   "execution_count": null,
   "metadata": {},
   "outputs": [],
   "source": [
    "df.apply(np.sum, axis=0)"
   ]
  },
  {
   "cell_type": "markdown",
   "metadata": {},
   "source": [
    "<img src=\"exp2.png\" width=\"400\">"
   ]
  },
  {
   "cell_type": "code",
   "execution_count": null,
   "metadata": {},
   "outputs": [],
   "source": [
    "df.apply(np.sum, axis=1)"
   ]
  },
  {
   "cell_type": "markdown",
   "metadata": {},
   "source": [
    "<img src=\"exp3.png\" width=\"400\">"
   ]
  },
  {
   "cell_type": "code",
   "execution_count": null,
   "metadata": {},
   "outputs": [],
   "source": [
    "# Function that computes the weighted rating of each movie\n",
    "def weighted_rating(x, m = m, C = C):\n",
    "    \n",
    "    v = x['vote_count']\n",
    "    R = x['vote_average']\n",
    "    \n",
    "    # Calculation based on the IMDB formula\n",
    "    return (v / (v + m) * R) + (m / (m + v) * C)"
   ]
  },
  {
   "cell_type": "code",
   "execution_count": null,
   "metadata": {},
   "outputs": [],
   "source": [
    "q_movies['score'] = q_movies.apply(weighted_rating, axis=1)\n",
    "q_movies['score'].head()"
   ]
  },
  {
   "cell_type": "code",
   "execution_count": null,
   "metadata": {},
   "outputs": [],
   "source": [
    "q_movies.head()"
   ]
  },
  {
   "cell_type": "markdown",
   "metadata": {},
   "source": [
    "## Section D: Recommending Top 20 Popular Movies\n",
    "\n",
    "▪ Sort the DataFrame in descending order based on the score feature column and output the title, vote count, vote average, and weighted rating (score) of the top 20 movies."
   ]
  },
  {
   "cell_type": "code",
   "execution_count": null,
   "metadata": {},
   "outputs": [],
   "source": [
    "# Sort movies based on score calculated above\n",
    "q_movies = q_movies.sort_values('score', ascending = False)\n",
    "\n",
    "# Print the top 20 movies\n",
    "q_movies.head(20)"
   ]
  },
  {
   "cell_type": "markdown",
   "metadata": {},
   "source": [
    "▪ This chart shows the top 20 popular movies with high rating. \n",
    "\n",
    "▪ Simple recommender is suitable for new users who did not have any interaction history in the system."
   ]
  },
  {
   "cell_type": "markdown",
   "metadata": {},
   "source": [
    "## Section E: Exercise\n",
    "\n",
    "▪ Assuming that a movie could be very popular if its revenue is high, then create a simple recommender system that recommends the top 25 popular movies based on this feature."
   ]
  }
 ],
 "metadata": {
  "kernelspec": {
   "display_name": "Python 3 (ipykernel)",
   "language": "python",
   "name": "python3"
  },
  "language_info": {
   "codemirror_mode": {
    "name": "ipython",
    "version": 3
   },
   "file_extension": ".py",
   "mimetype": "text/x-python",
   "name": "python",
   "nbconvert_exporter": "python",
   "pygments_lexer": "ipython3",
   "version": "3.9.13"
  }
 },
 "nbformat": 4,
 "nbformat_minor": 4
}
