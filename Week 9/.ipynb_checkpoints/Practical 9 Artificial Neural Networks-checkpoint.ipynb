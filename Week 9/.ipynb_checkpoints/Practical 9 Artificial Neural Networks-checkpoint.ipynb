{
 "cells": [
  {
   "cell_type": "markdown",
   "metadata": {},
   "source": [
    "# Practical 6: Artificial Neural Networks"
   ]
  },
  {
   "cell_type": "markdown",
   "metadata": {},
   "source": [
    "## Section A: An Introduction to ANNs\n",
    "\n",
    "### Artificial Neural Networks\n",
    "\n",
    "▪ Artificial Neural Networks (ANNs) are a special type of **machine learning algorithms** that are modeled after the human brain.\n",
    "\n",
    "▪ ANNs have the capabilities to learn, generalize the training data and derive results from complicated data.\n",
    "\n",
    "https://www.softwaretestinghelp.com/artificial-neural-network/"
   ]
  },
  {
   "cell_type": "markdown",
   "metadata": {},
   "source": [
    "### The Architecture of ANNs\n",
    "\n",
    "▪ ANNs consist of a series of interconnected neurons in a series of layers.\n",
    "\n",
    "▪ The multiple layers that are interconnected are often called \"Multilayer Perceptron\".\n",
    "\n",
    "▪ Overall, ANNs are comprised of three essential layers: an input layer, one or more hidden layers, and an output layer.\n",
    "\n",
    "<img src=\"ann.png\" width=\"500\">\n",
    "\n",
    "https://data-flair.training/blogs/artificial-neural-networks-for-machine-learning/"
   ]
  },
  {
   "cell_type": "markdown",
   "metadata": {},
   "source": [
    "## Section B: Walkthrough Examples\n",
    "\n",
    "### np.linspace()\n",
    "\n",
    "▪ linspace() is an in-built function used to create an **evenly spaced sequence** in a specified interval.\n",
    "\n",
    "▪ Essentally, we specify a **starting point** and an **ending point** of an interval, and then specify the **total number of breakpoints** we want within that interval (including the start and end points).\n",
    "\n",
    "▪ This code **np.linspace(start = 0, stop = 100, num = 5)** will produces a **NumPy array** that looks like:\n",
    "\n",
    "![](linspace1.png)\n",
    "\n",
    "https://www.educative.io/answers/what-is-the-linspace-method-in-numpy"
   ]
  },
  {
   "cell_type": "code",
   "execution_count": null,
   "metadata": {},
   "outputs": [],
   "source": [
    "import numpy as np\n",
    "\n",
    "x1 = np.linspace(0, 100, 100)\n",
    "\n",
    "print(x1)"
   ]
  },
  {
   "cell_type": "markdown",
   "metadata": {},
   "source": [
    "### Exercise: How many breakpoints will be created if it is not specified?"
   ]
  },
  {
   "cell_type": "code",
   "execution_count": null,
   "metadata": {},
   "outputs": [],
   "source": []
  },
  {
   "cell_type": "markdown",
   "metadata": {},
   "source": [
    "### np.sin()\n",
    "\n",
    "▪ We can use the Numpy sin() function to compute the trigonometric sine of single values, or sine values of arrays of numbers."
   ]
  },
  {
   "cell_type": "code",
   "execution_count": null,
   "metadata": {},
   "outputs": [],
   "source": [
    "sine_value = np.sin(90.19)\n",
    "sine_value"
   ]
  },
  {
   "cell_type": "code",
   "execution_count": null,
   "metadata": {},
   "outputs": [],
   "source": [
    "sine_values_x1 = np.sin(x1)\n",
    "sine_values_x1"
   ]
  },
  {
   "cell_type": "markdown",
   "metadata": {},
   "source": [
    "### Pyplot\n",
    "\n",
    "▪ **Pyplot** is a sub-module of the matplotlib library used for plotting simple 2D graphs in Python. \n",
    "\n",
    "▪ Pyplot can be imported using import matplotlib.pyplot.\n",
    "\n",
    "https://www.educative.io/answers/what-is-pyplot-in-python"
   ]
  },
  {
   "cell_type": "code",
   "execution_count": null,
   "metadata": {},
   "outputs": [],
   "source": [
    "import matplotlib.pyplot as pl\n",
    "\n",
    "fig = pl.figure()\n",
    "pl.plot(x1, sine_values_x1)"
   ]
  },
  {
   "cell_type": "markdown",
   "metadata": {},
   "source": [
    "### shape\n",
    "\n",
    "▪ The shape attribute always returns a tuple that represents the length of each dimension. \n",
    "\n",
    "https://pythonguides.com/python-numpy-shape/"
   ]
  },
  {
   "cell_type": "code",
   "execution_count": null,
   "metadata": {},
   "outputs": [],
   "source": [
    "print(sine_values_x1)"
   ]
  },
  {
   "cell_type": "markdown",
   "metadata": {},
   "source": [
    "### Exercise: What is the shape of sine_values_x1?"
   ]
  },
  {
   "cell_type": "code",
   "execution_count": null,
   "metadata": {},
   "outputs": [],
   "source": [
    "print(sine_values_x1.shape)"
   ]
  },
  {
   "cell_type": "markdown",
   "metadata": {},
   "source": [
    "### reshape()\n",
    "\n",
    "▪ The reshape() function is used to give a new shape to an array without changing its data.\n",
    "\n",
    "▪ The syntax of reshape() is **numpy.reshape(a, newshape)** where **a** is the array to be reshaped and **newshape** is the new shape that is compatible with the original shape. \n",
    "\n",
    "▪ If **newshape** is an integer, then the result will be a 1-D array of that length.\n",
    "\n",
    "<img src=\"reshape1.png\" width=\"160\">\n",
    "\n",
    "https://www.w3resource.com/numpy/manipulation/reshape.php"
   ]
  },
  {
   "cell_type": "markdown",
   "metadata": {},
   "source": [
    "### Exercise: What is the shape of x1?"
   ]
  },
  {
   "cell_type": "code",
   "execution_count": null,
   "metadata": {},
   "outputs": [],
   "source": [
    "x1 = np.array([[2, 3, 4], [5, 6, 7]])    \n",
    "print(x1)"
   ]
  },
  {
   "cell_type": "markdown",
   "metadata": {},
   "source": [
    "### Exercise: Reshape x1 to the shape of (3, 2)"
   ]
  },
  {
   "cell_type": "code",
   "execution_count": null,
   "metadata": {},
   "outputs": [],
   "source": []
  },
  {
   "cell_type": "markdown",
   "metadata": {},
   "source": [
    "### Exercise: Reshape x1 to the shape of (6, 1)"
   ]
  },
  {
   "cell_type": "code",
   "execution_count": null,
   "metadata": {},
   "outputs": [],
   "source": []
  },
  {
   "cell_type": "markdown",
   "metadata": {},
   "source": [
    "### Exercise: Reshape sine_values_x1 to two different valid shapes"
   ]
  },
  {
   "cell_type": "code",
   "execution_count": null,
   "metadata": {},
   "outputs": [],
   "source": []
  },
  {
   "cell_type": "markdown",
   "metadata": {},
   "source": [
    "## Section C: Supervised Learning with ANN\n",
    "\n",
    "### Instructions\n",
    "\n",
    "▪ In the following example, we will **implement a simple ANN system** (Multilayer Perceptron) **using the approximation function (1/2 * sin(x))**. \n",
    "\n",
    "▪ This example is taken from this link: https://pythonhosted.org/neurolab/ex_newff.html\n",
    "\n",
    "### Step 1: Creating 100 Training Samples Using (1/2 * sin(x))"
   ]
  },
  {
   "cell_type": "code",
   "execution_count": null,
   "metadata": {},
   "outputs": [],
   "source": [
    "x = np.linspace(-7, 7, 100) \n",
    "\n",
    "print(x)"
   ]
  },
  {
   "cell_type": "code",
   "execution_count": null,
   "metadata": {},
   "outputs": [],
   "source": [
    "print(x.shape)"
   ]
  },
  {
   "cell_type": "code",
   "execution_count": null,
   "metadata": {},
   "outputs": [],
   "source": [
    "# Use the sin() function to compute the trigonometric sine of x\n",
    "y = np.sin(x) * 0.5\n",
    "\n",
    "print(y)"
   ]
  },
  {
   "cell_type": "markdown",
   "metadata": {},
   "source": [
    "### Plotting the Results"
   ]
  },
  {
   "cell_type": "code",
   "execution_count": null,
   "metadata": {},
   "outputs": [],
   "source": [
    "pl.plot(x, y)\n",
    "\n",
    "# Customizing the plot by labelling the x-axis and y-axis\n",
    "pl.xlabel('Input')\n",
    "pl.ylabel('Output')\n",
    "\n",
    "pl.legend(['train target'])\n",
    "pl.show()"
   ]
  },
  {
   "cell_type": "markdown",
   "metadata": {},
   "source": [
    "### Reshaping Input and Output"
   ]
  },
  {
   "cell_type": "code",
   "execution_count": null,
   "metadata": {},
   "outputs": [],
   "source": [
    "print(y.shape)"
   ]
  },
  {
   "cell_type": "code",
   "execution_count": null,
   "metadata": {},
   "outputs": [],
   "source": [
    "# Identify the size of x using len(x)\n",
    "size = len(x) \n",
    "size"
   ]
  },
  {
   "cell_type": "code",
   "execution_count": null,
   "metadata": {},
   "outputs": [],
   "source": [
    "inp = x.reshape(size, 1)\n",
    "\n",
    "print(inp.shape)"
   ]
  },
  {
   "cell_type": "code",
   "execution_count": null,
   "metadata": {},
   "outputs": [],
   "source": [
    "tar = y.reshape(size, 1)\n",
    "\n",
    "print(tar.shape)"
   ]
  },
  {
   "cell_type": "markdown",
   "metadata": {},
   "source": [
    "### Step 2: Building ANN as a Multilayer Feed Forward Perceptron\n",
    "\n",
    "### Architecture\n",
    "\n",
    "▪ Assuming that we want to create an ANN with the following architecture: \n",
    "\n",
    "\\>>> The input layer has one neuron that will take in one input.\n",
    "\n",
    "\\>>> The hidden layer has five neurons.\n",
    "\n",
    "\\>>> The output layer has one output.\n",
    "\n",
    "<img src=\"architecture2.png\" width=\"600\">\n",
    "\n",
    "### neurolab.net.newff()\n",
    "\n",
    "▪ **newff()** that is available in the **Neurolab library** can used to create a feed-forward multilayer network object.\n",
    "\n",
    "▪ **NeuroLab** is a library of basic neural networks algorithms with flexible network configurations and learning algorithms for Python."
   ]
  },
  {
   "cell_type": "code",
   "execution_count": null,
   "metadata": {},
   "outputs": [],
   "source": [
    "import neurolab as nl # Simple and powerful Neural Network Library for Python"
   ]
  },
  {
   "cell_type": "markdown",
   "metadata": {},
   "source": [
    "### Error: No module named 'neurolab'?\n",
    "\n",
    "▪ Start Anaconda Prompt\n",
    "\n",
    "▪ Install neurolab using **pip** by running this command: >>> **pip install neurolab**"
   ]
  },
  {
   "cell_type": "markdown",
   "metadata": {},
   "source": [
    "### Creating a Network Using neurolab.net.newff()\n",
    "\n",
    "▪ The 1st argument \\[-7, 7\\] is min (-7) and max (7) values of predictor variables.\n",
    "\n",
    "▪ The 2nd argument is the number of nodes in each layer (i.e., 5 nodes in the hidden layer and 1 node in the output layer)."
   ]
  },
  {
   "cell_type": "code",
   "execution_count": null,
   "metadata": {},
   "outputs": [],
   "source": [
    "net = nl.net.newff([[-7, 7]], [5, 1])"
   ]
  },
  {
   "cell_type": "markdown",
   "metadata": {},
   "source": [
    "### Exercise: Write a Python code that will create a Network based on the following architecture\n",
    "\n",
    "▪ Assuming that we want to create an ANN with the following architecture: \n",
    "\n",
    "\\>>> The input layer has one neuron that will take in two inputs, in which their values range from -0.5 to 0.5.\n",
    "\n",
    "\\>>> The hidden layer has 3 neurons.\n",
    "\n",
    "\\>>> The output layer has one output.\n",
    "\n",
    "<img src=\"architecture1.png\" width=\"600\">"
   ]
  },
  {
   "cell_type": "code",
   "execution_count": null,
   "metadata": {},
   "outputs": [],
   "source": []
  },
  {
   "cell_type": "markdown",
   "metadata": {},
   "source": [
    "### Step 3: Training the Network\n",
    "\n",
    "▪ To train the network, we need to pass the necessary parameters into the **net.train()** function as follow:\n",
    "\n",
    "\\>>> **inp**: (array) - to pass in input data\n",
    "\n",
    "\\>>> **tar**: (array) - to pass in the corresponding data label\n",
    "\n",
    "\\>>> **epochs**: int (default 500) – Number of train epoch (iteration)\n",
    "\n",
    "\\>>> **show**: int (default 100) – Print period (to show the error calculated at every 100 epoch)\n",
    "\n",
    "\\>>> **goal**: float (default 0.01) – The goal of the training (The training will stop either the error is < goal or the maximum number of train epoch is reached)"
   ]
  },
  {
   "cell_type": "code",
   "execution_count": null,
   "metadata": {},
   "outputs": [],
   "source": [
    "error = net.train(inp, tar, epochs = 200, show = 10, goal = 0.01)"
   ]
  },
  {
   "cell_type": "markdown",
   "metadata": {},
   "source": [
    "### Step 4: Simulating the network using a different set of inputs (unseen samples)\n",
    "\n",
    "▪ Use **sim()** to simulate the neural networks.\n",
    "\n",
    "▪ **sim(x)** takes **x** as an input and produces an output as a **prediction**."
   ]
  },
  {
   "cell_type": "code",
   "execution_count": null,
   "metadata": {},
   "outputs": [],
   "source": [
    "help(net.sim)"
   ]
  },
  {
   "cell_type": "markdown",
   "metadata": {},
   "source": [
    "### Exercise: Create 50 data points within the same range as test data (named x2)"
   ]
  },
  {
   "cell_type": "code",
   "execution_count": null,
   "metadata": {},
   "outputs": [],
   "source": []
  },
  {
   "cell_type": "markdown",
   "metadata": {},
   "source": [
    "### Exercise: Reshape the test data (named test)"
   ]
  },
  {
   "cell_type": "code",
   "execution_count": null,
   "metadata": {},
   "outputs": [],
   "source": []
  },
  {
   "cell_type": "markdown",
   "metadata": {},
   "source": [
    "### Use **sim(x2)** to simulate the neural networks"
   ]
  },
  {
   "cell_type": "code",
   "execution_count": null,
   "metadata": {},
   "outputs": [],
   "source": [
    "prediction = net.sim(test)\n",
    "prediction"
   ]
  },
  {
   "cell_type": "markdown",
   "metadata": {},
   "source": [
    "### Step 5: Plotting the Results"
   ]
  },
  {
   "cell_type": "code",
   "execution_count": null,
   "metadata": {},
   "outputs": [],
   "source": [
    "y2 = prediction.reshape(size)\n",
    "\n",
    "# 'p': dots, '-': solid, '--': dashed, ':': dotted, '-.': dot-dashed, '.': points, 'o': filled circles, '^': filled triangles\n",
    "# 'b': blue, 'g': green, 'r': red, 'c': cyan, 'm': magenta, 'y': yellow, 'k': black, 'w': white\n",
    "pl.plot(x2, y2, 'p', color = 'orange')\n",
    "\n",
    "# Customizing the plot by labelling the x-axis and y-axis\n",
    "pl.xlabel('Input')\n",
    "pl.ylabel('Output')\n",
    "\n",
    "pl.legend(['net output'])\n",
    "pl.show()"
   ]
  },
  {
   "cell_type": "code",
   "execution_count": null,
   "metadata": {},
   "outputs": [],
   "source": [
    "# Use plot() to plot 2 graphs\n",
    "pl.plot(x, y, '-', x2, y2, 'p')\n",
    "\n",
    "# Customizing the plot by labelling the x-axis and y-axis\n",
    "pl.xlabel('Input')\n",
    "pl.ylabel('Output')\n",
    "\n",
    "pl.legend(['train target', 'net output'])\n",
    "pl.show()"
   ]
  },
  {
   "cell_type": "markdown",
   "metadata": {},
   "source": [
    "### Exercise: Use plot() to plot the 2 graphs (in the form of filled triangles + dot-dashed)"
   ]
  },
  {
   "cell_type": "code",
   "execution_count": null,
   "metadata": {},
   "outputs": [],
   "source": []
  },
  {
   "cell_type": "markdown",
   "metadata": {},
   "source": [
    "### Additional Exercises:\n",
    "\n",
    "▪ Repeat the program by using different number of neuron in the hidden layer (e.g: 1, 3, 5) in training step. Interpret the results and state the difference in outputs.\n",
    "\n",
    "▪ Repeat the program by using different number of epoch (e.g: 5, 50, 500) in the training step. Interpret the results and state the difference in outputs."
   ]
  },
  {
   "cell_type": "markdown",
   "metadata": {},
   "source": [
    "## Section D: Walkthrough Examples for One Hot Encoding\n",
    "\n",
    "### numpy.zeros()\n",
    "\n",
    "▪ The **zeros()** function is used to get a new array of given shape and type, filled with zeros.\n",
    "\n",
    "![](zeros.png)\n",
    "\n",
    "▪ The numpy.zeros() function syntax is: **zeros(shape, dtype=None)**\n",
    "\n",
    "\\>>> The shape is an int or tuple of ints to define the size of the array.\n",
    "\n",
    "\\>>> The dtype is an optional parameter with **default value as float**. It’s used to specify the data type of the array, for example, int.\n",
    "\n",
    "https://www.digitalocean.com/community/tutorials/numpy-zeros-in-python\n",
    "\n",
    "https://www.w3resource.com/numpy/array-creation/zeros.php"
   ]
  },
  {
   "cell_type": "markdown",
   "metadata": {},
   "source": [
    "### Creating one-dimensional array with zeros"
   ]
  },
  {
   "cell_type": "code",
   "execution_count": null,
   "metadata": {},
   "outputs": [],
   "source": [
    "import numpy as np\n",
    "\n",
    "array_1d = np.zeros(3)\n",
    "print(array_1d)"
   ]
  },
  {
   "cell_type": "markdown",
   "metadata": {},
   "source": [
    "### Creating Multi-dimensional array"
   ]
  },
  {
   "cell_type": "code",
   "execution_count": null,
   "metadata": {},
   "outputs": [],
   "source": [
    "array_2d = np.zeros((2, 3))\n",
    "print(array_2d)"
   ]
  },
  {
   "cell_type": "markdown",
   "metadata": {},
   "source": [
    "### Exercise: Creating multi-dimensional array with int data type"
   ]
  },
  {
   "cell_type": "code",
   "execution_count": null,
   "metadata": {},
   "outputs": [],
   "source": []
  },
  {
   "cell_type": "markdown",
   "metadata": {},
   "source": [
    "### Categorical Data\n",
    "\n",
    "▪ **Categorical data** refers to variables that are made up of label values. \n",
    "\n",
    "▪ For example, a \"color\" variable could have the values \"red\", \"blue\", and \"green\". \n",
    "\n",
    "### Label Encoding\n",
    "\n",
    "▪ **Label encoding**, also known as **integer encoding**, is one of the techniques used to perform numerical conversion.\n",
    "\n",
    "<img src=\"integer.png\">\n",
    "\n",
    "▪ In label encoding, a categorical value are replaced with a numeric value.\n",
    "\n",
    "### One Hot Encoding\n",
    "\n",
    "▪ One-hot encoding is another technique used to perform this conversion. \n",
    "\n",
    "▪ **One-hot encoding is essentially the representation of categorical variables as binary vectors.** \n",
    "\n",
    "▪ For example, we had our variables like colors and the labels were \"red\", \"green\", and \"blue\", we could encode each of these labels as a three-element binary vector as follows:\n",
    "\n",
    "<img src=\"r_g_b.png\">\n",
    "\n",
    "https://towardsdatascience.com/building-a-one-hot-encoding-layer-with-tensorflow-f907d686bf39"
   ]
  },
  {
   "cell_type": "markdown",
   "metadata": {},
   "source": [
    "### One-hot encoding manually"
   ]
  },
  {
   "cell_type": "code",
   "execution_count": null,
   "metadata": {},
   "outputs": [],
   "source": [
    "# Define a sample output of 10 elements using a list\n",
    "data = ['cold', 'cold', 'warm', 'cold', 'hot', 'hot', 'warm', 'cold', 'warm', 'hot']"
   ]
  },
  {
   "cell_type": "code",
   "execution_count": null,
   "metadata": {},
   "outputs": [],
   "source": [
    "from numpy import array\n",
    "\n",
    "# Create an ndarray from a list\n",
    "values = array(data)\n",
    "values"
   ]
  },
  {
   "cell_type": "code",
   "execution_count": null,
   "metadata": {},
   "outputs": [],
   "source": [
    "# Identify the size of the dataset\n",
    "size = len(values)\n",
    "size"
   ]
  },
  {
   "cell_type": "code",
   "execution_count": null,
   "metadata": {},
   "outputs": [],
   "source": [
    "# Create a 2D array of \"size\" rows and 3 columns \n",
    "data_ohe = np.zeros((size, 3))\n",
    "data_ohe"
   ]
  },
  {
   "cell_type": "code",
   "execution_count": null,
   "metadata": {},
   "outputs": [],
   "source": [
    "# Perform one-hot encoding \n",
    "for i in range(size):\n",
    "    if values[i] == \"cold\":\n",
    "        data_ohe[i, 0] = 1\n",
    "    if values[i] == \"hot\":\n",
    "        data_ohe[i, 1] = 1\n",
    "    if values[i] == \"warm\":\n",
    "        data_ohe[i, 2] = 1\n",
    "        \n",
    "print(data_ohe)"
   ]
  },
  {
   "cell_type": "markdown",
   "metadata": {},
   "source": [
    "### One-hot encoding using scikit-learn\n",
    "\n",
    "▪ A walk-through example is provided in the code cell below."
   ]
  },
  {
   "cell_type": "code",
   "execution_count": null,
   "metadata": {},
   "outputs": [],
   "source": [
    "from sklearn.preprocessing import LabelEncoder\n",
    "\n",
    "# Integer encoding: Map each category with an integer using LabelEncoder\n",
    "label_encoder = LabelEncoder()\n",
    "integer_encoded = label_encoder.fit_transform(values)\n",
    "\n",
    "print(values)\n",
    "print(integer_encoded)"
   ]
  },
  {
   "cell_type": "code",
   "execution_count": null,
   "metadata": {},
   "outputs": [],
   "source": [
    "integer_encoded = integer_encoded.reshape(len(integer_encoded), 1)\n",
    "print(integer_encoded)"
   ]
  },
  {
   "cell_type": "code",
   "execution_count": null,
   "metadata": {},
   "outputs": [],
   "source": [
    "from sklearn.preprocessing import OneHotEncoder\n",
    "\n",
    "# Binary encoding: Use one hot encoding to convert categorical data to binary data\n",
    "onehot_encoder = OneHotEncoder(sparse=False)\n",
    "onehot_encoded = onehot_encoder.fit_transform(integer_encoded)\n",
    "\n",
    "print(values)\n",
    "print(onehot_encoded)"
   ]
  },
  {
   "cell_type": "markdown",
   "metadata": {},
   "source": [
    "## Section E: ANN Exercise\n",
    "\n",
    "### Instructions:\n",
    "\n",
    "▪ Implement an ANN to classify the iris data. \n",
    "\n",
    "▪ Reuse the code from the previous practical for data preprocessing.\n",
    "\n",
    "▪ Train the ANN with the following setup:\n",
    "\n",
    "\\>>> 4 input neurons (to feed in 4 attributes of iris data)\n",
    "\n",
    "\\>>> 2 hidden layers with 5 neurons each\n",
    "\n",
    "\\>>> 1 output layer with 3 neurons (represent 3 iris classes)\n",
    "\n",
    "<img src=\"architecture4.png\" width=\"600\">\n",
    "\n",
    "▪ Simulate the network using the same input and then evaluate the output.\n",
    "\n",
    "### Hint:\n",
    "\n",
    "▪ To create the target in ANN, represents the iris class (or target) with 150 * 3 array. \n",
    "\n",
    "▪ Each column represents respective class and indicate \"1\" as true and \"0\" as false. \n",
    "\n",
    "▪ For example: if the first instance is Iris-setosa, then:\n",
    "\n",
    "|Iris-Setosa | Iris-Versicolor | Iris-Virginica|\n",
    "|---|---|---|\n",
    "|1 | 0 | 0|"
   ]
  },
  {
   "cell_type": "markdown",
   "metadata": {},
   "source": [
    "### Step 1: Loading the Iris Dataset into a Dataframe named _df_"
   ]
  },
  {
   "cell_type": "code",
   "execution_count": null,
   "metadata": {},
   "outputs": [],
   "source": [
    "import pandas as pd\n",
    "df = pd.read_csv(\"Iris_Data2.csv\")"
   ]
  },
  {
   "cell_type": "markdown",
   "metadata": {},
   "source": [
    "### Step 2: Extracting Features from _df_ into another Dataframe named _iris\\_attribute_"
   ]
  },
  {
   "cell_type": "code",
   "execution_count": null,
   "metadata": {},
   "outputs": [],
   "source": [
    "# Identifying columns to be used as the inputs\n",
    "input_columns = df.columns[:-1]\n",
    "input_columns"
   ]
  },
  {
   "cell_type": "code",
   "execution_count": null,
   "metadata": {},
   "outputs": [],
   "source": [
    "# Extracting columns to be used as the inputs\n",
    "iris_attribute = df[input_columns]\n",
    "iris_attribute"
   ]
  },
  {
   "cell_type": "markdown",
   "metadata": {},
   "source": [
    "### Step 3A: Extracting Labels from _df_ into _iris\\_class_ using One Hot Encoding (Manually)"
   ]
  },
  {
   "cell_type": "code",
   "execution_count": null,
   "metadata": {},
   "outputs": [],
   "source": [
    "import numpy as np\n",
    "\n",
    "size = len(df.index)\n",
    "iris_class = np.zeros((size, 3))\n",
    "\n",
    "for i in range(size):\n",
    "    if df.species[i] == \"Iris-setosa\":\n",
    "        iris_class[i, 0] = 1\n",
    "    if df.species[i] == \"Iris-versicolor\":\n",
    "        iris_class[i, 1] = 1\n",
    "    if df.species[i] == \"Iris-verginica\":\n",
    "        iris_class[i, 2] = 1"
   ]
  },
  {
   "cell_type": "markdown",
   "metadata": {},
   "source": [
    "### Step 3B: Extracting Labels from _df_ into _iris\\_class_ using One Hot Encoding (Scikit-Learn)"
   ]
  },
  {
   "cell_type": "code",
   "execution_count": null,
   "metadata": {},
   "outputs": [],
   "source": [
    "values = df[\"species\"]\n",
    "print(values)"
   ]
  },
  {
   "cell_type": "code",
   "execution_count": null,
   "metadata": {},
   "outputs": [],
   "source": [
    "# The reason is that 'Iris-setosa', 'Iris-verginica' and 'Iris-versicolor' are in ascending order\n",
    "label_encoder = LabelEncoder()\n",
    "integer_encoded = label_encoder.fit_transform(values)\n",
    "print(integer_encoded)"
   ]
  },
  {
   "cell_type": "code",
   "execution_count": null,
   "metadata": {},
   "outputs": [],
   "source": [
    "# Reshape integer_encoded into a 2d array\n",
    "integer_encoded = integer_encoded.reshape(len(integer_encoded), 1)"
   ]
  },
  {
   "cell_type": "code",
   "execution_count": null,
   "metadata": {},
   "outputs": [],
   "source": [
    "from sklearn.preprocessing import OneHotEncoder\n",
    "\n",
    "# Binary encode: Use one hot encoding to convert categorical data to binary data\n",
    "onehot_encoder = OneHotEncoder(sparse=False)\n",
    "iris_class = onehot_encoder.fit_transform(integer_encoded)\n",
    "print(iris_class)"
   ]
  },
  {
   "cell_type": "markdown",
   "metadata": {},
   "source": [
    "### Step 4: Getting the Input and Label named _inp_ and _tar_ Ready for Training"
   ]
  },
  {
   "cell_type": "code",
   "execution_count": null,
   "metadata": {},
   "outputs": [],
   "source": [
    "inp = iris_attribute\n",
    "tar = iris_class"
   ]
  },
  {
   "cell_type": "markdown",
   "metadata": {},
   "source": [
    "### Step 5: Building an ANN object named _net_ as a Multilayer Feed Forward Perceptron\n",
    "\n",
    "### Architecture:\n",
    "\n",
    "▪ 4 input neurons (to feed in 4 attributes of iris data)\n",
    "\n",
    "▪ 2 hidden layers with 5 neurons each\n",
    "\n",
    "▪ 1 output layer with 3 neurons (represent 3 iris classes)"
   ]
  },
  {
   "cell_type": "code",
   "execution_count": null,
   "metadata": {
    "scrolled": true
   },
   "outputs": [],
   "source": []
  },
  {
   "cell_type": "markdown",
   "metadata": {},
   "source": [
    "### Step 6: Training the Network"
   ]
  },
  {
   "cell_type": "code",
   "execution_count": null,
   "metadata": {},
   "outputs": [],
   "source": []
  },
  {
   "cell_type": "markdown",
   "metadata": {},
   "source": [
    "### Step 7: Simulating the Network to Produce _predicted\\_values_ as Prediction\n",
    "\n",
    "▪ Use **sim(inp)** to simulate the neural networks by taking **inp** as the input to produce **predicted_values** as the output."
   ]
  },
  {
   "cell_type": "code",
   "execution_count": null,
   "metadata": {
    "scrolled": false
   },
   "outputs": [],
   "source": []
  },
  {
   "cell_type": "markdown",
   "metadata": {},
   "source": [
    "### Step 8: Converting _predicted\\_values_ to Class Labels named _predicted\\_class_ Using where()\n",
    "\n",
    "▪ Convert predicted values into predicted classes that contains labels using the threshold of 0.5 by converting all values > 0.5 to 1 and the rest to 0"
   ]
  },
  {
   "cell_type": "code",
   "execution_count": null,
   "metadata": {},
   "outputs": [],
   "source": [
    "predicted_class = np.where(predicted_values > 0.5, 1., 0.)\n",
    "print(predicted_class)"
   ]
  },
  {
   "cell_type": "markdown",
   "metadata": {},
   "source": [
    "### Walkthrough Examples: argmax()\n",
    "\n",
    "▪ The argmax function returns the index of the maximum value of a Numpy array.\n",
    "\n",
    "▪ The syntax of np.argmax is really pretty simple:\n",
    "\n",
    "<img src=\"argmax2.png\" width=\"400\">\n",
    "\n",
    "▪ Numpy arrays have axes that are like directions along the numpy array:\n",
    "\n",
    "<img src=\"argmax3.png\" width=\"400\">\n",
    "\n",
    "▪ The following illustration explains the following code (why the output is 5 for y1):\n",
    "\n",
    "<img src=\"argmax4.png\" width=\"550\">"
   ]
  },
  {
   "cell_type": "code",
   "execution_count": null,
   "metadata": {},
   "outputs": [],
   "source": [
    "# 5 is the output because axis is not specified, and the maximum value is chosen from the entire 2D array\n",
    "my_2d_array = np.array([[100, 2, 3], [4, 5, 600]])\n",
    "y1 = np.argmax(my_2d_array)\n",
    "print(y1)"
   ]
  },
  {
   "cell_type": "code",
   "execution_count": null,
   "metadata": {},
   "outputs": [],
   "source": [
    "my_1d_array = np.array([1, 2, 3, 100, 5])\n",
    "y2 = np.argmax(a = my_1d_array)\n",
    "print(y2)"
   ]
  },
  {
   "cell_type": "markdown",
   "metadata": {},
   "source": [
    "▪ The following illustration explains the following code (why the output is \\[0 1 1\\] for y2):\n",
    "\n",
    "<img src=\"argmax5.png\" width=\"550\">"
   ]
  },
  {
   "cell_type": "code",
   "execution_count": null,
   "metadata": {},
   "outputs": [],
   "source": [
    "y3 = np.argmax(my_2d_array, axis = 0)\n",
    "print(y3)"
   ]
  },
  {
   "cell_type": "markdown",
   "metadata": {},
   "source": [
    "▪ The following illustration explains the following code (why the output is \\[0 2\\] for y3):\n",
    "\n",
    "<img src=\"argmax6.png\" width=\"500\">\n",
    "\n",
    "https://www.sharpsightlabs.com/blog/numpy-argmax/"
   ]
  },
  {
   "cell_type": "code",
   "execution_count": null,
   "metadata": {},
   "outputs": [],
   "source": [
    "y4 = np.argmax(my_2d_array, axis = 1)\n",
    "print(y4)"
   ]
  },
  {
   "cell_type": "markdown",
   "metadata": {},
   "source": [
    "### Step 9: Extracting Labels and Prediction from _iris_class_ and _predicted_class Respectively"
   ]
  },
  {
   "cell_type": "code",
   "execution_count": null,
   "metadata": {},
   "outputs": [],
   "source": [
    "from sklearn.metrics import confusion_matrix as cm\n",
    "\n",
    "confusion_matrix = cm(iris_class.argmax(axis = 1), predicted_class.argmax(axis = 1))\n",
    "print(confusion_matrix)"
   ]
  },
  {
   "cell_type": "code",
   "execution_count": null,
   "metadata": {},
   "outputs": [],
   "source": [
    "y_label = np.argmax(iris_class, axis = 1)\n",
    "print(y_label)"
   ]
  },
  {
   "cell_type": "code",
   "execution_count": null,
   "metadata": {},
   "outputs": [],
   "source": [
    "predict_label = np.argmax(predicted_class, axis = 1)\n",
    "print(predict_label)"
   ]
  },
  {
   "cell_type": "markdown",
   "metadata": {},
   "source": [
    "### Step 8: Evaluating the Result (Hint: sklearn)\n",
    "\n",
    "▪ Code for calculating accuracy is available in the link below:\n",
    "\n",
    "https://www.kaggle.com/code/louisong97/neural-network-approach-to-iris-dataset/notebook"
   ]
  },
  {
   "cell_type": "code",
   "execution_count": null,
   "metadata": {},
   "outputs": [],
   "source": [
    "accuracy = np.sum(y_label == predict_label) / len(y_label)\n",
    "print(\"Accuracy:\", accuracy)"
   ]
  },
  {
   "cell_type": "markdown",
   "metadata": {},
   "source": [
    "## Section F: Test the Trained ANN Classifier with a Randomized Iris Dataset\n",
    "\n",
    "### Question\n",
    "\n",
    "▪ Feed the trained model with randomly shuffled iris dataset and evaluate its classification performance."
   ]
  },
  {
   "cell_type": "code",
   "execution_count": null,
   "metadata": {},
   "outputs": [],
   "source": []
  }
 ],
 "metadata": {
  "kernelspec": {
   "display_name": "Python 3 (ipykernel)",
   "language": "python",
   "name": "python3"
  },
  "language_info": {
   "codemirror_mode": {
    "name": "ipython",
    "version": 3
   },
   "file_extension": ".py",
   "mimetype": "text/x-python",
   "name": "python",
   "nbconvert_exporter": "python",
   "pygments_lexer": "ipython3",
   "version": "3.9.12"
  }
 },
 "nbformat": 4,
 "nbformat_minor": 2
}
