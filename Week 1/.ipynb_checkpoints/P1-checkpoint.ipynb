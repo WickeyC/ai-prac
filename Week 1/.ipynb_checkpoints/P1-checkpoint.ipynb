{
 "cells": [
  {
   "cell_type": "markdown",
   "id": "744513bd",
   "metadata": {},
   "source": [
    "### Explanation\n",
    "This code cell decalres two variables"
   ]
  },
  {
   "cell_type": "code",
   "execution_count": 1,
   "id": "188f91dd",
   "metadata": {},
   "outputs": [],
   "source": [
    "x = 7\n",
    "y = 10"
   ]
  },
  {
   "cell_type": "markdown",
   "id": "74f4f939",
   "metadata": {},
   "source": [
    "### Result\n",
    "This code cell displays the results"
   ]
  },
  {
   "cell_type": "code",
   "execution_count": 3,
   "id": "16e12599",
   "metadata": {},
   "outputs": [
    {
     "data": {
      "text/plain": [
       "17"
      ]
     },
     "execution_count": 3,
     "metadata": {},
     "output_type": "execute_result"
    }
   ],
   "source": [
    "x + y"
   ]
  }
 ],
 "metadata": {
  "kernelspec": {
   "display_name": "Python 3 (ipykernel)",
   "language": "python",
   "name": "python3"
  },
  "language_info": {
   "codemirror_mode": {
    "name": "ipython",
    "version": 3
   },
   "file_extension": ".py",
   "mimetype": "text/x-python",
   "name": "python",
   "nbconvert_exporter": "python",
   "pygments_lexer": "ipython3",
   "version": "3.9.13"
  }
 },
 "nbformat": 4,
 "nbformat_minor": 5
}
