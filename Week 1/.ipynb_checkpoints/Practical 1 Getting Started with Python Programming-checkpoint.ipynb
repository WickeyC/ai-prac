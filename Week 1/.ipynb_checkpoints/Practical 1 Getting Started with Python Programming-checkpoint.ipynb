{
 "cells": [
  {
   "cell_type": "markdown",
   "metadata": {},
   "source": [
    "# Practical 1-3: Getting Started with Python Programming\n",
    "\n",
    "# Part 1: Data Types and Variables\n",
    "\n",
    "## 1.1 Numbers and Operators\n",
    "\n",
    "### 1.1.1 Arithmetic Operators\n",
    "\n",
    "Operator | Meaning\n",
    "---------| ------------------------------------\n",
    "\\+       | Addition\n",
    "\\- \t     | Subtraction\n",
    "\\*       | Multiplication\n",
    "/        | Division\n",
    "//       | Floor division (or integer division)\n",
    "%        | Modulus (or remainder)\n",
    "**       | Exponentiation (power operator)"
   ]
  },
  {
   "cell_type": "code",
   "execution_count": 1,
   "metadata": {},
   "outputs": [
    {
     "data": {
      "text/plain": [
       "60"
      ]
     },
     "execution_count": 1,
     "metadata": {},
     "output_type": "execute_result"
    }
   ],
   "source": [
    "20 + 40"
   ]
  },
  {
   "cell_type": "code",
   "execution_count": 2,
   "metadata": {},
   "outputs": [
    {
     "data": {
      "text/plain": [
       "60.0"
      ]
     },
     "execution_count": 2,
     "metadata": {},
     "output_type": "execute_result"
    }
   ],
   "source": [
    "20 + 40.0"
   ]
  },
  {
   "cell_type": "code",
   "execution_count": 3,
   "metadata": {},
   "outputs": [
    {
     "data": {
      "text/plain": [
       "20"
      ]
     },
     "execution_count": 3,
     "metadata": {},
     "output_type": "execute_result"
    }
   ],
   "source": [
    "50 - 5 * 6"
   ]
  },
  {
   "cell_type": "code",
   "execution_count": 4,
   "metadata": {},
   "outputs": [
    {
     "data": {
      "text/plain": [
       "0.5"
      ]
     },
     "execution_count": 4,
     "metadata": {},
     "output_type": "execute_result"
    }
   ],
   "source": [
    "1 / 2"
   ]
  },
  {
   "cell_type": "code",
   "execution_count": 5,
   "metadata": {},
   "outputs": [
    {
     "data": {
      "text/plain": [
       "1.6"
      ]
     },
     "execution_count": 5,
     "metadata": {},
     "output_type": "execute_result"
    }
   ],
   "source": [
    "8 / 5 "
   ]
  },
  {
   "cell_type": "code",
   "execution_count": 6,
   "metadata": {},
   "outputs": [
    {
     "data": {
      "text/plain": [
       "1"
      ]
     },
     "execution_count": 6,
     "metadata": {},
     "output_type": "execute_result"
    }
   ],
   "source": [
    "8 // 5 "
   ]
  },
  {
   "cell_type": "code",
   "execution_count": 7,
   "metadata": {},
   "outputs": [
    {
     "data": {
      "text/plain": [
       "1.0"
      ]
     },
     "execution_count": 7,
     "metadata": {},
     "output_type": "execute_result"
    }
   ],
   "source": [
    "8 // 5.0 "
   ]
  },
  {
   "cell_type": "code",
   "execution_count": 8,
   "metadata": {},
   "outputs": [
    {
     "data": {
      "text/plain": [
       "3"
      ]
     },
     "execution_count": 8,
     "metadata": {},
     "output_type": "execute_result"
    }
   ],
   "source": [
    "8 % 5"
   ]
  },
  {
   "cell_type": "code",
   "execution_count": 9,
   "metadata": {},
   "outputs": [
    {
     "data": {
      "text/plain": [
       "8"
      ]
     },
     "execution_count": 9,
     "metadata": {},
     "output_type": "execute_result"
    }
   ],
   "source": [
    "2 ** 3 "
   ]
  },
  {
   "cell_type": "markdown",
   "metadata": {},
   "source": [
    "### 1.1.2 abs() and round()\n",
    "\n",
    "▪ The **abs()** function returns the absolute value of a number.\n",
    "\n",
    "▪ The **round()** function returns a rounded version of the specified number."
   ]
  },
  {
   "cell_type": "code",
   "execution_count": 10,
   "metadata": {},
   "outputs": [
    {
     "data": {
      "text/plain": [
       "3"
      ]
     },
     "execution_count": 10,
     "metadata": {},
     "output_type": "execute_result"
    }
   ],
   "source": [
    "abs(-3)"
   ]
  },
  {
   "cell_type": "code",
   "execution_count": 11,
   "metadata": {},
   "outputs": [
    {
     "data": {
      "text/plain": [
       "4"
      ]
     },
     "execution_count": 11,
     "metadata": {},
     "output_type": "execute_result"
    }
   ],
   "source": [
    "round(3.75)"
   ]
  },
  {
   "cell_type": "code",
   "execution_count": 12,
   "metadata": {},
   "outputs": [
    {
     "data": {
      "text/plain": [
       "3.8"
      ]
     },
     "execution_count": 12,
     "metadata": {},
     "output_type": "execute_result"
    }
   ],
   "source": [
    "round(3.75, 1)"
   ]
  },
  {
   "cell_type": "markdown",
   "metadata": {},
   "source": [
    "### 1.1.3 math Module"
   ]
  },
  {
   "cell_type": "code",
   "execution_count": 13,
   "metadata": {},
   "outputs": [
    {
     "data": {
      "text/plain": [
       "3.141592653589793"
      ]
     },
     "execution_count": 13,
     "metadata": {},
     "output_type": "execute_result"
    }
   ],
   "source": [
    "import math\n",
    "\n",
    "math.pi"
   ]
  },
  {
   "cell_type": "code",
   "execution_count": 14,
   "metadata": {},
   "outputs": [
    {
     "data": {
      "text/plain": [
       "9.219544457292887"
      ]
     },
     "execution_count": 14,
     "metadata": {},
     "output_type": "execute_result"
    }
   ],
   "source": [
    "math.sqrt(85)"
   ]
  },
  {
   "cell_type": "markdown",
   "metadata": {},
   "source": [
    "### 1.1.4 Binary Numbers\n",
    "\n",
    "![numberingsystem.png](numberingsystem.png)\n",
    "\n",
    "▪ Binary numbers are prefixed with 0b.\n",
    "\n",
    "https://www.mathsisfun.com/binary-number-system.html"
   ]
  },
  {
   "cell_type": "code",
   "execution_count": 15,
   "metadata": {},
   "outputs": [
    {
     "data": {
      "text/plain": [
       "2"
      ]
     },
     "execution_count": 15,
     "metadata": {},
     "output_type": "execute_result"
    }
   ],
   "source": [
    "0b10"
   ]
  },
  {
   "cell_type": "markdown",
   "metadata": {},
   "source": [
    "▪ The built-in **format(num, name)** function converts an integer to a binary string."
   ]
  },
  {
   "cell_type": "code",
   "execution_count": 18,
   "metadata": {},
   "outputs": [
    {
     "data": {
      "text/plain": [
       "'1010'"
      ]
     },
     "execution_count": 18,
     "metadata": {},
     "output_type": "execute_result"
    }
   ],
   "source": [
    "bin_num = 0b101 * 0b10\n",
    "\n",
    "format(bin_num, '0b')"
   ]
  },
  {
   "cell_type": "code",
   "execution_count": 19,
   "metadata": {},
   "outputs": [
    {
     "data": {
      "text/plain": [
       "'00001010'"
      ]
     },
     "execution_count": 19,
     "metadata": {},
     "output_type": "execute_result"
    }
   ],
   "source": [
    "format(bin_num, '08b')"
   ]
  },
  {
   "cell_type": "markdown",
   "metadata": {},
   "source": [
    "▪ The built-in **bin()** function converts numbers to binary."
   ]
  },
  {
   "cell_type": "code",
   "execution_count": 20,
   "metadata": {},
   "outputs": [
    {
     "data": {
      "text/plain": [
       "'0b1010'"
      ]
     },
     "execution_count": 20,
     "metadata": {},
     "output_type": "execute_result"
    }
   ],
   "source": [
    "# Print a number in the binary format using the built-in bin() function \n",
    "bin(bin_num)"
   ]
  },
  {
   "cell_type": "markdown",
   "metadata": {},
   "source": [
    "### 1.1.5 Octal Numbers\n",
    "\n",
    "▪ Octal numbers are prefixed with 0o.\n",
    "\n",
    "https://www.mathsisfun.com/definitions/octal.html"
   ]
  },
  {
   "cell_type": "code",
   "execution_count": 21,
   "metadata": {},
   "outputs": [
    {
     "data": {
      "text/plain": [
       "256"
      ]
     },
     "execution_count": 21,
     "metadata": {},
     "output_type": "execute_result"
    }
   ],
   "source": [
    "0o400"
   ]
  },
  {
   "cell_type": "code",
   "execution_count": 22,
   "metadata": {},
   "outputs": [
    {
     "data": {
      "text/plain": [
       "128.0"
      ]
     },
     "execution_count": 22,
     "metadata": {},
     "output_type": "execute_result"
    }
   ],
   "source": [
    "oct_num = 0o400 / 0o2\n",
    "\n",
    "oct_num"
   ]
  },
  {
   "cell_type": "markdown",
   "metadata": {},
   "source": [
    "▪ The **oct()** function converts numbers to octal."
   ]
  },
  {
   "cell_type": "code",
   "execution_count": 23,
   "metadata": {},
   "outputs": [
    {
     "data": {
      "text/plain": [
       "'0o200'"
      ]
     },
     "execution_count": 23,
     "metadata": {},
     "output_type": "execute_result"
    }
   ],
   "source": [
    "oct(int(oct_num))"
   ]
  },
  {
   "cell_type": "code",
   "execution_count": 24,
   "metadata": {},
   "outputs": [
    {
     "data": {
      "text/plain": [
       "'200'"
      ]
     },
     "execution_count": 24,
     "metadata": {},
     "output_type": "execute_result"
    }
   ],
   "source": [
    "format(int(oct_num), '0o')"
   ]
  },
  {
   "cell_type": "markdown",
   "metadata": {},
   "source": [
    "### 1.1.6 Hexadecimal Numbers\n",
    "\n",
    "▪ Hexadecimal numbers are prefixed with 0x.\n",
    "\n",
    "https://www.mathsisfun.com/hexadecimals.html"
   ]
  },
  {
   "cell_type": "code",
   "execution_count": 25,
   "metadata": {},
   "outputs": [
    {
     "data": {
      "text/plain": [
       "256"
      ]
     },
     "execution_count": 25,
     "metadata": {},
     "output_type": "execute_result"
    }
   ],
   "source": [
    "0x100"
   ]
  },
  {
   "cell_type": "code",
   "execution_count": 26,
   "metadata": {},
   "outputs": [
    {
     "data": {
      "text/plain": [
       "128.0"
      ]
     },
     "execution_count": 26,
     "metadata": {},
     "output_type": "execute_result"
    }
   ],
   "source": [
    "hex_num = 0x100 / 0x2\n",
    "\n",
    "hex_num"
   ]
  },
  {
   "cell_type": "code",
   "execution_count": 27,
   "metadata": {},
   "outputs": [
    {
     "data": {
      "text/plain": [
       "'80'"
      ]
     },
     "execution_count": 27,
     "metadata": {},
     "output_type": "execute_result"
    }
   ],
   "source": [
    "format(int(hex_num), '0x')"
   ]
  },
  {
   "cell_type": "markdown",
   "metadata": {},
   "source": [
    "▪ The **hex()** function converts numbers to hexadecimal."
   ]
  },
  {
   "cell_type": "code",
   "execution_count": 28,
   "metadata": {},
   "outputs": [
    {
     "data": {
      "text/plain": [
       "'0x80'"
      ]
     },
     "execution_count": 28,
     "metadata": {},
     "output_type": "execute_result"
    }
   ],
   "source": [
    "hex(int(hex_num))"
   ]
  },
  {
   "cell_type": "code",
   "execution_count": 29,
   "metadata": {},
   "outputs": [
    {
     "data": {
      "text/plain": [
       "'0x80'"
      ]
     },
     "execution_count": 29,
     "metadata": {},
     "output_type": "execute_result"
    }
   ],
   "source": [
    "format(int(hex_num), '0x')\n",
    "\n",
    "hex(int(hex_num))"
   ]
  },
  {
   "cell_type": "markdown",
   "metadata": {},
   "source": [
    "### 1.1.7 print()\n",
    "\n",
    "▪ The **print()** function prints the specified message to the screen, or other standard output device.\n",
    "\n",
    "https://www.programiz.com/python-programming/methods/built-in/print"
   ]
  },
  {
   "cell_type": "code",
   "execution_count": 30,
   "metadata": {},
   "outputs": [
    {
     "name": "stdout",
     "output_type": "stream",
     "text": [
      "10\n"
     ]
    }
   ],
   "source": [
    "print(10)"
   ]
  },
  {
   "cell_type": "code",
   "execution_count": 31,
   "metadata": {},
   "outputs": [
    {
     "name": "stdout",
     "output_type": "stream",
     "text": [
      "80\n",
      "0x80\n"
     ]
    }
   ],
   "source": [
    "print(format(int(hex_num), '0x'))\n",
    "print(hex(int(hex_num)))"
   ]
  },
  {
   "cell_type": "markdown",
   "metadata": {},
   "source": [
    "### 1.1.8 print() without a Trailing newline \n",
    "\n",
    "▪ If an empty string ' ' is specified in end, a line break will not occur at the end.\n",
    "\n",
    "https://note.nkmk.me/en/python-string-line-break/"
   ]
  },
  {
   "cell_type": "code",
   "execution_count": 32,
   "metadata": {},
   "outputs": [
    {
     "name": "stdout",
     "output_type": "stream",
     "text": [
      "abc"
     ]
    }
   ],
   "source": [
    "print('a', end='')\n",
    "print('b', end='')\n",
    "print('c', end='')"
   ]
  },
  {
   "cell_type": "code",
   "execution_count": 33,
   "metadata": {},
   "outputs": [
    {
     "name": "stdout",
     "output_type": "stream",
     "text": [
      "800x80"
     ]
    }
   ],
   "source": [
    "print(format(int(oct_num), '0x'), end='')\n",
    "print(hex(int(oct_num)), end='')"
   ]
  },
  {
   "cell_type": "markdown",
   "metadata": {},
   "source": [
    "## 1.2 String Literal\n",
    "\n",
    "### 1.2.1 Single Quotes vs. Double Quotes\n",
    "\n",
    "▪ String can be enclosed in single quotes ('...') or double quotes (\"...\") with the same result. "
   ]
  },
  {
   "cell_type": "code",
   "execution_count": 34,
   "metadata": {},
   "outputs": [
    {
     "name": "stdout",
     "output_type": "stream",
     "text": [
      "Python Programming is fun!\n"
     ]
    }
   ],
   "source": [
    "str_1 = \"Python Programming is fun!\"\n",
    "print(str_1)"
   ]
  },
  {
   "cell_type": "code",
   "execution_count": 35,
   "metadata": {},
   "outputs": [
    {
     "name": "stdout",
     "output_type": "stream",
     "text": [
      "Python Programming is fun!\n"
     ]
    }
   ],
   "source": [
    "str_2 = 'Python Programming is fun!'\n",
    "print(str_2)"
   ]
  },
  {
   "cell_type": "markdown",
   "metadata": {},
   "source": [
    "### 1.2.2 When to Use Single Quotes and Double Quotes?\n",
    "\n",
    "▪ Use double quotes to enclose strings when we know there are going to be single quotes within the strings."
   ]
  },
  {
   "cell_type": "code",
   "execution_count": 36,
   "metadata": {},
   "outputs": [
    {
     "ename": "SyntaxError",
     "evalue": "invalid syntax (3558283567.py, line 2)",
     "output_type": "error",
     "traceback": [
      "\u001b[1;36m  File \u001b[1;32m\"C:\\Users\\User\\AppData\\Local\\Temp\\ipykernel_720\\3558283567.py\"\u001b[1;36m, line \u001b[1;32m2\u001b[0m\n\u001b[1;33m    print('Bobby's World')\u001b[0m\n\u001b[1;37m                 ^\u001b[0m\n\u001b[1;31mSyntaxError\u001b[0m\u001b[1;31m:\u001b[0m invalid syntax\n"
     ]
    }
   ],
   "source": [
    "# The following code doesn't work\n",
    "print('Bobby's World') "
   ]
  },
  {
   "cell_type": "code",
   "execution_count": 37,
   "metadata": {},
   "outputs": [
    {
     "name": "stdout",
     "output_type": "stream",
     "text": [
      "hello \"world\"\n",
      "hello 'strings'\n"
     ]
    }
   ],
   "source": [
    "print('hello \"world\"')\n",
    "print(\"hello 'strings'\")"
   ]
  },
  {
   "cell_type": "markdown",
   "metadata": {},
   "source": [
    "### 1.2.3 Printing Meaningful Message"
   ]
  },
  {
   "cell_type": "code",
   "execution_count": 38,
   "metadata": {},
   "outputs": [
    {
     "name": "stdout",
     "output_type": "stream",
     "text": [
      "x + y = 7\n"
     ]
    }
   ],
   "source": [
    "x = 3\n",
    "y = 4\n",
    "\n",
    "print('x + y =', x + y)"
   ]
  },
  {
   "cell_type": "markdown",
   "metadata": {},
   "source": [
    "### 1.2.4 Concatenation of Two or More Strings Using the + Operator\n",
    "\n",
    "▪ The **+** operator combines two or more strings in Python. "
   ]
  },
  {
   "cell_type": "code",
   "execution_count": 39,
   "metadata": {},
   "outputs": [
    {
     "name": "stdout",
     "output_type": "stream",
     "text": [
      "Python Programming is fun!\n"
     ]
    }
   ],
   "source": [
    "string = 'Python Programming ' + 'is fun!'\n",
    "\n",
    "print(string)"
   ]
  },
  {
   "cell_type": "markdown",
   "metadata": {},
   "source": [
    "### 1.2.5 Concatenation of Two or More Strings Using the * Operator\n",
    "\n",
    "▪ The * operator repeats/duplicates the string for a given number of times. "
   ]
  },
  {
   "cell_type": "code",
   "execution_count": 40,
   "metadata": {},
   "outputs": [
    {
     "name": "stdout",
     "output_type": "stream",
     "text": [
      "PythonPythonPython\n"
     ]
    }
   ],
   "source": [
    "string = \"Python\" * 3\n",
    "\n",
    "print(string)"
   ]
  },
  {
   "cell_type": "markdown",
   "metadata": {},
   "source": [
    "## 1.3 Variables\n",
    "\n",
    "### 1.3.1 Creating Variables\n",
    "\n",
    "▪ A Python variable is created the moment we first assign a value to it."
   ]
  },
  {
   "cell_type": "code",
   "execution_count": 41,
   "metadata": {},
   "outputs": [
    {
     "name": "stdout",
     "output_type": "stream",
     "text": [
      "42346 341.3234 10 128.0 128.0 True <class 'str'>\n"
     ]
    }
   ],
   "source": [
    "# Integer \n",
    "num_1 = 42343 + 3\n",
    "\n",
    "# Floating point number\n",
    "num_2 = 343.3234 - 2 \n",
    "\n",
    "# Binary number \n",
    "num_3 = 0b101 * 0b10 \n",
    "\n",
    "# Octal number \n",
    "num_4 = 0o400 / 0o2 \n",
    "\n",
    "# Hexadecimal number \n",
    "num_5 = 0x100 / 0x2\n",
    "\n",
    "# Boolean \n",
    "value_1 = True\n",
    "\n",
    "# String\n",
    "str_1 = \"Python Programming is easy to learn!\"\n",
    "\n",
    "print(num_1, num_2, num_3, num_4, num_5, value_1, str)"
   ]
  },
  {
   "cell_type": "code",
   "execution_count": 42,
   "metadata": {},
   "outputs": [
    {
     "name": "stdout",
     "output_type": "stream",
     "text": [
      "Decimal = 42346 \n",
      "Floating point = 341.3234 \n",
      "Binary = 10 \n",
      "Octal = 128.0 \n",
      "Hexadecimal = 128.0 \n",
      "Boolean = True \n",
      "String = Python Programming is easy to learn!\n"
     ]
    }
   ],
   "source": [
    "print('Decimal =', num_1, '\\nFloating point =', num_2, \n",
    "      '\\nBinary =', num_3, '\\nOctal =', num_4, \n",
    "      '\\nHexadecimal =', num_5, '\\nBoolean =', value_1, \n",
    "      '\\nString =', str_1)"
   ]
  },
  {
   "cell_type": "markdown",
   "metadata": {},
   "source": [
    "### 1.3.2 Python Variable Types\n",
    "\n",
    "▪ The **type()** function prints what type of data structures are used to store the data elements in a program."
   ]
  },
  {
   "cell_type": "code",
   "execution_count": 43,
   "metadata": {},
   "outputs": [
    {
     "data": {
      "text/plain": [
       "int"
      ]
     },
     "execution_count": 43,
     "metadata": {},
     "output_type": "execute_result"
    }
   ],
   "source": [
    "type(10)"
   ]
  },
  {
   "cell_type": "code",
   "execution_count": 44,
   "metadata": {},
   "outputs": [
    {
     "data": {
      "text/plain": [
       "float"
      ]
     },
     "execution_count": 44,
     "metadata": {},
     "output_type": "execute_result"
    }
   ],
   "source": [
    "type(10.0)"
   ]
  },
  {
   "cell_type": "code",
   "execution_count": 45,
   "metadata": {},
   "outputs": [
    {
     "name": "stdout",
     "output_type": "stream",
     "text": [
      "<class 'float'>\n"
     ]
    }
   ],
   "source": [
    "print(type(10.0))"
   ]
  },
  {
   "cell_type": "code",
   "execution_count": 47,
   "metadata": {},
   "outputs": [
    {
     "name": "stdout",
     "output_type": "stream",
     "text": [
      "Type of num_1: <class 'int'>\n",
      "Type of num_2: <class 'float'>\n",
      "Type of num_3: <class 'int'>\n",
      "Type of num_4: <class 'float'>\n",
      "Type of num_5: <class 'float'>\n",
      "Type of value: <class 'bool'>\n"
     ]
    }
   ],
   "source": [
    "# Integer \n",
    "print('Type of num_1:', type(num_1))\n",
    " \n",
    "# Floating Point \n",
    "print('Type of num_2:', type(num_2))\n",
    "\n",
    "# Binary Number \n",
    "print('Type of num_3:', type(num_3))\n",
    " \n",
    "# Octal Number \n",
    "print('Type of num_4:', type(num_4))\n",
    "\n",
    "# Hexadecimal Number \n",
    "print('Type of num_5:', type(num_5))\n",
    " \n",
    "# Boolean \n",
    "print('Type of value:', type(value_1))"
   ]
  },
  {
   "cell_type": "markdown",
   "metadata": {},
   "source": [
    "### 1.3.3 Accessing Undefined Variables"
   ]
  },
  {
   "cell_type": "code",
   "execution_count": 52,
   "metadata": {},
   "outputs": [
    {
     "ename": "NameError",
     "evalue": "name 'value_2' is not defined",
     "output_type": "error",
     "traceback": [
      "\u001b[1;31m---------------------------------------------------------------------------\u001b[0m",
      "\u001b[1;31mNameError\u001b[0m                                 Traceback (most recent call last)",
      "\u001b[1;32m~\\AppData\\Local\\Temp\\ipykernel_720\\3505266364.py\u001b[0m in \u001b[0;36m<module>\u001b[1;34m\u001b[0m\n\u001b[1;32m----> 1\u001b[1;33m \u001b[0mprint\u001b[0m\u001b[1;33m(\u001b[0m\u001b[0mvalue_2\u001b[0m\u001b[1;33m)\u001b[0m\u001b[1;33m\u001b[0m\u001b[1;33m\u001b[0m\u001b[0m\n\u001b[0m",
      "\u001b[1;31mNameError\u001b[0m: name 'value_2' is not defined"
     ]
    }
   ],
   "source": [
    "print(value_2)"
   ]
  },
  {
   "cell_type": "markdown",
   "metadata": {},
   "source": [
    "### 1.3.4 Redeclaring Variables"
   ]
  },
  {
   "cell_type": "code",
   "execution_count": 53,
   "metadata": {},
   "outputs": [
    {
     "name": "stdout",
     "output_type": "stream",
     "text": [
      "True\n",
      "10\n"
     ]
    }
   ],
   "source": [
    "value = True\n",
    "print(value)\n",
    "  \n",
    "value = 10\n",
    "print(value)"
   ]
  },
  {
   "cell_type": "code",
   "execution_count": 54,
   "metadata": {},
   "outputs": [
    {
     "name": "stdout",
     "output_type": "stream",
     "text": [
      "Python Programming is easy to learn!\n",
      "Hello World!\n"
     ]
    }
   ],
   "source": [
    "str_1 = \"Python Programming is easy to learn!\"\n",
    "print(str_1)\n",
    "\n",
    "str_1 = \"Hello World!\"\n",
    "print(str_1)"
   ]
  },
  {
   "cell_type": "markdown",
   "metadata": {},
   "source": [
    "## 1.4 Random Numbers\n",
    "\n",
    "Function                         | Meaning\n",
    "---------------------------------| ------------------------------------------------------------------------------\n",
    "random()                         | returns the next random floating point number in the range \\[0.0, 1.0)\n",
    "uniform(a, b) \t                 | returns a random floating point number between a and b inclusive\n",
    "randint(a, b)                    | returns a random integer between a and b inclusive\n",
    "randrange(start, stop\\[, step\\]) | returns a random integer from the range\n",
    "choice(seq)                      | returns a random element from the non-empty sequence\n",
    "sample(population, k)            | return a k length list of unique elements chosen from the population sequence\n",
    "shuffle(seq)                     | shuffles the sequence randomly\n",
    "\n",
    "https://www.programiz.com/python-programming/modules/random"
   ]
  },
  {
   "cell_type": "code",
   "execution_count": 55,
   "metadata": {},
   "outputs": [],
   "source": [
    "# Import the random library before using any random function\n",
    "import random"
   ]
  },
  {
   "cell_type": "code",
   "execution_count": 56,
   "metadata": {},
   "outputs": [
    {
     "data": {
      "text/plain": [
       "0.9222178829223652"
      ]
     },
     "execution_count": 56,
     "metadata": {},
     "output_type": "execute_result"
    }
   ],
   "source": [
    "# Random float x, 0.0 <= x < 1.0 (not including 10, the endpoint)\n",
    "random_1 = random.random()\n",
    "random_1"
   ]
  },
  {
   "cell_type": "code",
   "execution_count": 57,
   "metadata": {},
   "outputs": [
    {
     "data": {
      "text/plain": [
       "7.905020993735847"
      ]
     },
     "execution_count": 57,
     "metadata": {},
     "output_type": "execute_result"
    }
   ],
   "source": [
    "# Random float x, 1.0 <= x <= 10.0 (including 10, the endpoint)\n",
    "random_2 = random.uniform(1, 10)\n",
    "random_2"
   ]
  },
  {
   "cell_type": "code",
   "execution_count": 58,
   "metadata": {},
   "outputs": [
    {
     "data": {
      "text/plain": [
       "7"
      ]
     },
     "execution_count": 58,
     "metadata": {},
     "output_type": "execute_result"
    }
   ],
   "source": [
    "# Integer from 1 to 10 (including 10, the endpoint) \n",
    "random_3 = random.randint(1, 10)\n",
    "random_3"
   ]
  },
  {
   "cell_type": "code",
   "execution_count": 59,
   "metadata": {},
   "outputs": [
    {
     "data": {
      "text/plain": [
       "60"
      ]
     },
     "execution_count": 59,
     "metadata": {},
     "output_type": "execute_result"
    }
   ],
   "source": [
    "# Even integer from 0 to 100 (not including 102) \n",
    "random_4 = random.randrange(0, 102, 2)\n",
    "random_4"
   ]
  },
  {
   "cell_type": "code",
   "execution_count": 60,
   "metadata": {},
   "outputs": [
    {
     "data": {
      "text/plain": [
       "'c'"
      ]
     },
     "execution_count": 60,
     "metadata": {},
     "output_type": "execute_result"
    }
   ],
   "source": [
    "# Choose a random element\n",
    "random_5 = random.choice('abcdefghij')\n",
    "random_5"
   ]
  },
  {
   "cell_type": "code",
   "execution_count": 62,
   "metadata": {},
   "outputs": [
    {
     "data": {
      "text/plain": [
       "[1, 3, 2]"
      ]
     },
     "execution_count": 62,
     "metadata": {},
     "output_type": "execute_result"
    }
   ],
   "source": [
    "# Choose 3 elements \n",
    "elements = random.sample([1, 2, 3, 4, 5],  3)\n",
    "elements"
   ]
  },
  {
   "cell_type": "code",
   "execution_count": 64,
   "metadata": {},
   "outputs": [
    {
     "name": "stdout",
     "output_type": "stream",
     "text": [
      "[1, 2, 3, 4, 5, 6, 7]\n",
      "[1, 3, 4, 5, 2, 7, 6]\n"
     ]
    }
   ],
   "source": [
    "# Reshuffle items in a list random.shuffle(items) print items\n",
    "items = [1, 2, 3, 4, 5, 6, 7]\n",
    "print(items)\n",
    "\n",
    "random.shuffle(items)\n",
    "print(items)"
   ]
  },
  {
   "cell_type": "markdown",
   "metadata": {},
   "source": [
    "# Part 2: Conditionals\n",
    "\n",
    "## 2.1 Comparison Operators\n",
    "\n",
    "Operator | Meaning\n",
    "---------| -------------------------\n",
    "==       | Equals to\n",
    "!=\t     | Not equals to\n",
    "\\>       | Greater than\n",
    "\\>=      | Greater than or equals to\n",
    "<        | Less than\n",
    "<=       | Less than or equals to"
   ]
  },
  {
   "cell_type": "code",
   "execution_count": 65,
   "metadata": {},
   "outputs": [
    {
     "name": "stdout",
     "output_type": "stream",
     "text": [
      "False\n",
      "True\n",
      "True\n",
      "True\n",
      "False\n",
      "False\n"
     ]
    }
   ],
   "source": [
    "print(3 == 2)\n",
    "print(3 != 2)\n",
    "print(3 > 2)\n",
    "print(3 >= 2)\n",
    "print(3 < 2)\n",
    "print(3 <= 2)"
   ]
  },
  {
   "cell_type": "markdown",
   "metadata": {},
   "source": [
    "### 2.2 False Condition"
   ]
  },
  {
   "cell_type": "code",
   "execution_count": 69,
   "metadata": {},
   "outputs": [
    {
     "name": "stdout",
     "output_type": "stream",
     "text": [
      "False\n"
     ]
    }
   ],
   "source": [
    "condition = False\n",
    "\n",
    "if condition:\n",
    "    print('True')\n",
    "else:\n",
    "    print('False')"
   ]
  },
  {
   "cell_type": "markdown",
   "metadata": {},
   "source": [
    "## 2.3 The if Statement"
   ]
  },
  {
   "cell_type": "code",
   "execution_count": 70,
   "metadata": {},
   "outputs": [
    {
     "name": "stdout",
     "output_type": "stream",
     "text": [
      "Condition was True\n"
     ]
    }
   ],
   "source": [
    "if True:\n",
    "    print('Condition was True')\n",
    "\n",
    "if False:\n",
    "    print('Condition was False')"
   ]
  },
  {
   "cell_type": "code",
   "execution_count": 71,
   "metadata": {},
   "outputs": [
    {
     "name": "stdout",
     "output_type": "stream",
     "text": [
      "Course Name: Artificial Intelligence\n"
     ]
    }
   ],
   "source": [
    "course_code = 'BACS2003'\n",
    "\n",
    "if course_code == 'BACS2003':\n",
    "    print('Course Name: Artificial Intelligence')\n",
    "\n",
    "if course_code != 'BACS2003':\n",
    "    print('No match')"
   ]
  },
  {
   "cell_type": "markdown",
   "metadata": {},
   "source": [
    "## 2.4 The if...else Statement"
   ]
  },
  {
   "cell_type": "code",
   "execution_count": 72,
   "metadata": {},
   "outputs": [
    {
     "name": "stdout",
     "output_type": "stream",
     "text": [
      "Course Name: Artificial Intelligence\n"
     ]
    }
   ],
   "source": [
    "if course_code == 'BACS2003':\n",
    "    print('Course Name: Artificial Intelligence')\n",
    "else:\n",
    "    print('No match')"
   ]
  },
  {
   "cell_type": "markdown",
   "metadata": {},
   "source": [
    "## 2.5 The if...elif...else Statement"
   ]
  },
  {
   "cell_type": "code",
   "execution_count": 73,
   "metadata": {},
   "outputs": [
    {
     "name": "stdout",
     "output_type": "stream",
     "text": [
      "Course Name: Artificial Intelligence\n"
     ]
    }
   ],
   "source": [
    "if course_code == 'BACS2003':\n",
    "    print('Course Name: Artificial Intelligence')\n",
    "elif course_code == 'BACS2023':\n",
    "    print('Course Name: Object-Oriented Programming')\n",
    "else:\n",
    "    print('No match')"
   ]
  },
  {
   "cell_type": "markdown",
   "metadata": {},
   "source": [
    "## 2.6 The Inline if-else Statement"
   ]
  },
  {
   "cell_type": "code",
   "execution_count": 75,
   "metadata": {},
   "outputs": [
    {
     "name": "stdout",
     "output_type": "stream",
     "text": [
      "num equals 1\n"
     ]
    }
   ],
   "source": [
    "num = 1\n",
    "\n",
    "print(\"num equals 1\" if num == 1 else \"num doesn't equal 1\")"
   ]
  },
  {
   "cell_type": "code",
   "execution_count": 76,
   "metadata": {},
   "outputs": [
    {
     "name": "stdout",
     "output_type": "stream",
     "text": [
      "num equals 1\n"
     ]
    }
   ],
   "source": [
    "if num == 1:\n",
    "    print(\"num equals 1\")\n",
    "else:\n",
    "    print(\"num doesn't equal 1\")    "
   ]
  },
  {
   "cell_type": "markdown",
   "metadata": {},
   "source": [
    "## 2.7 Logical Operators"
   ]
  },
  {
   "cell_type": "code",
   "execution_count": 77,
   "metadata": {},
   "outputs": [
    {
     "name": "stdout",
     "output_type": "stream",
     "text": [
      "True\n",
      "False\n",
      "True\n",
      "True\n",
      "False\n",
      "True\n"
     ]
    }
   ],
   "source": [
    "print(True and True)\n",
    "print(True and False)\n",
    "print(True or True)\n",
    "print(True or False)\n",
    "print(not True)\n",
    "print(not False)"
   ]
  },
  {
   "cell_type": "markdown",
   "metadata": {},
   "source": [
    "## 2.8 Example: Decision Making"
   ]
  },
  {
   "cell_type": "code",
   "execution_count": 78,
   "metadata": {},
   "outputs": [
    {
     "name": "stdout",
     "output_type": "stream",
     "text": [
      "Weight(kg): 80.0 \n",
      "Height(m) : 1.7 \n",
      "BMI       : 27.68166089965398\n",
      "\n",
      "Suggestion:\n",
      "Time to keep fit\n",
      "TARUMT Slimming Centre could help!\n"
     ]
    }
   ],
   "source": [
    "# Weight in kilogram \n",
    "weight = 80.0 \n",
    "\n",
    "# Height in meter\n",
    "height = 1.70  \n",
    "\n",
    "# Calculate the body mass index  \n",
    "bmi = weight / (height) ** 2  \n",
    "print('Weight(kg):', weight, '\\nHeight(m) :', height, \"\\nBMI       :\", bmi)\n",
    "\n",
    "# Assumption: bmi is abnormal\n",
    "normal = False\n",
    "\n",
    "print(\"\\nSuggestion:\")\n",
    "if bmi < 18.5:      \n",
    "    print('You are underweight') \n",
    "elif 18.5 <= bmi <= 25:     \n",
    "    print('Congratulation. Your weight is normal')     \n",
    "    normal = True \n",
    "elif 25 <= bmi <= 30:     \n",
    "    print('Time to keep fit')\n",
    "elif 30 <= bmi <= 35:     \n",
    "    print('You should reduce your weight')\n",
    "else:     \n",
    "    print('Time to seek help from a professional fitness expert')\n",
    "\n",
    "if not normal: \n",
    "     print('TARUMT Slimming Centre could help!')"
   ]
  },
  {
   "cell_type": "markdown",
   "metadata": {},
   "source": [
    "## 2.9 input()\n",
    "\n",
    "▪ The **input()** function reads a line from the input (usually from the user), converts the line into a string by removing the trailing newline, and returns it."
   ]
  },
  {
   "cell_type": "code",
   "execution_count": 79,
   "metadata": {},
   "outputs": [
    {
     "name": "stdout",
     "output_type": "stream",
     "text": [
      "Enter a name: ho\n",
      "Hi, ho, it is a pleasure to meet you!\n"
     ]
    }
   ],
   "source": [
    "name = input(\"Enter a name: \")\n",
    "message = \"Hi, \" + name + \", it is a pleasure to meet you!\"\n",
    "print(message)"
   ]
  },
  {
   "cell_type": "code",
   "execution_count": 80,
   "metadata": {},
   "outputs": [
    {
     "name": "stdout",
     "output_type": "stream",
     "text": [
      "Enter a number: 89\n",
      "It is odd.\n"
     ]
    }
   ],
   "source": [
    "num = int(input(\"Enter a number: \"))\n",
    "print(\"It is even.\" if num % 2 == 0 else \"It is odd.\")"
   ]
  },
  {
   "cell_type": "markdown",
   "metadata": {},
   "source": [
    "# Part 3: Loop\n",
    "\n",
    "## 3.1 For Loop\n",
    "\n",
    "### 3.1.1 Java for Loop vs. Python for Loop"
   ]
  },
  {
   "cell_type": "code",
   "execution_count": null,
   "metadata": {},
   "outputs": [],
   "source": [
    "int[] numbers = {1, 2, 3, 4, 5, 6, 7};\n",
    "\n",
    "for(int i = 0; i < numbers.length; i++) {\n",
    "    System.out.println(numbers[i]);\n",
    "}"
   ]
  },
  {
   "cell_type": "code",
   "execution_count": null,
   "metadata": {},
   "outputs": [],
   "source": [
    "numbers = {1, 2, 3, 4, 5, 6, 7}\n",
    "\n",
    "for number in numbers:\n",
    "    print(number)"
   ]
  },
  {
   "cell_type": "markdown",
   "metadata": {},
   "source": [
    "### 3.1.2 Iterating Over a List"
   ]
  },
  {
   "cell_type": "code",
   "execution_count": null,
   "metadata": {},
   "outputs": [],
   "source": [
    "days = [\"Mon\", \"Tue\", \"Wed\", \"Thu\", \"Fri\", \"Sat\", \"Sun\"]\n",
    "\n",
    "for day in days:\n",
    "    print(day)"
   ]
  },
  {
   "cell_type": "markdown",
   "metadata": {},
   "source": [
    "### 3.1.3 Iterating Over a Tuple"
   ]
  },
  {
   "cell_type": "code",
   "execution_count": null,
   "metadata": {},
   "outputs": [],
   "source": [
    "numbers = {1, 2, 3, 4, 5, 6, 7}\n",
    "\n",
    "for number in numbers:\n",
    "    print(number)"
   ]
  },
  {
   "cell_type": "markdown",
   "metadata": {},
   "source": [
    "### 3.1.4 Iterating Over a String"
   ]
  },
  {
   "cell_type": "code",
   "execution_count": null,
   "metadata": {},
   "outputs": [],
   "source": [
    "string = \"ABC\"\n",
    "\n",
    "for letter in string:\n",
    "    print(letter)"
   ]
  },
  {
   "cell_type": "code",
   "execution_count": null,
   "metadata": {},
   "outputs": [],
   "source": [
    "nums = [1, 2, 3, 4, 5]\n",
    "\n",
    "for num in nums: \n",
    "    for letter in 'abc':\n",
    "        print(num, letter)"
   ]
  },
  {
   "cell_type": "markdown",
   "metadata": {},
   "source": [
    "### 3.1.5 Iterating Over A Range"
   ]
  },
  {
   "cell_type": "code",
   "execution_count": null,
   "metadata": {},
   "outputs": [],
   "source": [
    "# Start at 0, not including 6\n",
    "values = range(6)\n",
    "\n",
    "for value in values:\n",
    "    print(value)"
   ]
  },
  {
   "cell_type": "code",
   "execution_count": null,
   "metadata": {},
   "outputs": [],
   "source": [
    "for value in range(6):\n",
    "    print(value)"
   ]
  },
  {
   "cell_type": "markdown",
   "metadata": {},
   "source": [
    "### 3.1.6 Iterating Over A Sequence with An Interval"
   ]
  },
  {
   "cell_type": "code",
   "execution_count": null,
   "metadata": {},
   "outputs": [],
   "source": [
    "# Start at -5, not including 5\n",
    "for value in range(-5, 5):     \n",
    "    print(value)"
   ]
  },
  {
   "cell_type": "code",
   "execution_count": null,
   "metadata": {},
   "outputs": [],
   "source": [
    "# Start at 10, not including 20 with a step of 2\n",
    "for value in range(10, 20, 2):     \n",
    "    print(value)"
   ]
  },
  {
   "cell_type": "markdown",
   "metadata": {},
   "source": [
    "## 3.2 Conditional Loop\n",
    "\n",
    "### 3.2.1 Java while Loop vs. Python while Loop"
   ]
  },
  {
   "cell_type": "code",
   "execution_count": null,
   "metadata": {},
   "outputs": [],
   "source": [
    "while (b < n) {\n",
    "    print(b)\n",
    "    b++;\n",
    "}"
   ]
  },
  {
   "cell_type": "code",
   "execution_count": null,
   "metadata": {},
   "outputs": [],
   "source": [
    "while b < n:\n",
    "    print(b)\n",
    "    b += 1"
   ]
  },
  {
   "cell_type": "code",
   "execution_count": null,
   "metadata": {},
   "outputs": [],
   "source": [
    "x = 0\n",
    "while x < 10:\n",
    "    print(x)\n",
    "    x += 1"
   ]
  },
  {
   "cell_type": "markdown",
   "metadata": {},
   "source": [
    "### 3.2.2 Example\n",
    "\n",
    "▪ Fibonacci sequence is a series of numbers in which each number (Fibonacci number) is the sum of the two preceding numbers.\n",
    "\n",
    "<img src=\"fib.png\" width=\"450\">"
   ]
  },
  {
   "cell_type": "code",
   "execution_count": null,
   "metadata": {},
   "outputs": [],
   "source": [
    "n = int(input(\"Enter the upper boundry of your fibonacci sequence: \"))\n",
    "\n",
    "a = 0\n",
    "b = 1\n",
    "print(a)\n",
    "\n",
    "while b < n:\n",
    "    print(b)\n",
    "    t = b\n",
    "    b = a + b\n",
    "    a = t"
   ]
  },
  {
   "cell_type": "markdown",
   "metadata": {},
   "source": [
    "### 3.2.3 The Break Statement\n",
    "\n",
    "▪ The **break** statement is used to terminate the loop or statement in which it is present."
   ]
  },
  {
   "cell_type": "code",
   "execution_count": null,
   "metadata": {},
   "outputs": [],
   "source": [
    "import random\n",
    "\n",
    "answer = random.randint(1, 10) \n",
    "\n",
    "# Infinite loop until the break statement is met\n",
    "while True:  \n",
    "    guess = int(input('Guess a number between 1 to 10 >> '))\n",
    "    \n",
    "    if guess == answer:\n",
    "        break   # Terminate the loop\n",
    "    elif guess > answer:\n",
    "        print(\"choose a smaller number\")\n",
    "    else:\n",
    "        print(\"choose a bigger number\")\n",
    "\n",
    "print(\"You got it!\")"
   ]
  },
  {
   "cell_type": "markdown",
   "metadata": {},
   "source": [
    "### 3.2.4 The Continue Statement\n",
    "\n",
    "▪ The **continue** statement forces to execute the next iteration of the loop."
   ]
  },
  {
   "cell_type": "code",
   "execution_count": null,
   "metadata": {},
   "outputs": [],
   "source": [
    "for digit in \"1234567890\":\n",
    "    if int(digit) % 2 == 0:\n",
    "        continue # Skip the current iteration of the loop\n",
    "    print(digit)"
   ]
  },
  {
   "cell_type": "markdown",
   "metadata": {},
   "source": [
    "### 3.2.5 The Pass Statement\n",
    "\n",
    "▪ The **pass** statement simply does nothing. "
   ]
  },
  {
   "cell_type": "code",
   "execution_count": null,
   "metadata": {},
   "outputs": [],
   "source": [
    "for number in range(10):\n",
    "    if number % 2 == 0:\n",
    "        pass # Write code later\n",
    "    print(number)"
   ]
  },
  {
   "cell_type": "markdown",
   "metadata": {},
   "source": [
    "# Part 4: Function\n",
    "\n",
    "## 4.1 Creating User-Defined Functions \n",
    "\n",
    "### 4.1.1 The def Statement\n",
    "\n",
    "▪ A function in Python is declared using the **def** keyword."
   ]
  },
  {
   "cell_type": "code",
   "execution_count": null,
   "metadata": {},
   "outputs": [],
   "source": [
    "def area(x, y):\n",
    "    pass"
   ]
  },
  {
   "cell_type": "code",
   "execution_count": null,
   "metadata": {},
   "outputs": [],
   "source": [
    "def area(x, y):\n",
    "    return x * y\n",
    "\n",
    "a = int(input('Enter a length >> '))\n",
    "b = int(input('Enter a width >> '))\n",
    "\n",
    "area(a, b) # Nothing will be printed here\n",
    "\n",
    "print('The area is', area(a, b))"
   ]
  },
  {
   "cell_type": "markdown",
   "metadata": {},
   "source": [
    "### 4.1.2 Definitions and Calls\n",
    "\n",
    "▪ All functions must be defined before any are used. "
   ]
  },
  {
   "cell_type": "code",
   "execution_count": null,
   "metadata": {},
   "outputs": [],
   "source": [
    "length = int(input('Enter a length >> '))\n",
    "width = int(input('Enter a width >> '))\n",
    "height = int(input('Enter a height >> '))\n",
    "\n",
    "print('The volume is', volume(length, width, height))\n",
    "\n",
    "def volume(length, width, height):\n",
    "    return length * width * height"
   ]
  },
  {
   "cell_type": "markdown",
   "metadata": {},
   "source": [
    "### 4.1.3 Java Function vs. Python Function"
   ]
  },
  {
   "cell_type": "code",
   "execution_count": null,
   "metadata": {},
   "outputs": [],
   "source": [
    "double setPrice(double price, double discount) {\n",
    "    double finalPrice = price - price * discount;\n",
    "    return finalPrice;\n",
    "}\n",
    "\n",
    "double price = setPrice(100, 0.10);\n",
    "print(price);"
   ]
  },
  {
   "cell_type": "code",
   "execution_count": null,
   "metadata": {},
   "outputs": [],
   "source": [
    "def set_price(price, discount):\n",
    "    final_price = price - price * discount\n",
    "    return final_price\n",
    "\n",
    "p = set_price(100, 0.1)\n",
    "print(price)"
   ]
  },
  {
   "cell_type": "markdown",
   "metadata": {},
   "source": [
    "## 4.2 Creating Functions with Default Parameter(s)"
   ]
  },
  {
   "cell_type": "code",
   "execution_count": 82,
   "metadata": {},
   "outputs": [
    {
     "name": "stdout",
     "output_type": "stream",
     "text": [
      "314.2857142857143\n"
     ]
    }
   ],
   "source": [
    "def circle(radius, pi): \n",
    "    area = pi * radius ** 2\n",
    "    return area\n",
    "\n",
    "print(circle(10, 22/7))"
   ]
  },
  {
   "cell_type": "markdown",
   "metadata": {},
   "source": [
    "### 4.2.1 A Function Call with A Full Set of Arguments\n",
    "\n",
    "▪ The default value of the 2nd parameter is overwritten by the 2nd argument's value, 22/7."
   ]
  },
  {
   "cell_type": "code",
   "execution_count": 83,
   "metadata": {},
   "outputs": [
    {
     "name": "stdout",
     "output_type": "stream",
     "text": [
      "314.2857142857143\n"
     ]
    }
   ],
   "source": [
    "def circle(radius, pi = 3.14): # A default value is set to pi\n",
    "    area = pi * radius ** 2\n",
    "    return area\n",
    "\n",
    "print(circle(10, 22/7))"
   ]
  },
  {
   "cell_type": "markdown",
   "metadata": {},
   "source": [
    "### 4.2.2 A Function Call with Only One Argument\n",
    "\n",
    "▪ The 2nd argument is not provided, and hence the default value of the 2nd parameter is used."
   ]
  },
  {
   "cell_type": "code",
   "execution_count": 84,
   "metadata": {},
   "outputs": [
    {
     "name": "stdout",
     "output_type": "stream",
     "text": [
      "314.0\n"
     ]
    }
   ],
   "source": [
    "print(circle(10))"
   ]
  },
  {
   "cell_type": "markdown",
   "metadata": {},
   "source": [
    "### 4.2.3 A Function Call with A Full Set of Argument in The Wrong Positions\n",
    "\n",
    "▪ The 1st and the 2nd arguments are in the wrong positions."
   ]
  },
  {
   "cell_type": "code",
   "execution_count": 85,
   "metadata": {},
   "outputs": [
    {
     "name": "stdout",
     "output_type": "stream",
     "text": [
      "98.77551020408163\n"
     ]
    }
   ],
   "source": [
    "print(circle(22/7, 10)) "
   ]
  },
  {
   "cell_type": "markdown",
   "metadata": {},
   "source": [
    "### 4.2.4 Positional Arguments vs. Keyword Arguments\n",
    "\n",
    "▪ Python functions can contain two types of arguments: positional arguments and keyword arguments. \n",
    "\n",
    "\\>>> **Positional arguments** must be included in the correct order. \n",
    "\n",
    "\\>>> **Keyword arguments** are included with a keyword and equals sign.\n",
    "\n",
    "https://problemsolvingwithpython.com/07-Functions-and-Modules/07.07-Positional-and-Keyword-Arguments/"
   ]
  },
  {
   "cell_type": "code",
   "execution_count": 86,
   "metadata": {},
   "outputs": [
    {
     "name": "stdout",
     "output_type": "stream",
     "text": [
      "314.2857142857143\n"
     ]
    }
   ],
   "source": [
    "print(circle(pi = 22/7, radius = 10))"
   ]
  },
  {
   "cell_type": "markdown",
   "metadata": {},
   "source": [
    "### 4.2.5 Example"
   ]
  },
  {
   "cell_type": "code",
   "execution_count": 87,
   "metadata": {},
   "outputs": [
    {
     "name": "stdout",
     "output_type": "stream",
     "text": [
      "CongratulationMichelle\n",
      "MichelleCongratulation\n",
      "CongratulationMichelle\n",
      "CongratulationMichelle\n"
     ]
    }
   ],
   "source": [
    "def greeting(name, message):\n",
    "    return message + name\n",
    "\n",
    "name = 'Michelle'\n",
    "message = 'Congratulation'\n",
    "\n",
    "print(greeting(name, message))\n",
    "print(greeting(message, name))\n",
    "print(greeting(name = 'Michelle', message = 'Congratulation'))\n",
    "print(greeting(message = 'Congratulation', name = 'Michelle'))"
   ]
  },
  {
   "cell_type": "code",
   "execution_count": null,
   "metadata": {},
   "outputs": [],
   "source": []
  }
 ],
 "metadata": {
  "kernelspec": {
   "display_name": "Python 3 (ipykernel)",
   "language": "python",
   "name": "python3"
  },
  "language_info": {
   "codemirror_mode": {
    "name": "ipython",
    "version": 3
   },
   "file_extension": ".py",
   "mimetype": "text/x-python",
   "name": "python",
   "nbconvert_exporter": "python",
   "pygments_lexer": "ipython3",
   "version": "3.9.13"
  }
 },
 "nbformat": 4,
 "nbformat_minor": 4
}
