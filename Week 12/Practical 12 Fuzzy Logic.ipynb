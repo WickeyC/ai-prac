{
 "cells": [
  {
   "cell_type": "markdown",
   "metadata": {},
   "source": [
    "# Practical 12: Fuzzy Logic\n",
    "\n",
    "https://pythonhosted.org/scikit-fuzzy/auto_examples/plot_tipping_problem.html\n",
    "\n",
    "## An Introduction to Fuzzy Logic\n",
    "\n",
    "### What does \"Fuzzy\" mean?\n",
    "\n",
    "▪ **Cambridge dictionary**: Not clear\n",
    "\n",
    "▪ **Merriam-Webster**: lacking in clarity or definition\n",
    "\n",
    "▪ **Collins dictionary**: Vague and not clearly defined\n",
    "\n",
    "### Boolean Logic\n",
    "\n",
    "▪ The classical logic block accepts exact input and outputs a definite result as TRUE or FALSE, which is comparable to YES or NO\n",
    "\n",
    "<img src=\"logic4.png\" width=\"600\">\n",
    "\n",
    "### Fuzzy Logic\n",
    "\n",
    "▪ Humans make decisions based on a range of options between YES and NO, such as, **Certainly Yes or No**, **Possibly Yes or No**, and **Cannot**, etc.\n",
    "\n",
    "▪ Fuzzy Logic (is a reasoning system that resembles human reasoning (based on how humans make decisions). \n",
    "\n",
    "▪ It takes into account **all conceivable outcomes** between the digital values YES and NO. \n",
    "\n",
    "<img src=\"logic3.png\" width=\"600\">\n",
    "\n",
    "https://analyticsindiamag.com/how-can-fuzzy-logic-be-used-for-rule-based-decision-making/"
   ]
  },
  {
   "cell_type": "markdown",
   "metadata": {},
   "source": [
    "### Fuzzy Rule-based systems \n",
    "\n",
    "▪ Also known as fuzzy inference systems.\n",
    "\n",
    "▪ Fuzzy rule-based systems evaluate linguistic **\"if-then\"** rules using fuzzification, inference and composition. \n",
    "\n",
    "▪ They often produce fuzzy results that need to be converted to crisp output. \n",
    "\n",
    "▪ Fuzzy results are made clear by defuzzification. \n",
    "\n",
    "<img src=\"fuzzy_system.png\" width=\"600\">"
   ]
  },
  {
   "cell_type": "markdown",
   "metadata": {},
   "source": [
    "## The Tipping Problem\n",
    "\n",
    "<img src=\"tip.jpg\" width=\"300\">\n",
    "\n",
    "### Questions: What would the tip be in the following 3 different circumstances\n",
    "\n",
    "▪ **Situation \\#1**: When **Food quality = 6.5** and **Service quality = 9.8**, **Tip = ?** \n",
    "\n",
    "▪ **Situation \\#2**: When **Food quality = 6.5** and **Service quality = 3.5**, **Tip = ?** \n",
    "\n",
    "▪ **Situation \\#3**: When **Food quality = 1.6** and **Service quality = 1.8**, **Tip = ?** "
   ]
  },
  {
   "cell_type": "markdown",
   "metadata": {},
   "source": [
    "### Python's TypeError Exception\n",
    "\n",
    "▪ **ValueError** in Python is raised when a user gives an invalid value to a function but is of a valid argument.\n",
    "\n",
    "https://www.educative.io/answers/what-is-valueerror-in-python"
   ]
  },
  {
   "cell_type": "code",
   "execution_count": null,
   "metadata": {},
   "outputs": [],
   "source": [
    "user_input = [[], []]\n",
    "\n",
    "print(\"Please rate the food: 0 to 10\")\n",
    "answer = -1\n",
    "\n",
    "while answer < 0 or answer > 10:\n",
    "    try:\n",
    "        answer = float(input(\"Answer: \"))\n",
    "    except ValueError:\n",
    "        print(\"Please enter number only\")\n",
    "        continue\n",
    "    if answer < 0 or answer > 10:\n",
    "        print(\"Please rate the food on a scale of 0 to 10\")\n",
    "        \n",
    "user_input[0] = answer"
   ]
  },
  {
   "cell_type": "code",
   "execution_count": null,
   "metadata": {},
   "outputs": [],
   "source": [
    "print(\"Please rate the service: 0 to 10\")\n",
    "answer = -1\n",
    "\n",
    "while answer < 0 or answer > 10:\n",
    "    try:\n",
    "        answer = float(input(\"Answer: \"))\n",
    "    except ValueError:\n",
    "        print(\"Please enter number only\")\n",
    "        continue\n",
    "    if answer < 0 or answer > 10:\n",
    "        print(\"Please rate the service on a scale of 0 to 10\")\n",
    "        \n",
    "user_input[1] = answer"
   ]
  },
  {
   "cell_type": "markdown",
   "metadata": {},
   "source": [
    "### arange()\n",
    "\n",
    "▪ The numpy arange() function creates a new numpy array with evenly spaced numbers between start (inclusive) and stop (exclusive) with a given step."
   ]
  },
  {
   "cell_type": "code",
   "execution_count": null,
   "metadata": {},
   "outputs": [],
   "source": [
    "import numpy as np\n",
    "\n",
    "a = np.arange(1, 11, 2)\n",
    "print(a)"
   ]
  },
  {
   "cell_type": "code",
   "execution_count": null,
   "metadata": {},
   "outputs": [],
   "source": [
    "a"
   ]
  },
  {
   "cell_type": "markdown",
   "metadata": {},
   "source": [
    "### Universe Variables\n",
    "\n",
    "▪ A fuzzy variable has a crisp value which takes on some number over a **pre-defined domain** (in fuzzy logic terms, called a **universe**). "
   ]
  },
  {
   "cell_type": "code",
   "execution_count": null,
   "metadata": {},
   "outputs": [],
   "source": [
    "univ_food = np.arange(0, 11, 1)\n",
    "univ_serv = np.arange(0, 11, 1)\n",
    "univ_tip = np.arange(0, 26, 1)"
   ]
  },
  {
   "cell_type": "code",
   "execution_count": null,
   "metadata": {},
   "outputs": [],
   "source": [
    "univ_food"
   ]
  },
  {
   "cell_type": "code",
   "execution_count": null,
   "metadata": {},
   "outputs": [],
   "source": [
    "univ_serv"
   ]
  },
  {
   "cell_type": "code",
   "execution_count": null,
   "metadata": {},
   "outputs": [],
   "source": [
    "univ_tip"
   ]
  },
  {
   "cell_type": "markdown",
   "metadata": {},
   "source": [
    "### Fuzzy Membership Functions\n",
    "\n",
    "▪ A **membership function** is a function that specifies the degree to which a given input belongs to a set.\n",
    "\n",
    "▪ The output of a membership function is the degree of membership, this value is always limited to between 0 and 1. \n",
    "\n",
    "▪ There are different forms of membership functions such as **Triangular**, **Trapezoidal**, **Piecewise linear**, **Gaussian** and **Singleton**.\n",
    "\n",
    "▪ **Triangular membership function** is a membership function that is formed using straight lines and these straight line membership functions have the advantage of simplicity.\n",
    "\n",
    "https://www.philadelphia.edu.jo/academics/qhamarsheh/uploads/Lecture%2018_Different%20Types%20of%20Membership%20Functions%201.pdf"
   ]
  },
  {
   "cell_type": "markdown",
   "metadata": {},
   "source": [
    "### skfuzzy\n",
    "\n",
    "▪ **scikit-fuzzy** is a fuzzy logic Python package that works with numpy arrays.\n",
    "\n",
    "▪ To install **skfuzzy**, open Ananconda Prompt and enter the command **pip install scikit-fuzzy**.\n",
    "\n",
    "### trimf()\n",
    "\n",
    "▪ The **trimf()** function is one of the most widely accepted and used triangular membership function generator. \n",
    "\n",
    "<img src=\"triangle.png\">\n",
    "\n",
    "▪ **trimf(array, \\[a, b, c\\])** takes 2 1d array as arguments where \\[a, b, c\\] is used to control the shape of triangular function where a <= b <= c."
   ]
  },
  {
   "cell_type": "markdown",
   "metadata": {},
   "source": [
    "### Generating the Membership Function of the Low Quality Food Set\n",
    "\n",
    "<img src=\"triangles2.png\" width=\"300\">"
   ]
  },
  {
   "cell_type": "code",
   "execution_count": null,
   "metadata": {},
   "outputs": [],
   "source": [
    "import skfuzzy as fuzz\n",
    "\n",
    "food_lo = fuzz.trimf(univ_food, [0, 0, 5])"
   ]
  },
  {
   "cell_type": "code",
   "execution_count": null,
   "metadata": {},
   "outputs": [],
   "source": [
    "help(fuzz.trimf)"
   ]
  },
  {
   "cell_type": "code",
   "execution_count": null,
   "metadata": {},
   "outputs": [],
   "source": [
    "print(type(food_lo))"
   ]
  },
  {
   "cell_type": "code",
   "execution_count": null,
   "metadata": {},
   "outputs": [],
   "source": [
    "food_lo"
   ]
  },
  {
   "cell_type": "markdown",
   "metadata": {},
   "source": [
    "### Degree of Membership Across The Universe\n",
    "\n",
    "▪ food_lo represents the degree of membership to low quality food set for all input ratings (0 to 10)."
   ]
  },
  {
   "cell_type": "code",
   "execution_count": null,
   "metadata": {},
   "outputs": [],
   "source": [
    "print(\"Rating\", \"Low\")\n",
    "for i in range(len(univ_food)):\n",
    "    print(\"{:<7d}{:<4.1f}\".format(univ_food[i], food_lo[i]))"
   ]
  },
  {
   "cell_type": "markdown",
   "metadata": {},
   "source": [
    "### Generating the Membership Function of the Medium Quality Food and High Quality Food Sets"
   ]
  },
  {
   "cell_type": "code",
   "execution_count": null,
   "metadata": {},
   "outputs": [],
   "source": [
    "food_me = fuzz.trimf(univ_food, [0, 5, 10])\n",
    "food_hi = fuzz.trimf(univ_food, [5, 10, 10])"
   ]
  },
  {
   "cell_type": "markdown",
   "metadata": {},
   "source": [
    "### Degree of Membership Across The Universe"
   ]
  },
  {
   "cell_type": "code",
   "execution_count": null,
   "metadata": {},
   "outputs": [],
   "source": [
    "print(\"{:7s}{:6s}{:6s}{:6s}\".format(\"Rating\", \"Low\", \"Med\", \"Hi\"))\n",
    "for i in range(len(univ_food)):\n",
    "    print(\"{:<7d}{:<6.1f}{:<6.1f}{:<6.1f}\".format(univ_food[i], food_lo[i], food_me[i], food_hi[i]))"
   ]
  },
  {
   "cell_type": "markdown",
   "metadata": {},
   "source": [
    "### Food Quality: Plotting The Degree of Membership Across The Universe"
   ]
  },
  {
   "cell_type": "code",
   "execution_count": null,
   "metadata": {},
   "outputs": [],
   "source": [
    "import matplotlib.pyplot as pl\n",
    "\n",
    "fig = pl.figure()\n",
    "pl.xlabel('Rating')\n",
    "pl.ylabel('Degree of membership')\n",
    "pl.plot(univ_food, food_lo)\n",
    "pl.title(\"Low Quality Food\")"
   ]
  },
  {
   "cell_type": "code",
   "execution_count": null,
   "metadata": {},
   "outputs": [],
   "source": [
    "fig = pl.figure()\n",
    "pl.xlabel('Rating')\n",
    "pl.ylabel('Degree of membership')\n",
    "pl.plot(univ_food, food_me)\n",
    "pl.title(\"Medium Quality Food\")"
   ]
  },
  {
   "cell_type": "code",
   "execution_count": null,
   "metadata": {},
   "outputs": [],
   "source": [
    "fig = pl.figure()\n",
    "pl.xlabel('Rating')\n",
    "pl.ylabel('Degree of membership')\n",
    "pl.plot(univ_food, food_hi)\n",
    "pl.title(\"Hi Quality Food\")"
   ]
  },
  {
   "cell_type": "markdown",
   "metadata": {},
   "source": [
    "### Specifying the Membership Function of the Service Quality Sets"
   ]
  },
  {
   "cell_type": "code",
   "execution_count": null,
   "metadata": {},
   "outputs": [],
   "source": [
    "serv_lo = fuzz.trimf(univ_serv, [0, 0, 5])\n",
    "serv_me = fuzz.trimf(univ_serv, [0, 5, 10])\n",
    "serv_hi = fuzz.trimf(univ_serv, [5, 10, 10])"
   ]
  },
  {
   "cell_type": "markdown",
   "metadata": {},
   "source": [
    "### Specifying the Membership Function of the Tips Amount Sets"
   ]
  },
  {
   "cell_type": "code",
   "execution_count": null,
   "metadata": {},
   "outputs": [],
   "source": [
    "tip_lo = fuzz.trimf(univ_tip, [0, 0, 13])\n",
    "tip_me = fuzz.trimf(univ_tip, [0, 13, 25])\n",
    "tip_hi = fuzz.trimf(univ_tip, [13, 25, 25])"
   ]
  },
  {
   "cell_type": "code",
   "execution_count": null,
   "metadata": {},
   "outputs": [],
   "source": [
    "tip_lo"
   ]
  },
  {
   "cell_type": "code",
   "execution_count": null,
   "metadata": {},
   "outputs": [],
   "source": [
    "tip_me"
   ]
  },
  {
   "cell_type": "code",
   "execution_count": null,
   "metadata": {},
   "outputs": [],
   "source": [
    "tip_hi"
   ]
  },
  {
   "cell_type": "markdown",
   "metadata": {},
   "source": [
    "### Visualizing Membership Functions and Universes\n",
    "\n",
    "▪ **Question: What does it mean when the food quality rating equals to 5.0 or 3.0?**"
   ]
  },
  {
   "cell_type": "code",
   "execution_count": null,
   "metadata": {},
   "outputs": [],
   "source": [
    "fig, ax = pl.subplots(figsize = (10, 5))\n",
    "\n",
    "pl.xlabel('Rating')\n",
    "pl.ylabel('Degree of membership')\n",
    "\n",
    "ax.plot(univ_food, food_lo, 'b', linewidth = 1.5, label = 'bad')\n",
    "ax.plot(univ_food, food_me, 'g', linewidth = 1.5, label = 'decent')\n",
    "ax.plot(univ_food, food_hi, 'r', linewidth = 1.5, label = 'great')\n",
    "\n",
    "ax.set_title('Food Quality')\n",
    "ax.legend()"
   ]
  },
  {
   "cell_type": "code",
   "execution_count": null,
   "metadata": {},
   "outputs": [],
   "source": [
    "fig, ax = pl.subplots(figsize = (10, 5))\n",
    "\n",
    "pl.xlabel('Rating')\n",
    "pl.ylabel('Degree of membership')\n",
    "\n",
    "ax.plot(univ_serv, serv_lo, 'b', linewidth = 1.5, label = 'poor')\n",
    "ax.plot(univ_serv, serv_me, 'g', linewidth = 1.5, label = 'acceptable')\n",
    "ax.plot(univ_serv, serv_hi, 'r', linewidth = 1.5, label = 'amazing')\n",
    "\n",
    "ax.set_title('Service Quality')\n",
    "ax.legend()"
   ]
  },
  {
   "cell_type": "code",
   "execution_count": null,
   "metadata": {},
   "outputs": [],
   "source": [
    "fig, ax = pl.subplots(figsize = (10, 5))\n",
    "\n",
    "pl.xlabel('Amount')\n",
    "pl.ylabel('Degree of membership')\n",
    "\n",
    "ax.plot(univ_tip, tip_lo, 'b', linewidth = 1.5, label = 'low')\n",
    "ax.plot(univ_tip, tip_me, 'g', linewidth = 1.5, label = 'medium')\n",
    "ax.plot(univ_tip, tip_hi, 'r', linewidth = 1.5, label = 'high')\n",
    "\n",
    "ax.set_title('Tip Amount')\n",
    "ax.legend()"
   ]
  },
  {
   "cell_type": "markdown",
   "metadata": {},
   "source": [
    "### interp_membership()\n",
    "\n",
    "▪ We can use the **interp_membership()** function to find the degree of membership for a given input to a set (e.g., food quality = 6.5 and Service quality = 9.8)."
   ]
  },
  {
   "cell_type": "code",
   "execution_count": null,
   "metadata": {},
   "outputs": [],
   "source": [
    "food_level_lo = fuzz.interp_membership(univ_food, food_lo, user_input[0])\n",
    "food_level_me = fuzz.interp_membership(univ_food, food_me, user_input[0])\n",
    "food_level_hi = fuzz.interp_membership(univ_food, food_hi, user_input[0])\n",
    "\n",
    "serv_level_lo = fuzz.interp_membership(univ_serv, serv_lo, user_input[1])\n",
    "serv_level_me = fuzz.interp_membership(univ_serv, serv_me, user_input[1])\n",
    "serv_level_hi = fuzz.interp_membership(univ_serv, serv_hi, user_input[1])"
   ]
  },
  {
   "cell_type": "code",
   "execution_count": null,
   "metadata": {},
   "outputs": [],
   "source": [
    "print(type(food_level_lo))"
   ]
  },
  {
   "cell_type": "markdown",
   "metadata": {},
   "source": [
    "▪ **Question: When food quality rating = 6.5/10, is it considered low, medium or high?**"
   ]
  },
  {
   "cell_type": "code",
   "execution_count": null,
   "metadata": {},
   "outputs": [],
   "source": [
    "print(food_level_lo)\n",
    "print(food_level_me)\n",
    "print(food_level_hi)"
   ]
  },
  {
   "cell_type": "markdown",
   "metadata": {},
   "source": [
    "▪ **Question: When service quality rating = 9.8/10, is it considered low, medium or high?**"
   ]
  },
  {
   "cell_type": "code",
   "execution_count": null,
   "metadata": {},
   "outputs": [],
   "source": [
    "print(serv_level_lo)\n",
    "print(serv_level_me)\n",
    "print(serv_level_hi)"
   ]
  },
  {
   "cell_type": "markdown",
   "metadata": {},
   "source": [
    "▪ **Tipping Problem: When Food quality = 6.5 and Service quality = 9.8, Tip = ?** "
   ]
  },
  {
   "cell_type": "markdown",
   "metadata": {},
   "source": [
    "### Fuzzy Rules\n",
    "\n",
    "▪ A fuzzy rule is a conditional \"if-then\" statement that forms the basis for the fuzzy logic to obtain the fuzzy output.\n",
    "\n",
    "▪ For this example, the following 3 simple rules are considered:\n",
    "\n",
    "\\>>> **If the food is bad OR the service is poor, then the tip will be low**\n",
    "\n",
    "\\>>> **If the service is acceptable, then the tip will be medium**\n",
    "\n",
    "\\>>> **If the food is great OR the service is amazing, then the tip will be high**\n",
    "\n",
    "▪ Most people would agree on these rules, but the rules are fuzzy, for instance, how much tip is considered high? \n",
    "\n",
    "▪ Mapping the imprecise rules into a defined, actionable tip is a challenge but this is the kind of task at which fuzzy logic excels."
   ]
  },
  {
   "cell_type": "markdown",
   "metadata": {},
   "source": [
    "### Activation of Rule \\#1\n",
    "\n",
    "▪ **Rules \\#1: If the food is bad OR the service is poor, then the tip will be low**"
   ]
  },
  {
   "cell_type": "code",
   "execution_count": null,
   "metadata": {},
   "outputs": [],
   "source": [
    "import numpy as np\n",
    "\n",
    "# For rule 1, the use of OR operator in the antecedent means that the maximum value is chosen\n",
    "active_rule_1 = np.fmax(food_level_lo, serv_level_lo)\n",
    "active_rule_1"
   ]
  },
  {
   "cell_type": "code",
   "execution_count": null,
   "metadata": {},
   "outputs": [],
   "source": [
    "food_level_lo"
   ]
  },
  {
   "cell_type": "code",
   "execution_count": null,
   "metadata": {},
   "outputs": [],
   "source": [
    "serv_level_lo"
   ]
  },
  {
   "cell_type": "markdown",
   "metadata": {},
   "source": [
    "### Plotting The Degree of Membership to the Low Tip Amount Set"
   ]
  },
  {
   "cell_type": "code",
   "execution_count": null,
   "metadata": {},
   "outputs": [],
   "source": [
    "tip_lo"
   ]
  },
  {
   "cell_type": "code",
   "execution_count": null,
   "metadata": {},
   "outputs": [],
   "source": [
    "fig, ax = pl.subplots(figsize = (10, 5))\n",
    "\n",
    "pl.xlabel('Tip Amount')\n",
    "pl.ylabel('Degree of membership')\n",
    "\n",
    "ax.plot(univ_tip, tip_lo, 'b', linewidth = 1.5, label = 'low')\n",
    "\n",
    "ax.set_title('Low Tip')\n",
    "ax.legend()"
   ]
  },
  {
   "cell_type": "markdown",
   "metadata": {},
   "source": [
    "### Plotting The Degree of Membership of a given input to the Low Tip Amount Set"
   ]
  },
  {
   "cell_type": "code",
   "execution_count": null,
   "metadata": {},
   "outputs": [],
   "source": [
    "tip_activation_lo = np.fmin(active_rule_1, tip_lo)\n",
    "tip_activation_lo"
   ]
  },
  {
   "cell_type": "code",
   "execution_count": null,
   "metadata": {},
   "outputs": [],
   "source": [
    "print(type(tip_activation_lo))"
   ]
  },
  {
   "cell_type": "code",
   "execution_count": null,
   "metadata": {},
   "outputs": [],
   "source": [
    "fig, ax = pl.subplots(figsize = (10, 5))\n",
    "\n",
    "ax.plot(univ_tip, tip_lo, 'b', linewidth = 1.5, label = 'low', linestyle = '--') # the first plotting\n",
    "ax.fill_between(univ_tip, tip_activation_lo, facecolor = 'b', alpha = 0.7) # the second plotting\n",
    "\n",
    "ax.set_title('Output membership activity')"
   ]
  },
  {
   "cell_type": "markdown",
   "metadata": {},
   "source": [
    "### Activation of Rule \\#2\n",
    "\n",
    "▪ **Rule \\#2: If the service is acceptable, then the tip will be medium**"
   ]
  },
  {
   "cell_type": "code",
   "execution_count": null,
   "metadata": {},
   "outputs": [],
   "source": [
    "serv_level_me"
   ]
  },
  {
   "cell_type": "markdown",
   "metadata": {},
   "source": [
    "### Plotting The Degree of Membership to the Medium Tip Amount Set"
   ]
  },
  {
   "cell_type": "code",
   "execution_count": null,
   "metadata": {},
   "outputs": [],
   "source": [
    "tip_me"
   ]
  },
  {
   "cell_type": "code",
   "execution_count": null,
   "metadata": {},
   "outputs": [],
   "source": [
    "fig, ax = pl.subplots(figsize = (10, 5))\n",
    "\n",
    "pl.xlabel('Tip Amount')\n",
    "pl.ylabel('Degree of membership')\n",
    "\n",
    "ax.plot(univ_tip, tip_me, 'g', linewidth = 1.5, label = 'med')\n",
    "\n",
    "ax.set_title('Medium Tip')\n",
    "ax.legend()"
   ]
  },
  {
   "cell_type": "markdown",
   "metadata": {},
   "source": [
    "### Plotting The Degree of Membership of a given input to the Medium Tip Amount Set"
   ]
  },
  {
   "cell_type": "code",
   "execution_count": null,
   "metadata": {},
   "outputs": [],
   "source": [
    "tip_activation_me = np.fmin(serv_level_me, tip_me)\n",
    "tip_activation_me"
   ]
  },
  {
   "cell_type": "code",
   "execution_count": null,
   "metadata": {},
   "outputs": [],
   "source": [
    "fig, ax = pl.subplots(figsize = (10, 5))\n",
    "\n",
    "ax.plot(univ_tip, tip_me, 'g', linewidth = 1.5, label = 'med', linestyle = '--') # the first plotting\n",
    "ax.fill_between(univ_tip, tip_activation_me, facecolor = 'g', alpha = 0.7) # the second plotting\n",
    "\n",
    "ax.set_title('Output membership activity')"
   ]
  },
  {
   "cell_type": "markdown",
   "metadata": {},
   "source": [
    "### Activation of Rule 3\n",
    "\n",
    "▪ **Rule \\#3: If the food is great OR the service is amazing, then the tip will be high**"
   ]
  },
  {
   "cell_type": "code",
   "execution_count": null,
   "metadata": {},
   "outputs": [],
   "source": [
    "food_level_hi"
   ]
  },
  {
   "cell_type": "code",
   "execution_count": null,
   "metadata": {},
   "outputs": [],
   "source": [
    "serv_level_hi"
   ]
  },
  {
   "cell_type": "code",
   "execution_count": null,
   "metadata": {},
   "outputs": [],
   "source": [
    "# For rule 3, the use of OR operator in antecedent means that the max value is selected from high service and high food\n",
    "active_rule_3 = np.fmax(food_level_hi, serv_level_hi)\n",
    "active_rule_3"
   ]
  },
  {
   "cell_type": "markdown",
   "metadata": {},
   "source": [
    "### Plotting The Degree of Membership to the High Tip Amount Set"
   ]
  },
  {
   "cell_type": "code",
   "execution_count": null,
   "metadata": {},
   "outputs": [],
   "source": [
    "tip_hi"
   ]
  },
  {
   "cell_type": "code",
   "execution_count": null,
   "metadata": {},
   "outputs": [],
   "source": [
    "fig, ax = pl.subplots(figsize = (10, 5))\n",
    "\n",
    "pl.xlabel('Tip Amount')\n",
    "pl.ylabel('Degree of membership')\n",
    "\n",
    "ax.plot(univ_tip, tip_hi, 'r', linewidth = 1.5, label = 'hi')\n",
    "\n",
    "ax.set_title('High Tip')\n",
    "ax.legend()"
   ]
  },
  {
   "cell_type": "markdown",
   "metadata": {},
   "source": [
    "### Plotting The Degree of Membership of a given input to the Hi Tip Amount Set"
   ]
  },
  {
   "cell_type": "code",
   "execution_count": null,
   "metadata": {},
   "outputs": [],
   "source": [
    "tip_activation_hi = np.fmin(active_rule_3, tip_hi)\n",
    "tip_activation_hi"
   ]
  },
  {
   "cell_type": "code",
   "execution_count": null,
   "metadata": {},
   "outputs": [],
   "source": [
    "fig, ax = pl.subplots(figsize = (10, 5))\n",
    "\n",
    "ax.plot(univ_tip, tip_hi, 'r', linewidth = 1.5, label = 'hi', linestyle = '--') # the first plotting\n",
    "ax.fill_between(univ_tip, tip_activation_hi, facecolor = 'r', alpha = 0.7) # the second plotting\n",
    "\n",
    "ax.set_title('Output membership activity')"
   ]
  },
  {
   "cell_type": "markdown",
   "metadata": {},
   "source": [
    "### Aggregrating All the Three Output Memberships"
   ]
  },
  {
   "cell_type": "code",
   "execution_count": null,
   "metadata": {},
   "outputs": [],
   "source": [
    "tip_activation_lo"
   ]
  },
  {
   "cell_type": "code",
   "execution_count": null,
   "metadata": {},
   "outputs": [],
   "source": [
    "tip_activation_me"
   ]
  },
  {
   "cell_type": "code",
   "execution_count": null,
   "metadata": {},
   "outputs": [],
   "source": [
    "tip_activation_hi"
   ]
  },
  {
   "cell_type": "code",
   "execution_count": null,
   "metadata": {},
   "outputs": [],
   "source": [
    "# Aggregrate all three output membership functions together\n",
    "aggregrated = np.fmax(tip_activation_lo, np.fmax(tip_activation_me, tip_activation_hi))"
   ]
  },
  {
   "cell_type": "code",
   "execution_count": null,
   "metadata": {},
   "outputs": [],
   "source": [
    "print(type(aggregrated))"
   ]
  },
  {
   "cell_type": "code",
   "execution_count": null,
   "metadata": {},
   "outputs": [],
   "source": [
    "aggregrated"
   ]
  },
  {
   "cell_type": "markdown",
   "metadata": {},
   "source": [
    "### Visualizing the Degree of Membership to Tip Amount For All The 3 Rules"
   ]
  },
  {
   "cell_type": "code",
   "execution_count": null,
   "metadata": {},
   "outputs": [],
   "source": [
    "fig, ax = pl.subplots(figsize = (10, 5))\n",
    "\n",
    "ax.fill_between(univ_tip, tip_activation_lo, facecolor = 'b', alpha = 0.7)\n",
    "ax.plot(univ_tip, tip_lo, 'b', linewidth = 0.5, linestyle = '--')\n",
    "\n",
    "ax.fill_between(univ_tip, tip_activation_me, facecolor = 'g', alpha = 0.7)\n",
    "ax.plot(univ_tip, tip_me, 'g', linewidth = 0.5, linestyle = '--')\n",
    "\n",
    "ax.fill_between(univ_tip, tip_activation_hi, facecolor = 'r', alpha = 0.7)\n",
    "ax.plot(univ_tip, tip_hi, 'r', linewidth = 0.5, linestyle = '--')\n",
    "\n",
    "ax.set_title('Output membership activity')"
   ]
  },
  {
   "cell_type": "markdown",
   "metadata": {},
   "source": [
    "### Centroid Defuzzification"
   ]
  },
  {
   "cell_type": "code",
   "execution_count": null,
   "metadata": {},
   "outputs": [],
   "source": [
    "help(fuzz.defuzz)"
   ]
  },
  {
   "cell_type": "code",
   "execution_count": null,
   "metadata": {},
   "outputs": [],
   "source": [
    "# Calculate deffuzified results\n",
    "tip = fuzz.defuzz(univ_tip, aggregrated, 'centroid')\n",
    "tip"
   ]
  },
  {
   "cell_type": "markdown",
   "metadata": {},
   "source": [
    "▪ Find the degree of membership for tip = 19.87 using the **interp_membership()**."
   ]
  },
  {
   "cell_type": "code",
   "execution_count": null,
   "metadata": {},
   "outputs": [],
   "source": [
    "tip_activation = fuzz.interp_membership(univ_tip, aggregrated, tip) \n",
    "tip_activation"
   ]
  },
  {
   "cell_type": "markdown",
   "metadata": {},
   "source": [
    "### Visualizing the Aggregrated Output Memberships and Their Centroid"
   ]
  },
  {
   "cell_type": "code",
   "execution_count": null,
   "metadata": {},
   "outputs": [],
   "source": [
    "fig, ax = pl.subplots(figsize = (10, 5))\n",
    "\n",
    "ax.plot(univ_tip, tip_lo, 'b', linewidth = 0.5, linestyle = '--')\n",
    "ax.plot(univ_tip, tip_me, 'g', linewidth = 0.5, linestyle = '--')\n",
    "ax.plot(univ_tip, tip_hi, 'r', linewidth = 0.5, linestyle = '--')\n",
    "\n",
    "ax.fill_between(univ_tip, aggregrated, facecolor = 'Orange', alpha = 0.7) \n",
    "ax.plot([tip, tip], [0, tip_activation], 'k', linewidth = 1.5, alpha = 0.9)\n",
    "\n",
    "ax.set_title('Aggregrated membership and result (line)')"
   ]
  },
  {
   "cell_type": "markdown",
   "metadata": {},
   "source": [
    "### Printing the Output"
   ]
  },
  {
   "cell_type": "code",
   "execution_count": null,
   "metadata": {},
   "outputs": [],
   "source": [
    "tip_percentage = tip.item()\n",
    "print(\"{}{:.2f}{}\".format(\"Tip = \", tip_percentage, \"%\"))\n",
    "\n",
    "if tip > 14:\n",
    "    print(\"Tip is excellent\")\n",
    "elif tip > 7:\n",
    "    print(\"Tip is good\")\n",
    "else:\n",
    "    print(\"Tip is low\")   "
   ]
  },
  {
   "cell_type": "markdown",
   "metadata": {},
   "source": [
    "## <font color='red'> Exercise</font>\n",
    "\n",
    "1. Please use fuzzy logic to implement a smart air conditioning system. The system must be\n",
    "able to determine the cooling temperature automatically based on the room temperature\n",
    "and room density. The membership functions and the rules suggested by an expert are as\n",
    "follows:\n",
    "\n",
    "**Suggested membership functions:**\n",
    "- M1: Temperature on subjective ranges [0, 50] (in degree Celcious)\n",
    "- M2: Density on subjective ranges [0, 30] (representing how many person)\n",
    "- M3: Cooling temperature has a range of [16, 30] (in degree Celcious)\n",
    "\n",
    "* Each of them should be represented with Low, Medium, and High triangular membership\n",
    "function. You may estimate the range of each level.\n",
    "\n",
    "\n",
    "**Suggested rules in your fuzzy inference system:**\n",
    "- **R1:** If the room temperature is low AND the density is low, then the cooling temperature\n",
    "will be moderate.\n",
    "- **R2:** If the room temperature is medium AND the density is high, then the cooling\n",
    "temperature will be low\n",
    "- **R3:** If the room temperature is high then the cooling temperature will be low.\n",
    "\n",
    "\n",
    "**What would the cooling temperature be in the following circumstance?**\n",
    "- room_temperature =16\n",
    "- room_density = 25\n",
    "- References:\n",
    "\n",
    "### Reference:\n",
    "Scikit-fuzzy documentation is available at http://pythonhosted.org/scikit-fuzzy/"
   ]
  }
 ],
 "metadata": {
  "kernelspec": {
   "display_name": "Python 3 (ipykernel)",
   "language": "python",
   "name": "python3"
  },
  "language_info": {
   "codemirror_mode": {
    "name": "ipython",
    "version": 3
   },
   "file_extension": ".py",
   "mimetype": "text/x-python",
   "name": "python",
   "nbconvert_exporter": "python",
   "pygments_lexer": "ipython3",
   "version": "3.9.12"
  }
 },
 "nbformat": 4,
 "nbformat_minor": 2
}
